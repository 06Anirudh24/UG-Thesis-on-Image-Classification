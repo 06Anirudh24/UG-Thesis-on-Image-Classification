{
  "nbformat": 4,
  "nbformat_minor": 0,
  "metadata": {
    "colab": {
      "name": "Face_v_s_Food.ipynb",
      "provenance": [],
      "collapsed_sections": []
    },
    "kernelspec": {
      "name": "python3",
      "display_name": "Python 3"
    },
    "language_info": {
      "name": "python"
    },
    "accelerator": "GPU",
    "gpuClass": "standard"
  },
  "cells": [
    {
      "cell_type": "code",
      "execution_count": null,
      "metadata": {
        "colab": {
          "base_uri": "https://localhost:8080/"
        },
        "id": "yrJrnn4Jy5uT",
        "outputId": "81011c2b-9de1-4c4f-d054-8e8956eb726a"
      },
      "outputs": [
        {
          "output_type": "stream",
          "name": "stdout",
          "text": [
            "`%tensorflow_version` only switches the major version: 1.x or 2.x.\n",
            "You set: `2.x  # this line is not required unless you are in a notebook`. This will be interpreted as: `2.x`.\n",
            "\n",
            "\n",
            "TensorFlow is already loaded. Please restart the runtime to change versions.\n"
          ]
        }
      ],
      "source": [
        "%tensorflow_version 2.x  # this line is not required unless you are in a notebook\n",
        "import tensorflow as tf\n",
        "from tensorflow.keras import datasets, layers, models\n",
        "import matplotlib.pyplot as plt"
      ]
    },
    {
      "cell_type": "code",
      "source": [
        "from google.colab import drive\n",
        "from google.colab import files\n",
        "drive.mount('/content/drive')"
      ],
      "metadata": {
        "colab": {
          "base_uri": "https://localhost:8080/"
        },
        "id": "a4An9AZkzEFl",
        "outputId": "bcc815b4-4fb5-4fb7-a11d-9815f01bae34"
      },
      "execution_count": null,
      "outputs": [
        {
          "output_type": "stream",
          "name": "stdout",
          "text": [
            "Drive already mounted at /content/drive; to attempt to forcibly remount, call drive.mount(\"/content/drive\", force_remount=True).\n"
          ]
        }
      ]
    },
    {
      "cell_type": "code",
      "source": [
        "import cv2\n",
        "import glob\n",
        "from skimage.io import imread_collection\n",
        "import os\n",
        "from PIL import Image\n",
        "import numpy as np\n",
        "from google.colab.patches import cv2_imshow\n",
        "import imageio as iio\n",
        "from keras.preprocessing import image\n",
        "from keras.preprocessing.image import ImageDataGenerator\n",
        "import tensorflow as tf\n",
        "keras = tf.keras"
      ],
      "metadata": {
        "id": "bN7rHpotzFdc"
      },
      "execution_count": null,
      "outputs": []
    },
    {
      "cell_type": "code",
      "source": [
        "from tensorflow.keras.preprocessing.image import ImageDataGenerator\n",
        "from tensorflow.keras.layers import GlobalAveragePooling2D\n",
        "from tensorflow.keras.layers import BatchNormalization\n",
        "from tensorflow.keras.applications import MobileNetV2\n",
        "from tensorflow.keras.optimizers import Adam\n",
        "from tensorflow.keras.layers import Dropout\n",
        "from tensorflow.keras.layers import Dense\n",
        "from tensorflow.keras.layers import Flatten\n",
        "from tensorflow.keras import Sequential\n",
        "import matplotlib.pyplot as plt\n",
        "from tensorflow.keras.applications import DenseNet121\n",
        "from keras.applications.inception_v3 import InceptionV3, preprocess_input\n",
        "from tensorflow.keras.applications.resnet50 import ResNet50\n",
        "from keras.models import Model\n",
        "from keras.layers import Input, Conv2D, MaxPooling2D, AveragePooling2D\n",
        "from keras.layers.merge import concatenate\n",
        "from sklearn.metrics import accuracy_score, precision_score, recall_score, f1_score, plot_confusion_matrix, confusion_matrix  "
      ],
      "metadata": {
        "id": "sPzURozozFk0"
      },
      "execution_count": null,
      "outputs": []
    },
    {
      "cell_type": "markdown",
      "source": [
        "#Load Dataset\n",
        "\n"
      ],
      "metadata": {
        "id": "V-UFsILb6d5Q"
      }
    },
    {
      "cell_type": "code",
      "source": [
        "#Create labels for the images. \n",
        "tr_labels = []\n",
        "i = 677\n",
        "while(i>0):\n",
        "  tr_labels.append(np.array([1])) #1 for actual face. \n",
        "  i = i-1\n",
        "i = 446\n",
        "while(i>0):\n",
        "  tr_labels.append(np.array([0])) #0 for food. \n",
        "  i = i-1\n",
        "\n",
        "ts_labels = []\n",
        "i = 40\n",
        "while(i>0):\n",
        "  ts_labels.append(np.array([0])) #0 for food that appears as faces  \n",
        "  i = i-1"
      ],
      "metadata": {
        "id": "04RqUlys6fNP"
      },
      "execution_count": null,
      "outputs": []
    },
    {
      "cell_type": "code",
      "source": [
        "print(len(tr_labels), len(ts_labels))"
      ],
      "metadata": {
        "colab": {
          "base_uri": "https://localhost:8080/"
        },
        "id": "f5CHDZWE7XT8",
        "outputId": "13dcfb55-054e-46d3-8909-667ea322b175"
      },
      "execution_count": null,
      "outputs": [
        {
          "output_type": "stream",
          "name": "stdout",
          "text": [
            "1123 40\n"
          ]
        }
      ]
    },
    {
      "cell_type": "code",
      "source": [
        "tr_labels = np.array(tr_labels)\n",
        "tr_labels.shape\n",
        "ts_labels = np.array(ts_labels)"
      ],
      "metadata": {
        "id": "ToApKb787ZXw"
      },
      "execution_count": null,
      "outputs": []
    },
    {
      "cell_type": "code",
      "source": [
        "#Read all the images from dataset. \n",
        "tr_images = []\n",
        "for img in glob.glob(\"/content/drive/MyDrive/Data Sets - Colab/UTS Thesis/Face vs Food/Train/Face/*.jpeg\"):\n",
        "    n= cv2.imread(img)\n",
        "    n = cv2.resize(n, (224, 224))\n",
        "    tr_images.append(n)\n",
        "for img in glob.glob(\"/content/drive/MyDrive/Data Sets - Colab/UTS Thesis/Face vs Food/Train/Face/*.jpg\"):\n",
        "    n= cv2.imread(img)\n",
        "    n = cv2.resize(n, (224, 224))\n",
        "    tr_images.append(n)\n",
        "for img in glob.glob(\"/content/drive/MyDrive/Data Sets - Colab/UTS Thesis/Face vs Food/Train/Face/*.png\"):\n",
        "    n= cv2.imread(img)\n",
        "    n = cv2.resize(n, (224, 224))\n",
        "    tr_images.append(n)\n",
        "for img in glob.glob(\"/content/drive/MyDrive/Data Sets - Colab/UTS Thesis/Face vs Food/Train/Food/*.jpeg\"):\n",
        "    n= cv2.imread(img)\n",
        "    n = cv2.resize(n, (224, 224))\n",
        "    tr_images.append(n)\n",
        "for img in glob.glob(\"/content/drive/MyDrive/Data Sets - Colab/UTS Thesis/Face vs Food/Train/Food/*.jpg\"):\n",
        "    n= cv2.imread(img)\n",
        "    n = cv2.resize(n, (224, 224))\n",
        "    tr_images.append(n)\n",
        "for img in glob.glob(\"/content/drive/MyDrive/Data Sets - Colab/UTS Thesis/Face vs Food/Train/Food/*.png\"):\n",
        "    n= cv2.imread(img)\n",
        "    n = cv2.resize(n, (224, 224))\n",
        "    tr_images.append(n)\n",
        "\n",
        "\n",
        "ts_images = []\n",
        "for img in glob.glob(\"/content/drive/MyDrive/Data Sets - Colab/UTS Thesis/Face vs Food/Test/*.jpeg\"):\n",
        "    n= cv2.imread(img)\n",
        "    n = cv2.resize(n, (224, 224))\n",
        "    ts_images.append(n)\n",
        "for img in glob.glob(\"/content/drive/MyDrive/Data Sets - Colab/UTS Thesis/Face vs Food/Test/*.jpg\"):\n",
        "    n= cv2.imread(img)\n",
        "    n = cv2.resize(n, (224, 224))\n",
        "    ts_images.append(n)\n",
        "for img in glob.glob(\"/content/drive/MyDrive/Data Sets - Colab/UTS Thesis/Face vs Food/Test/*.png\"):\n",
        "    n= cv2.imread(img)\n",
        "    n = cv2.resize(n, (224, 224))\n",
        "    ts_images.append(n)\n"
      ],
      "metadata": {
        "id": "QnqxN8pm7dpj"
      },
      "execution_count": null,
      "outputs": []
    },
    {
      "cell_type": "code",
      "source": [
        "tr_images = np.array(tr_images)\n",
        "ts_images = np.array(ts_images)\n",
        "print(tr_images.shape)\n",
        "print(ts_images.shape)\n",
        "print(len(tr_labels))\n",
        "print(len(ts_labels))\n",
        "print(type(tr_labels))"
      ],
      "metadata": {
        "colab": {
          "base_uri": "https://localhost:8080/"
        },
        "id": "OgIDiO2bASnm",
        "outputId": "4ed4dbe4-450e-4dee-b765-be47973ea9ef"
      },
      "execution_count": null,
      "outputs": [
        {
          "output_type": "stream",
          "name": "stdout",
          "text": [
            "(1123, 224, 224, 3)\n",
            "(40, 224, 224, 3)\n",
            "1123\n",
            "40\n",
            "<class 'numpy.ndarray'>\n"
          ]
        }
      ]
    },
    {
      "cell_type": "code",
      "source": [
        "#Data Augmentation\n",
        "\n",
        "datagen = ImageDataGenerator(\n",
        "        featurewise_center=False,  # set input mean to 0 over the dataset\n",
        "        samplewise_center=False,  # set each sample mean to 0\n",
        "        featurewise_std_normalization=False,  # divide inputs by std of the dataset\n",
        "        samplewise_std_normalization=False,  # divide each input by its std\n",
        "        zca_whitening=False,  # apply ZCA whitening\n",
        "        rotation_range=30,  # randomly rotate images upto 180 degrees\n",
        "        shear_range=0.2,\n",
        "        zoom_range = 0.15, # randomly zoom image \n",
        "        width_shift_range=0.15,  # randomly shift images horizontally (fraction of total width)\n",
        "        height_shift_range=0.15,  # randomly shift images vertically (fraction of total height)\n",
        "        horizontal_flip=True,  # randomly flip images horizontally\n",
        "        vertical_flip=False, # randomly flip images vertically\n",
        "        fill_mode='nearest')  \n",
        "\n",
        "\n",
        "datagen.fit(tr_images)"
      ],
      "metadata": {
        "id": "9S_eGrqoAUkT"
      },
      "execution_count": null,
      "outputs": []
    },
    {
      "cell_type": "markdown",
      "source": [
        "#CNN Model"
      ],
      "metadata": {
        "id": "QenNlF1DAa0w"
      }
    },
    {
      "cell_type": "code",
      "source": [
        "model = models.Sequential()\n",
        "model.add(layers.Conv2D(32, (3, 3), activation='relu', input_shape=(224, 224, 3)))\n",
        "model.add(layers.MaxPooling2D((2, 2)))\n",
        "model.add(layers.Conv2D(64, (3, 3), activation='relu'))\n",
        "model.add(layers.MaxPooling2D((2, 2)))\n",
        "model.add(layers.Conv2D(64, (3, 3), activation='relu'))\n",
        "\n",
        "model.add(layers.Flatten())\n",
        "model.add(layers.Dense(64, activation='relu'))\n",
        "model.add(layers.Dense(2))\n",
        "\n",
        "model.summary()"
      ],
      "metadata": {
        "colab": {
          "base_uri": "https://localhost:8080/"
        },
        "id": "GUaq1UlfAhxc",
        "outputId": "180368cc-5249-4caf-9d3b-269f58fab834"
      },
      "execution_count": null,
      "outputs": [
        {
          "output_type": "stream",
          "name": "stdout",
          "text": [
            "Model: \"sequential_1\"\n",
            "_________________________________________________________________\n",
            " Layer (type)                Output Shape              Param #   \n",
            "=================================================================\n",
            " conv2d_3 (Conv2D)           (None, 222, 222, 32)      896       \n",
            "                                                                 \n",
            " max_pooling2d_2 (MaxPooling  (None, 111, 111, 32)     0         \n",
            " 2D)                                                             \n",
            "                                                                 \n",
            " conv2d_4 (Conv2D)           (None, 109, 109, 64)      18496     \n",
            "                                                                 \n",
            " max_pooling2d_3 (MaxPooling  (None, 54, 54, 64)       0         \n",
            " 2D)                                                             \n",
            "                                                                 \n",
            " conv2d_5 (Conv2D)           (None, 52, 52, 64)        36928     \n",
            "                                                                 \n",
            " flatten_1 (Flatten)         (None, 173056)            0         \n",
            "                                                                 \n",
            " dense_2 (Dense)             (None, 64)                11075648  \n",
            "                                                                 \n",
            " dense_3 (Dense)             (None, 2)                 130       \n",
            "                                                                 \n",
            "=================================================================\n",
            "Total params: 11,132,098\n",
            "Trainable params: 11,132,098\n",
            "Non-trainable params: 0\n",
            "_________________________________________________________________\n"
          ]
        }
      ]
    },
    {
      "cell_type": "code",
      "source": [
        "model.compile(optimizer='adam',\n",
        "              loss=tf.keras.losses.SparseCategoricalCrossentropy(from_logits=True),\n",
        "              metrics=['accuracy'])\n",
        "\n",
        "hist = model.fit(tr_images, tr_labels, epochs=10, \n",
        "                    validation_data=(ts_images, ts_labels))"
      ],
      "metadata": {
        "colab": {
          "base_uri": "https://localhost:8080/"
        },
        "id": "3s-4kp3iAlAe",
        "outputId": "a2cd3ba8-c9b3-48ed-adbf-96375e77b214"
      },
      "execution_count": null,
      "outputs": [
        {
          "output_type": "stream",
          "name": "stdout",
          "text": [
            "Epoch 1/10\n",
            "36/36 [==============================] - 14s 61ms/step - loss: 251.5946 - accuracy: 0.6287 - val_loss: 2.8160 - val_accuracy: 0.2500\n",
            "Epoch 2/10\n",
            "36/36 [==============================] - 2s 49ms/step - loss: 0.2955 - accuracy: 0.8994 - val_loss: 0.5814 - val_accuracy: 0.7500\n",
            "Epoch 3/10\n",
            "36/36 [==============================] - 2s 50ms/step - loss: 0.6883 - accuracy: 0.9110 - val_loss: 2.6825 - val_accuracy: 0.5750\n",
            "Epoch 4/10\n",
            "36/36 [==============================] - 2s 49ms/step - loss: 0.2697 - accuracy: 0.9154 - val_loss: 1.1341 - val_accuracy: 0.6500\n",
            "Epoch 5/10\n",
            "36/36 [==============================] - 2s 50ms/step - loss: 0.2572 - accuracy: 0.9261 - val_loss: 0.9953 - val_accuracy: 0.8500\n",
            "Epoch 6/10\n",
            "36/36 [==============================] - 2s 48ms/step - loss: 0.1298 - accuracy: 0.9617 - val_loss: 0.8224 - val_accuracy: 0.8000\n",
            "Epoch 7/10\n",
            "36/36 [==============================] - 2s 49ms/step - loss: 0.0921 - accuracy: 0.9760 - val_loss: 1.2931 - val_accuracy: 0.8750\n",
            "Epoch 8/10\n",
            "36/36 [==============================] - 2s 49ms/step - loss: 0.0578 - accuracy: 0.9875 - val_loss: 1.1540 - val_accuracy: 0.8750\n",
            "Epoch 9/10\n",
            "36/36 [==============================] - 2s 49ms/step - loss: 0.0205 - accuracy: 0.9973 - val_loss: 1.7656 - val_accuracy: 0.8250\n",
            "Epoch 10/10\n",
            "36/36 [==============================] - 2s 49ms/step - loss: 0.1511 - accuracy: 0.9386 - val_loss: 1.5009 - val_accuracy: 0.5250\n"
          ]
        }
      ]
    },
    {
      "cell_type": "code",
      "source": [
        "test_loss, test_acc = model.evaluate(ts_images,  ts_labels, verbose=2)\n",
        "print(test_acc)"
      ],
      "metadata": {
        "colab": {
          "base_uri": "https://localhost:8080/"
        },
        "id": "olZVLnNpAnke",
        "outputId": "771904a7-53b7-4455-d6af-c211cf1ae443"
      },
      "execution_count": null,
      "outputs": [
        {
          "output_type": "stream",
          "name": "stdout",
          "text": [
            "2/2 - 0s - loss: 1.5009 - accuracy: 0.5250 - 42ms/epoch - 21ms/step\n",
            "0.5249999761581421\n"
          ]
        }
      ]
    },
    {
      "cell_type": "code",
      "source": [
        "yhat_probs = model.predict(ts_images, verbose=0) # predict probabilities for test set\n",
        "print(yhat_probs)\n",
        "yhat_classes = np.argmax(yhat_probs,axis=1) #1-D array of classes\n",
        "yhat_probs = yhat_probs[:, 0] # reduce to 1d array\n",
        "\n",
        "\n",
        "accuracy = accuracy_score(ts_labels, yhat_classes)\n",
        "print('Accuracy: %f' % accuracy)\n",
        "precision = precision_score(ts_labels, yhat_classes)\n",
        "print('Precision: %f' % precision)\n",
        "recall = recall_score(ts_labels, yhat_classes)\n",
        "print('Recall: %f' % recall)\n",
        "f1 = f1_score(ts_labels, yhat_classes)\n",
        "print('F1 score: %f' % f1)\n",
        "\n",
        "matrix = confusion_matrix(ts_labels, yhat_classes)\n",
        "print(matrix)"
      ],
      "metadata": {
        "colab": {
          "base_uri": "https://localhost:8080/"
        },
        "id": "T2eCK3beBhsn",
        "outputId": "c4411224-d4b7-477d-8c6e-d12631d9168a"
      },
      "execution_count": null,
      "outputs": [
        {
          "output_type": "stream",
          "name": "stdout",
          "text": [
            "[[-1.0207621e+00  3.3273014e-01]\n",
            " [-8.5569108e-01  7.6485258e-01]\n",
            " [ 1.0494262e+00 -1.8533471e+00]\n",
            " [ 3.3600271e-01 -1.6393757e-01]\n",
            " [-5.9717499e-02 -6.6198960e-02]\n",
            " [ 1.5341399e+00 -2.0643208e+00]\n",
            " [ 2.3690047e+00 -2.6446183e+00]\n",
            " [-1.9948529e+00 -7.4521670e+00]\n",
            " [ 4.3861054e-02 -4.8700057e-02]\n",
            " [-2.8665404e+00 -4.3714318e+00]\n",
            " [-2.6823058e+00  2.3335781e+00]\n",
            " [-1.7505158e-02  3.4993723e-02]\n",
            " [ 9.3761259e-01 -5.6124389e-01]\n",
            " [ 7.6897430e-01 -3.3460817e-01]\n",
            " [-2.2260347e-01 -2.1725544e-01]\n",
            " [ 1.4154264e+00 -9.1628808e-01]\n",
            " [-1.6508985e+00  5.7228230e-02]\n",
            " [-1.4504079e+00 -1.1086867e+00]\n",
            " [-7.4426281e-01  8.2432836e-01]\n",
            " [ 2.2610002e+00 -4.8919897e+00]\n",
            " [-2.3818510e+01  8.7793961e+00]\n",
            " [-1.6347907e-02 -1.7534062e-01]\n",
            " [-4.3703657e-02  5.0901767e-02]\n",
            " [-4.4344366e-02  4.7541931e-02]\n",
            " [-4.0962882e-02  5.3028028e-02]\n",
            " [-1.0252789e+00 -6.7227179e-01]\n",
            " [-1.1080418e-02  9.8565388e-03]\n",
            " [-4.0671381e-01 -1.1077168e+00]\n",
            " [-4.8288617e-02  4.6673540e-02]\n",
            " [-6.2337494e-01 -1.8024377e+00]\n",
            " [-4.4631669e-01 -2.5339302e-01]\n",
            " [ 6.5718061e-01 -4.8921633e-01]\n",
            " [-2.0222359e+00 -1.8815955e+00]\n",
            " [-3.8122115e-01  1.9477430e-01]\n",
            " [-3.4628303e+00 -5.0423822e+00]\n",
            " [-4.8015907e-02  6.0754403e-02]\n",
            " [ 7.6120653e+00 -9.3178320e+00]\n",
            " [-5.9548847e-02 -3.2464898e-01]\n",
            " [ 6.5508395e-01 -7.8631973e-01]\n",
            " [ 1.1300684e+01 -1.8567070e+01]]\n",
            "Accuracy: 0.525000\n",
            "Precision: 0.000000\n",
            "Recall: 0.000000\n",
            "F1 score: 0.000000\n",
            "[[21 19]\n",
            " [ 0  0]]\n"
          ]
        },
        {
          "output_type": "stream",
          "name": "stderr",
          "text": [
            "/usr/local/lib/python3.7/dist-packages/sklearn/metrics/_classification.py:1318: UndefinedMetricWarning: Recall is ill-defined and being set to 0.0 due to no true samples. Use `zero_division` parameter to control this behavior.\n",
            "  _warn_prf(average, modifier, msg_start, len(result))\n"
          ]
        }
      ]
    },
    {
      "cell_type": "markdown",
      "source": [
        "#Pre-Trained MobileVNet"
      ],
      "metadata": {
        "id": "uyrNUIGPCVKY"
      }
    },
    {
      "cell_type": "code",
      "source": [
        "mobilenetV2 = MobileNetV2(input_shape=(224, 224, 3),\n",
        "                          include_top=False,\n",
        "                          weights='imagenet'\n",
        "                          )\n",
        "\n",
        "average_layer = GlobalAveragePooling2D()"
      ],
      "metadata": {
        "colab": {
          "base_uri": "https://localhost:8080/"
        },
        "id": "w8XRWNRSBhvH",
        "outputId": "42a9da7d-67a9-45ad-b1d0-c789ddd0e03b"
      },
      "execution_count": null,
      "outputs": [
        {
          "output_type": "stream",
          "name": "stdout",
          "text": [
            "Downloading data from https://storage.googleapis.com/tensorflow/keras-applications/mobilenet_v2/mobilenet_v2_weights_tf_dim_ordering_tf_kernels_1.0_224_no_top.h5\n",
            "9412608/9406464 [==============================] - 0s 0us/step\n",
            "9420800/9406464 [==============================] - 0s 0us/step\n"
          ]
        }
      ]
    },
    {
      "cell_type": "code",
      "source": [
        "model = Sequential([\n",
        "    mobilenetV2,\n",
        "    average_layer,\n",
        "    Dense(256, activation=tf.nn.relu),\n",
        "    BatchNormalization(),\n",
        "    Dropout(0.3),\n",
        "    Dense(128, activation=tf.nn.relu),\n",
        "    BatchNormalization(),\n",
        "    Dropout(0.1),\n",
        "    Dense(2, activation=tf.nn.softmax)\n",
        "])"
      ],
      "metadata": {
        "id": "MKs1y8ZZAn4f"
      },
      "execution_count": null,
      "outputs": []
    },
    {
      "cell_type": "code",
      "source": [
        "model.layers[0].trainable = False"
      ],
      "metadata": {
        "id": "Pb1sHjknCbpd"
      },
      "execution_count": null,
      "outputs": []
    },
    {
      "cell_type": "code",
      "source": [
        "model.compile(optimizer=Adam(lr=0.001),\n",
        "              loss='sparse_categorical_crossentropy',\n",
        "              metrics=['accuracy'])"
      ],
      "metadata": {
        "id": "8FEhvv_KCdV9",
        "colab": {
          "base_uri": "https://localhost:8080/"
        },
        "outputId": "4ce268c8-acdc-4b3f-8706-66a4da80883d"
      },
      "execution_count": null,
      "outputs": [
        {
          "output_type": "stream",
          "name": "stderr",
          "text": [
            "/usr/local/lib/python3.7/dist-packages/keras/optimizer_v2/adam.py:105: UserWarning: The `lr` argument is deprecated, use `learning_rate` instead.\n",
            "  super(Adam, self).__init__(name, **kwargs)\n"
          ]
        }
      ]
    },
    {
      "cell_type": "code",
      "source": [
        "def scheduler(epoch):\n",
        "    if epoch <= 2:\n",
        "        return 0.001\n",
        "    elif epoch > 2 and epoch <= 15:\n",
        "        return 0.0001 \n",
        "    else:\n",
        "        return 0.00001\n",
        "\n",
        "lr_callbacks = tf.keras.callbacks.LearningRateScheduler(scheduler)"
      ],
      "metadata": {
        "id": "P8d3TWKbCeA9"
      },
      "execution_count": null,
      "outputs": []
    },
    {
      "cell_type": "code",
      "source": [
        "hist = model.fit(x=tr_images, y = tr_labels, \n",
        "                    epochs=5, validation_data=(ts_images, ts_labels),\n",
        "                    callbacks=[lr_callbacks])"
      ],
      "metadata": {
        "id": "UNTlOo3wChpd",
        "colab": {
          "base_uri": "https://localhost:8080/"
        },
        "outputId": "09995306-ceb7-4a82-96fc-407ea3a93ce0"
      },
      "execution_count": null,
      "outputs": [
        {
          "output_type": "stream",
          "name": "stdout",
          "text": [
            "Epoch 1/5\n",
            "36/36 [==============================] - 7s 81ms/step - loss: 0.3656 - accuracy: 0.8486 - val_loss: 1.1135 - val_accuracy: 0.5000 - lr: 0.0010\n",
            "Epoch 2/5\n",
            "36/36 [==============================] - 2s 43ms/step - loss: 0.1296 - accuracy: 0.9564 - val_loss: 1.1045 - val_accuracy: 0.5250 - lr: 0.0010\n",
            "Epoch 3/5\n",
            "36/36 [==============================] - 2s 43ms/step - loss: 0.1252 - accuracy: 0.9501 - val_loss: 0.9805 - val_accuracy: 0.5750 - lr: 0.0010\n",
            "Epoch 4/5\n",
            "36/36 [==============================] - 2s 43ms/step - loss: 0.0799 - accuracy: 0.9751 - val_loss: 1.0622 - val_accuracy: 0.5750 - lr: 1.0000e-04\n",
            "Epoch 5/5\n",
            "36/36 [==============================] - 2s 43ms/step - loss: 0.0807 - accuracy: 0.9742 - val_loss: 0.9288 - val_accuracy: 0.6250 - lr: 1.0000e-04\n"
          ]
        }
      ]
    },
    {
      "cell_type": "code",
      "source": [
        "test_loss, test_acc = model.evaluate(ts_images,  ts_labels, verbose=2)\n",
        "print(test_acc)"
      ],
      "metadata": {
        "id": "tEQw0Xs9Cjct",
        "colab": {
          "base_uri": "https://localhost:8080/"
        },
        "outputId": "80f6bbf0-a0da-4a83-a3b8-91214a61b08a"
      },
      "execution_count": null,
      "outputs": [
        {
          "output_type": "stream",
          "name": "stdout",
          "text": [
            "2/2 - 0s - loss: 0.9288 - accuracy: 0.6250 - 63ms/epoch - 32ms/step\n",
            "0.625\n"
          ]
        }
      ]
    },
    {
      "cell_type": "code",
      "source": [
        "yhat_probs = model.predict(ts_images, verbose=0) # predict probabilities for test set\n",
        "print(yhat_probs)\n",
        "yhat_classes = np.argmax(yhat_probs,axis=1) #1-D array of classes\n",
        "yhat_probs = yhat_probs[:, 0] # reduce to 1d array\n",
        "\n",
        "\n",
        "accuracy = accuracy_score(ts_labels, yhat_classes)\n",
        "print('Accuracy: %f' % accuracy)\n",
        "precision = precision_score(ts_labels, yhat_classes)\n",
        "print('Precision: %f' % precision)\n",
        "recall = recall_score(ts_labels, yhat_classes)\n",
        "print('Recall: %f' % recall)\n",
        "f1 = f1_score(ts_labels, yhat_classes)\n",
        "print('F1 score: %f' % f1)\n",
        "\n",
        "matrix = confusion_matrix(ts_labels, yhat_classes)\n",
        "print(matrix)"
      ],
      "metadata": {
        "id": "GL_Y00PwCmxe",
        "colab": {
          "base_uri": "https://localhost:8080/"
        },
        "outputId": "c0b916c2-bee5-47d7-9ef6-bec2405781a9"
      },
      "execution_count": null,
      "outputs": [
        {
          "output_type": "stream",
          "name": "stdout",
          "text": [
            "[[7.2069645e-01 2.7930361e-01]\n",
            " [9.6569610e-01 3.4303911e-02]\n",
            " [9.2388397e-01 7.6116033e-02]\n",
            " [5.6942869e-02 9.4305712e-01]\n",
            " [7.2018784e-01 2.7981216e-01]\n",
            " [9.6279681e-01 3.7203133e-02]\n",
            " [6.5845579e-01 3.4154427e-01]\n",
            " [7.4904673e-02 9.2509532e-01]\n",
            " [6.3472903e-01 3.6527097e-01]\n",
            " [5.9067738e-01 4.0932262e-01]\n",
            " [8.9385867e-01 1.0614131e-01]\n",
            " [8.1555939e-01 1.8444064e-01]\n",
            " [1.9287691e-02 9.8071229e-01]\n",
            " [7.3250848e-01 2.6749149e-01]\n",
            " [1.0645776e-01 8.9354217e-01]\n",
            " [9.5777512e-01 4.2224895e-02]\n",
            " [1.1568388e-01 8.8431609e-01]\n",
            " [9.9073458e-01 9.2654442e-03]\n",
            " [2.3098604e-01 7.6901394e-01]\n",
            " [3.7071399e-02 9.6292853e-01]\n",
            " [4.3789770e-02 9.5621026e-01]\n",
            " [9.9929893e-01 7.0101139e-04]\n",
            " [9.1077977e-01 8.9220211e-02]\n",
            " [9.7959560e-01 2.0404421e-02]\n",
            " [9.8046035e-01 1.9539608e-02]\n",
            " [9.8323959e-01 1.6760373e-02]\n",
            " [9.7300094e-01 2.6999040e-02]\n",
            " [8.4316623e-01 1.5683375e-01]\n",
            " [9.8439342e-01 1.5606536e-02]\n",
            " [8.2531732e-01 1.7468265e-01]\n",
            " [1.5808010e-02 9.8419201e-01]\n",
            " [1.4311543e-01 8.5688460e-01]\n",
            " [1.9979507e-01 8.0020487e-01]\n",
            " [3.4801134e-01 6.5198863e-01]\n",
            " [7.4648613e-01 2.5351387e-01]\n",
            " [4.9972260e-01 5.0027740e-01]\n",
            " [2.3446582e-01 7.6553416e-01]\n",
            " [4.4473475e-01 5.5526519e-01]\n",
            " [9.8630559e-01 1.3694424e-02]\n",
            " [9.9862313e-01 1.3768392e-03]]\n",
            "Accuracy: 0.625000\n",
            "Precision: 0.000000\n",
            "Recall: 0.000000\n",
            "F1 score: 0.000000\n",
            "[[25 15]\n",
            " [ 0  0]]\n"
          ]
        },
        {
          "output_type": "stream",
          "name": "stderr",
          "text": [
            "/usr/local/lib/python3.7/dist-packages/sklearn/metrics/_classification.py:1318: UndefinedMetricWarning: Recall is ill-defined and being set to 0.0 due to no true samples. Use `zero_division` parameter to control this behavior.\n",
            "  _warn_prf(average, modifier, msg_start, len(result))\n"
          ]
        }
      ]
    },
    {
      "cell_type": "markdown",
      "source": [
        "#Pre-Trained VGG16"
      ],
      "metadata": {
        "id": "fxTPszpvCrYQ"
      }
    },
    {
      "cell_type": "code",
      "source": [
        "vgg16_model = tf.keras.applications.vgg16.VGG16(include_top=False, weights=\"imagenet\", input_shape=(224,224,3))"
      ],
      "metadata": {
        "colab": {
          "base_uri": "https://localhost:8080/"
        },
        "id": "uJVeQITXCqW9",
        "outputId": "a431d867-ab69-4094-bc58-a40668866db0"
      },
      "execution_count": null,
      "outputs": [
        {
          "output_type": "stream",
          "name": "stdout",
          "text": [
            "Downloading data from https://storage.googleapis.com/tensorflow/keras-applications/vgg16/vgg16_weights_tf_dim_ordering_tf_kernels_notop.h5\n",
            "58892288/58889256 [==============================] - 0s 0us/step\n",
            "58900480/58889256 [==============================] - 0s 0us/step\n"
          ]
        }
      ]
    },
    {
      "cell_type": "code",
      "source": [
        "vgg16_model.output[-1]"
      ],
      "metadata": {
        "colab": {
          "base_uri": "https://localhost:8080/"
        },
        "id": "CLMVFW0KCwzM",
        "outputId": "de231d43-2ea4-496e-c797-0f449416102b"
      },
      "execution_count": null,
      "outputs": [
        {
          "output_type": "execute_result",
          "data": {
            "text/plain": [
              "<KerasTensor: shape=(7, 7, 512) dtype=float32 (created by layer 'tf.__operators__.getitem')>"
            ]
          },
          "metadata": {},
          "execution_count": 32
        }
      ]
    },
    {
      "cell_type": "code",
      "source": [
        "model = Sequential([vgg16_model,\n",
        "                    Flatten(),\n",
        "#                     GlobalAveragePooling2D(),\n",
        "#                     Dense(512, activation = \"relu\"),\n",
        "#                     BatchNormalization(),\n",
        "#                     Dropout(0.3),\n",
        "#                     Dense(128, activation = \"relu\"),\n",
        "#                     Dropout(0.1),\n",
        "#                     # Dense(32, activation = \"relu\"),\n",
        "#                     # Dropout(0.3),\n",
        "                    Dense(2, activation = \"softmax\")])"
      ],
      "metadata": {
        "id": "HHvp0bBlCx5d"
      },
      "execution_count": null,
      "outputs": []
    },
    {
      "cell_type": "code",
      "source": [
        "model.layers[0].trainable = False\n",
        "\n",
        "model.compile(loss=\"sparse_categorical_crossentropy\", optimizer=\"adam\", metrics=\"accuracy\")"
      ],
      "metadata": {
        "id": "IJwzyr0JCzRG"
      },
      "execution_count": null,
      "outputs": []
    },
    {
      "cell_type": "code",
      "source": [
        "model.summary()"
      ],
      "metadata": {
        "colab": {
          "base_uri": "https://localhost:8080/"
        },
        "id": "Ox29sDtAC01V",
        "outputId": "2f18dfd0-7edb-45cb-acd2-d9c1791310e8"
      },
      "execution_count": null,
      "outputs": [
        {
          "output_type": "stream",
          "name": "stdout",
          "text": [
            "Model: \"sequential_3\"\n",
            "_________________________________________________________________\n",
            " Layer (type)                Output Shape              Param #   \n",
            "=================================================================\n",
            " vgg16 (Functional)          (None, 7, 7, 512)         14714688  \n",
            "                                                                 \n",
            " flatten_2 (Flatten)         (None, 25088)             0         \n",
            "                                                                 \n",
            " dense_7 (Dense)             (None, 2)                 50178     \n",
            "                                                                 \n",
            "=================================================================\n",
            "Total params: 14,764,866\n",
            "Trainable params: 50,178\n",
            "Non-trainable params: 14,714,688\n",
            "_________________________________________________________________\n"
          ]
        }
      ]
    },
    {
      "cell_type": "code",
      "source": [
        "hist = model.fit(x=tr_images, y = tr_labels, \n",
        "                    epochs=5, validation_data=(ts_images, ts_labels),\n",
        "                    callbacks=[lr_callbacks])"
      ],
      "metadata": {
        "colab": {
          "base_uri": "https://localhost:8080/"
        },
        "id": "2-naxpCCC2Dd",
        "outputId": "8cb2623f-ed57-4d2c-ae53-7e930228d3c4"
      },
      "execution_count": null,
      "outputs": [
        {
          "output_type": "stream",
          "name": "stdout",
          "text": [
            "Epoch 1/5\n",
            "36/36 [==============================] - 12s 236ms/step - loss: 0.2333 - accuracy: 0.9840 - val_loss: 1.2789 - val_accuracy: 0.9500 - lr: 0.0010\n",
            "Epoch 2/5\n",
            "36/36 [==============================] - 6s 179ms/step - loss: 0.0884 - accuracy: 0.9982 - val_loss: 4.8980 - val_accuracy: 0.9500 - lr: 0.0010\n",
            "Epoch 3/5\n",
            "36/36 [==============================] - 7s 182ms/step - loss: 0.0000e+00 - accuracy: 1.0000 - val_loss: 0.7451 - val_accuracy: 0.9750 - lr: 0.0010\n",
            "Epoch 4/5\n",
            "36/36 [==============================] - 6s 177ms/step - loss: 4.2461e-10 - accuracy: 1.0000 - val_loss: 0.7422 - val_accuracy: 0.9750 - lr: 1.0000e-04\n",
            "Epoch 5/5\n",
            "36/36 [==============================] - 6s 172ms/step - loss: 2.1231e-10 - accuracy: 1.0000 - val_loss: 0.7422 - val_accuracy: 0.9750 - lr: 1.0000e-04\n"
          ]
        }
      ]
    },
    {
      "cell_type": "code",
      "source": [
        "test_loss, test_acc = model.evaluate(ts_images,  ts_labels, verbose=2)\n",
        "print(test_acc)"
      ],
      "metadata": {
        "colab": {
          "base_uri": "https://localhost:8080/"
        },
        "id": "MetI8QwFC3hF",
        "outputId": "61dfec94-847b-4fb3-c04e-e2785c114b42"
      },
      "execution_count": null,
      "outputs": [
        {
          "output_type": "stream",
          "name": "stdout",
          "text": [
            "2/2 - 0s - loss: 0.7422 - accuracy: 0.9750 - 264ms/epoch - 132ms/step\n",
            "0.9750000238418579\n"
          ]
        }
      ]
    },
    {
      "cell_type": "code",
      "source": [
        "yhat_probs = model.predict(ts_images, verbose=0) # predict probabilities for test set\n",
        "print(yhat_probs)\n",
        "yhat_classes = np.argmax(yhat_probs,axis=1) #1-D array of classes\n",
        "yhat_probs = yhat_probs[:, 0] # reduce to 1d array\n",
        "\n",
        "\n",
        "accuracy = accuracy_score(ts_labels, yhat_classes)\n",
        "print('Accuracy: %f' % accuracy)\n",
        "precision = precision_score(ts_labels, yhat_classes)\n",
        "print('Precision: %f' % precision)\n",
        "recall = recall_score(ts_labels, yhat_classes)\n",
        "print('Recall: %f' % recall)\n",
        "f1 = f1_score(ts_labels, yhat_classes)\n",
        "print('F1 score: %f' % f1)\n",
        "\n",
        "matrix = confusion_matrix(ts_labels, yhat_classes)\n",
        "print(matrix)"
      ],
      "metadata": {
        "colab": {
          "base_uri": "https://localhost:8080/"
        },
        "id": "5mk8e8xbC5D1",
        "outputId": "2802c48c-b243-4693-dd4c-f55bb325db87"
      },
      "execution_count": null,
      "outputs": [
        {
          "output_type": "stream",
          "name": "stdout",
          "text": [
            "[[1.0000000e+00 0.0000000e+00]\n",
            " [1.0000000e+00 0.0000000e+00]\n",
            " [1.0000000e+00 0.0000000e+00]\n",
            " [1.0000000e+00 0.0000000e+00]\n",
            " [1.0000000e+00 0.0000000e+00]\n",
            " [1.0000000e+00 0.0000000e+00]\n",
            " [1.0000000e+00 0.0000000e+00]\n",
            " [1.0000000e+00 4.6484642e-23]\n",
            " [1.0000000e+00 0.0000000e+00]\n",
            " [1.0000000e+00 0.0000000e+00]\n",
            " [1.0000000e+00 0.0000000e+00]\n",
            " [1.0000000e+00 0.0000000e+00]\n",
            " [1.0000000e+00 0.0000000e+00]\n",
            " [1.0000000e+00 0.0000000e+00]\n",
            " [1.0000000e+00 0.0000000e+00]\n",
            " [1.0000000e+00 0.0000000e+00]\n",
            " [1.0000000e+00 0.0000000e+00]\n",
            " [1.0000000e+00 0.0000000e+00]\n",
            " [1.0000000e+00 0.0000000e+00]\n",
            " [1.0000000e+00 0.0000000e+00]\n",
            " [1.0000000e+00 9.6728083e-13]\n",
            " [1.0000000e+00 0.0000000e+00]\n",
            " [1.0000000e+00 0.0000000e+00]\n",
            " [1.0000000e+00 0.0000000e+00]\n",
            " [1.0000000e+00 0.0000000e+00]\n",
            " [1.0000000e+00 0.0000000e+00]\n",
            " [1.0000000e+00 0.0000000e+00]\n",
            " [1.0000000e+00 0.0000000e+00]\n",
            " [1.0000000e+00 0.0000000e+00]\n",
            " [1.0000000e+00 0.0000000e+00]\n",
            " [1.2774166e-13 1.0000000e+00]\n",
            " [1.0000000e+00 0.0000000e+00]\n",
            " [1.0000000e+00 0.0000000e+00]\n",
            " [1.0000000e+00 0.0000000e+00]\n",
            " [1.0000000e+00 0.0000000e+00]\n",
            " [1.0000000e+00 0.0000000e+00]\n",
            " [1.0000000e+00 0.0000000e+00]\n",
            " [1.0000000e+00 0.0000000e+00]\n",
            " [1.0000000e+00 1.2164027e-34]\n",
            " [1.0000000e+00 0.0000000e+00]]\n",
            "Accuracy: 0.975000\n",
            "Precision: 0.000000\n",
            "Recall: 0.000000\n",
            "F1 score: 0.000000\n",
            "[[39  1]\n",
            " [ 0  0]]\n"
          ]
        },
        {
          "output_type": "stream",
          "name": "stderr",
          "text": [
            "/usr/local/lib/python3.7/dist-packages/sklearn/metrics/_classification.py:1318: UndefinedMetricWarning: Recall is ill-defined and being set to 0.0 due to no true samples. Use `zero_division` parameter to control this behavior.\n",
            "  _warn_prf(average, modifier, msg_start, len(result))\n"
          ]
        }
      ]
    },
    {
      "cell_type": "markdown",
      "source": [
        "#Pre-Trained VGG19"
      ],
      "metadata": {
        "id": "NEh-SiJvC8Gg"
      }
    },
    {
      "cell_type": "code",
      "source": [
        "vgg19_model = tf.keras.applications.vgg19.VGG19(include_top=True, weights=\"imagenet\", input_shape=(224,224,3))"
      ],
      "metadata": {
        "colab": {
          "base_uri": "https://localhost:8080/"
        },
        "id": "fHSqlLQgC7p1",
        "outputId": "48f7b04d-bac3-4266-91b2-af4266c28802"
      },
      "execution_count": null,
      "outputs": [
        {
          "output_type": "stream",
          "name": "stdout",
          "text": [
            "Downloading data from https://storage.googleapis.com/tensorflow/keras-applications/vgg19/vgg19_weights_tf_dim_ordering_tf_kernels.h5\n",
            "574717952/574710816 [==============================] - 3s 0us/step\n",
            "574726144/574710816 [==============================] - 3s 0us/step\n"
          ]
        }
      ]
    },
    {
      "cell_type": "code",
      "source": [
        "vgg19_model.output[-1]"
      ],
      "metadata": {
        "colab": {
          "base_uri": "https://localhost:8080/"
        },
        "id": "d22v4gCwDAYV",
        "outputId": "012f8c95-8e8e-4bb7-ebdf-88b16352a2a2"
      },
      "execution_count": null,
      "outputs": [
        {
          "output_type": "execute_result",
          "data": {
            "text/plain": [
              "<KerasTensor: shape=(1000,) dtype=float32 (created by layer 'tf.__operators__.getitem_1')>"
            ]
          },
          "metadata": {},
          "execution_count": 40
        }
      ]
    },
    {
      "cell_type": "code",
      "source": [
        "model = Sequential()\n",
        "model.add(vgg19_model)\n",
        "model.add(Flatten())\n",
        "\n",
        "model.add(Dense(512, activation = \"relu\"))\n",
        "model.add(BatchNormalization())\n",
        "#model.add(Dropout(0.3))\n",
        "model.add(Dense(256, activation = \"relu\"))\n",
        "model.add(BatchNormalization())\n",
        "#model.add(Dropout(0.2))\n",
        "model.add(Dense(128, activation = \"relu\"))\n",
        "model.add(BatchNormalization())\n",
        "#model.add(Dropout(0.1))\n",
        "\n",
        "\n",
        "model.add(Dense(2,activation='softmax'))\n",
        "model.summary()"
      ],
      "metadata": {
        "colab": {
          "base_uri": "https://localhost:8080/"
        },
        "id": "54lybaljDBtW",
        "outputId": "2c51f3bd-2e47-4399-cd30-4d24bae5398c"
      },
      "execution_count": null,
      "outputs": [
        {
          "output_type": "stream",
          "name": "stdout",
          "text": [
            "Model: \"sequential_4\"\n",
            "_________________________________________________________________\n",
            " Layer (type)                Output Shape              Param #   \n",
            "=================================================================\n",
            " vgg19 (Functional)          (None, 1000)              143667240 \n",
            "                                                                 \n",
            " flatten_3 (Flatten)         (None, 1000)              0         \n",
            "                                                                 \n",
            " dense_8 (Dense)             (None, 512)               512512    \n",
            "                                                                 \n",
            " batch_normalization_2 (Batc  (None, 512)              2048      \n",
            " hNormalization)                                                 \n",
            "                                                                 \n",
            " dense_9 (Dense)             (None, 256)               131328    \n",
            "                                                                 \n",
            " batch_normalization_3 (Batc  (None, 256)              1024      \n",
            " hNormalization)                                                 \n",
            "                                                                 \n",
            " dense_10 (Dense)            (None, 128)               32896     \n",
            "                                                                 \n",
            " batch_normalization_4 (Batc  (None, 128)              512       \n",
            " hNormalization)                                                 \n",
            "                                                                 \n",
            " dense_11 (Dense)            (None, 2)                 258       \n",
            "                                                                 \n",
            "=================================================================\n",
            "Total params: 144,347,818\n",
            "Trainable params: 144,346,026\n",
            "Non-trainable params: 1,792\n",
            "_________________________________________________________________\n"
          ]
        }
      ]
    },
    {
      "cell_type": "code",
      "source": [
        "model.layers[0].trainable = False\n",
        "model.compile(loss=\"sparse_categorical_crossentropy\", optimizer=\"adam\", metrics=\"accuracy\")"
      ],
      "metadata": {
        "id": "fTnn80k8DEAN"
      },
      "execution_count": null,
      "outputs": []
    },
    {
      "cell_type": "code",
      "source": [
        "hist = model.fit(x=tr_images, y = tr_labels, \n",
        "                    epochs=10, validation_data=(ts_images, ts_labels),\n",
        "                    callbacks=[lr_callbacks])"
      ],
      "metadata": {
        "colab": {
          "base_uri": "https://localhost:8080/"
        },
        "id": "t5PCHUlcDGb9",
        "outputId": "ba69d3a8-2724-4452-f6bf-e54dcb2a842e"
      },
      "execution_count": null,
      "outputs": [
        {
          "output_type": "stream",
          "name": "stdout",
          "text": [
            "Epoch 1/10\n",
            "36/36 [==============================] - 9s 210ms/step - loss: 0.1415 - accuracy: 0.9492 - val_loss: 0.8719 - val_accuracy: 0.0000e+00 - lr: 0.0010\n",
            "Epoch 2/10\n",
            "36/36 [==============================] - 7s 204ms/step - loss: 0.0207 - accuracy: 0.9947 - val_loss: 0.8507 - val_accuracy: 0.0000e+00 - lr: 0.0010\n",
            "Epoch 3/10\n",
            "36/36 [==============================] - 7s 207ms/step - loss: 0.0193 - accuracy: 0.9947 - val_loss: 0.7257 - val_accuracy: 0.3000 - lr: 0.0010\n",
            "Epoch 4/10\n",
            "36/36 [==============================] - 8s 210ms/step - loss: 0.0089 - accuracy: 0.9964 - val_loss: 0.6358 - val_accuracy: 0.8750 - lr: 1.0000e-04\n",
            "Epoch 5/10\n",
            "36/36 [==============================] - 8s 216ms/step - loss: 0.0093 - accuracy: 0.9964 - val_loss: 0.5567 - val_accuracy: 0.9000 - lr: 1.0000e-04\n",
            "Epoch 6/10\n",
            "36/36 [==============================] - 8s 213ms/step - loss: 0.0101 - accuracy: 0.9964 - val_loss: 0.4656 - val_accuracy: 0.9250 - lr: 1.0000e-04\n",
            "Epoch 7/10\n",
            "36/36 [==============================] - 8s 211ms/step - loss: 0.0078 - accuracy: 0.9964 - val_loss: 0.3767 - val_accuracy: 0.9250 - lr: 1.0000e-04\n",
            "Epoch 8/10\n",
            "36/36 [==============================] - 8s 209ms/step - loss: 0.0069 - accuracy: 0.9991 - val_loss: 0.3010 - val_accuracy: 0.9500 - lr: 1.0000e-04\n",
            "Epoch 9/10\n",
            "36/36 [==============================] - 7s 207ms/step - loss: 0.0074 - accuracy: 0.9982 - val_loss: 0.2445 - val_accuracy: 0.9500 - lr: 1.0000e-04\n",
            "Epoch 10/10\n",
            "36/36 [==============================] - 7s 207ms/step - loss: 0.0093 - accuracy: 0.9964 - val_loss: 0.1956 - val_accuracy: 0.9500 - lr: 1.0000e-04\n"
          ]
        }
      ]
    },
    {
      "cell_type": "code",
      "source": [
        "test_loss, test_acc = model.evaluate(ts_images,  ts_labels, verbose=2)\n",
        "print(test_acc)"
      ],
      "metadata": {
        "colab": {
          "base_uri": "https://localhost:8080/"
        },
        "id": "_MGiRakXDH3l",
        "outputId": "49e82c8b-5462-4c99-9c2d-7a2d6d6fe328"
      },
      "execution_count": null,
      "outputs": [
        {
          "output_type": "stream",
          "name": "stdout",
          "text": [
            "2/2 - 0s - loss: 0.1956 - accuracy: 0.9500 - 286ms/epoch - 143ms/step\n",
            "0.949999988079071\n"
          ]
        }
      ]
    },
    {
      "cell_type": "code",
      "source": [
        "yhat_probs = model.predict(ts_images, verbose=0) # predict probabilities for test set\n",
        "print(yhat_probs)\n",
        "yhat_classes = np.argmax(yhat_probs,axis=1) #1-D array of classes\n",
        "yhat_probs = yhat_probs[:, 0] # reduce to 1d array\n",
        "\n",
        "\n",
        "accuracy = accuracy_score(ts_labels, yhat_classes)\n",
        "print('Accuracy: %f' % accuracy)\n",
        "precision = precision_score(ts_labels, yhat_classes)\n",
        "print('Precision: %f' % precision)\n",
        "recall = recall_score(ts_labels, yhat_classes)\n",
        "print('Recall: %f' % recall)\n",
        "f1 = f1_score(ts_labels, yhat_classes)\n",
        "print('F1 score: %f' % f1)\n",
        "\n",
        "matrix = confusion_matrix(ts_labels, yhat_classes)\n",
        "print(matrix)"
      ],
      "metadata": {
        "colab": {
          "base_uri": "https://localhost:8080/"
        },
        "id": "SrRpgpaWDJsl",
        "outputId": "b2a42b4e-65be-404f-bb86-06ef36040688"
      },
      "execution_count": null,
      "outputs": [
        {
          "output_type": "stream",
          "name": "stdout",
          "text": [
            "[[0.90097374 0.09902629]\n",
            " [0.9300481  0.06995189]\n",
            " [0.84474665 0.15525334]\n",
            " [0.85990894 0.14009102]\n",
            " [0.9102292  0.08977077]\n",
            " [0.95186305 0.04813693]\n",
            " [0.9285517  0.07144831]\n",
            " [0.5426651  0.45733482]\n",
            " [0.96571267 0.03428738]\n",
            " [0.9100207  0.08997931]\n",
            " [0.7001912  0.29980877]\n",
            " [0.92374754 0.07625248]\n",
            " [0.8988408  0.10115919]\n",
            " [0.96066153 0.03933845]\n",
            " [0.8231256  0.17687441]\n",
            " [0.8957328  0.10426713]\n",
            " [0.89892596 0.10107407]\n",
            " [0.81424975 0.1857502 ]\n",
            " [0.8861096  0.11389041]\n",
            " [0.9063584  0.09364158]\n",
            " [0.8753899  0.12461017]\n",
            " [0.8404787  0.1595213 ]\n",
            " [0.96739423 0.03260579]\n",
            " [0.9077466  0.09225336]\n",
            " [0.9077489  0.09225111]\n",
            " [0.8948809  0.10511913]\n",
            " [0.96909463 0.0309054 ]\n",
            " [0.89991    0.10009005]\n",
            " [0.918836   0.08116399]\n",
            " [0.87977463 0.12022536]\n",
            " [0.27564254 0.7243575 ]\n",
            " [0.21973976 0.7802602 ]\n",
            " [0.91308504 0.08691493]\n",
            " [0.8594385  0.1405615 ]\n",
            " [0.89010096 0.10989907]\n",
            " [0.88477933 0.11522061]\n",
            " [0.8810658  0.11893425]\n",
            " [0.8709853  0.12901469]\n",
            " [0.83834386 0.16165608]\n",
            " [0.7944391  0.20556092]]\n",
            "Accuracy: 0.950000\n",
            "Precision: 0.000000\n",
            "Recall: 0.000000\n",
            "F1 score: 0.000000\n",
            "[[38  2]\n",
            " [ 0  0]]\n"
          ]
        },
        {
          "output_type": "stream",
          "name": "stderr",
          "text": [
            "/usr/local/lib/python3.7/dist-packages/sklearn/metrics/_classification.py:1318: UndefinedMetricWarning: Recall is ill-defined and being set to 0.0 due to no true samples. Use `zero_division` parameter to control this behavior.\n",
            "  _warn_prf(average, modifier, msg_start, len(result))\n"
          ]
        }
      ]
    },
    {
      "cell_type": "markdown",
      "source": [
        "#DenseNet Model"
      ],
      "metadata": {
        "id": "UaH-Xhy-DNHn"
      }
    },
    {
      "cell_type": "code",
      "source": [
        "densenet = DenseNet121(weights='imagenet',\n",
        "                           include_top=False,\n",
        "                           input_shape=(224,224,3)\n",
        "                          )"
      ],
      "metadata": {
        "colab": {
          "base_uri": "https://localhost:8080/"
        },
        "id": "UsIDb148DL7O",
        "outputId": "3d04eeb3-64dd-4adf-d6f9-df65d7ab8e95"
      },
      "execution_count": null,
      "outputs": [
        {
          "output_type": "stream",
          "name": "stdout",
          "text": [
            "Downloading data from https://storage.googleapis.com/tensorflow/keras-applications/densenet/densenet121_weights_tf_dim_ordering_tf_kernels_notop.h5\n",
            "29089792/29084464 [==============================] - 0s 0us/step\n",
            "29097984/29084464 [==============================] - 0s 0us/step\n"
          ]
        }
      ]
    },
    {
      "cell_type": "code",
      "source": [
        "model = tf.keras.models.Sequential([densenet,\n",
        "                                        GlobalAveragePooling2D(),\n",
        "                                        Dense(512, activation='relu'),\n",
        "                                        BatchNormalization(),\n",
        "                                        Dropout(0.3),\n",
        "                                        Dense(256, activation='relu'),\n",
        "                                        BatchNormalization(),\n",
        "                                        Dropout(0.2),                                        \n",
        "                                        Dense(128, activation='relu'),\n",
        "                                        BatchNormalization(),\n",
        "                                        Dropout(0.1),\n",
        "                                        Dense(2, activation='softmax')\n",
        "                                      ])"
      ],
      "metadata": {
        "id": "uz3zJ9T_DP3E"
      },
      "execution_count": null,
      "outputs": []
    },
    {
      "cell_type": "code",
      "source": [
        "model.layers[0].trainable = False"
      ],
      "metadata": {
        "id": "6M8bEIEPDRN9"
      },
      "execution_count": null,
      "outputs": []
    },
    {
      "cell_type": "code",
      "source": [
        "model.compile(optimizer=Adam(lr=0.001),\n",
        "                loss='sparse_categorical_crossentropy',\n",
        "                metrics=['accuracy']\n",
        "                )"
      ],
      "metadata": {
        "colab": {
          "base_uri": "https://localhost:8080/"
        },
        "id": "x21LpPTLDSUk",
        "outputId": "1ab2b1a8-c238-4fe3-e30d-124779b39ce1"
      },
      "execution_count": null,
      "outputs": [
        {
          "output_type": "stream",
          "name": "stderr",
          "text": [
            "/usr/local/lib/python3.7/dist-packages/keras/optimizer_v2/adam.py:105: UserWarning: The `lr` argument is deprecated, use `learning_rate` instead.\n",
            "  super(Adam, self).__init__(name, **kwargs)\n"
          ]
        }
      ]
    },
    {
      "cell_type": "code",
      "source": [
        "model.summary()"
      ],
      "metadata": {
        "colab": {
          "base_uri": "https://localhost:8080/"
        },
        "id": "4zU7s199DT8c",
        "outputId": "b1f7d47b-bb75-48e8-d241-0f3287e131b9"
      },
      "execution_count": null,
      "outputs": [
        {
          "output_type": "stream",
          "name": "stdout",
          "text": [
            "Model: \"sequential_5\"\n",
            "_________________________________________________________________\n",
            " Layer (type)                Output Shape              Param #   \n",
            "=================================================================\n",
            " densenet121 (Functional)    (None, 7, 7, 1024)        7037504   \n",
            "                                                                 \n",
            " global_average_pooling2d_1   (None, 1024)             0         \n",
            " (GlobalAveragePooling2D)                                        \n",
            "                                                                 \n",
            " dense_12 (Dense)            (None, 512)               524800    \n",
            "                                                                 \n",
            " batch_normalization_5 (Batc  (None, 512)              2048      \n",
            " hNormalization)                                                 \n",
            "                                                                 \n",
            " dropout_2 (Dropout)         (None, 512)               0         \n",
            "                                                                 \n",
            " dense_13 (Dense)            (None, 256)               131328    \n",
            "                                                                 \n",
            " batch_normalization_6 (Batc  (None, 256)              1024      \n",
            " hNormalization)                                                 \n",
            "                                                                 \n",
            " dropout_3 (Dropout)         (None, 256)               0         \n",
            "                                                                 \n",
            " dense_14 (Dense)            (None, 128)               32896     \n",
            "                                                                 \n",
            " batch_normalization_7 (Batc  (None, 128)              512       \n",
            " hNormalization)                                                 \n",
            "                                                                 \n",
            " dropout_4 (Dropout)         (None, 128)               0         \n",
            "                                                                 \n",
            " dense_15 (Dense)            (None, 2)                 258       \n",
            "                                                                 \n",
            "=================================================================\n",
            "Total params: 7,730,370\n",
            "Trainable params: 691,074\n",
            "Non-trainable params: 7,039,296\n",
            "_________________________________________________________________\n"
          ]
        }
      ]
    },
    {
      "cell_type": "code",
      "source": [
        "hist = model.fit(x=tr_images, y = tr_labels, \n",
        "                    epochs=15, validation_data=(ts_images, ts_labels),\n",
        "                    callbacks=[lr_callbacks])"
      ],
      "metadata": {
        "colab": {
          "base_uri": "https://localhost:8080/"
        },
        "id": "oVKsOVEiDVJE",
        "outputId": "e8291ea3-a432-45e0-c089-bea111feb11f"
      },
      "execution_count": null,
      "outputs": [
        {
          "output_type": "stream",
          "name": "stdout",
          "text": [
            "Epoch 1/15\n",
            "36/36 [==============================] - 16s 233ms/step - loss: 0.2813 - accuracy: 0.8914 - val_loss: 0.0079 - val_accuracy: 1.0000 - lr: 0.0010\n",
            "Epoch 2/15\n",
            "36/36 [==============================] - 4s 100ms/step - loss: 0.1479 - accuracy: 0.9457 - val_loss: 0.4006 - val_accuracy: 0.8750 - lr: 0.0010\n",
            "Epoch 3/15\n",
            "36/36 [==============================] - 4s 100ms/step - loss: 0.1151 - accuracy: 0.9581 - val_loss: 0.0173 - val_accuracy: 1.0000 - lr: 0.0010\n",
            "Epoch 4/15\n",
            "36/36 [==============================] - 4s 100ms/step - loss: 0.0761 - accuracy: 0.9768 - val_loss: 0.0253 - val_accuracy: 1.0000 - lr: 1.0000e-04\n",
            "Epoch 5/15\n",
            "36/36 [==============================] - 4s 101ms/step - loss: 0.0806 - accuracy: 0.9697 - val_loss: 0.0326 - val_accuracy: 1.0000 - lr: 1.0000e-04\n",
            "Epoch 6/15\n",
            "36/36 [==============================] - 4s 102ms/step - loss: 0.0702 - accuracy: 0.9724 - val_loss: 0.0363 - val_accuracy: 1.0000 - lr: 1.0000e-04\n",
            "Epoch 7/15\n",
            "36/36 [==============================] - 4s 102ms/step - loss: 0.0584 - accuracy: 0.9751 - val_loss: 0.0268 - val_accuracy: 1.0000 - lr: 1.0000e-04\n",
            "Epoch 8/15\n",
            "36/36 [==============================] - 4s 103ms/step - loss: 0.0739 - accuracy: 0.9751 - val_loss: 0.0317 - val_accuracy: 1.0000 - lr: 1.0000e-04\n",
            "Epoch 9/15\n",
            "36/36 [==============================] - 4s 104ms/step - loss: 0.0782 - accuracy: 0.9768 - val_loss: 0.0332 - val_accuracy: 1.0000 - lr: 1.0000e-04\n",
            "Epoch 10/15\n",
            "36/36 [==============================] - 4s 103ms/step - loss: 0.0710 - accuracy: 0.9777 - val_loss: 0.0537 - val_accuracy: 0.9500 - lr: 1.0000e-04\n",
            "Epoch 11/15\n",
            "36/36 [==============================] - 4s 103ms/step - loss: 0.0637 - accuracy: 0.9760 - val_loss: 0.0603 - val_accuracy: 0.9750 - lr: 1.0000e-04\n",
            "Epoch 12/15\n",
            "36/36 [==============================] - 4s 102ms/step - loss: 0.0525 - accuracy: 0.9840 - val_loss: 0.0550 - val_accuracy: 0.9750 - lr: 1.0000e-04\n",
            "Epoch 13/15\n",
            "36/36 [==============================] - 4s 102ms/step - loss: 0.0493 - accuracy: 0.9822 - val_loss: 0.0320 - val_accuracy: 1.0000 - lr: 1.0000e-04\n",
            "Epoch 14/15\n",
            "36/36 [==============================] - 4s 101ms/step - loss: 0.0459 - accuracy: 0.9795 - val_loss: 0.0309 - val_accuracy: 1.0000 - lr: 1.0000e-04\n",
            "Epoch 15/15\n",
            "36/36 [==============================] - 4s 100ms/step - loss: 0.0463 - accuracy: 0.9822 - val_loss: 0.0312 - val_accuracy: 1.0000 - lr: 1.0000e-04\n"
          ]
        }
      ]
    },
    {
      "cell_type": "code",
      "source": [
        "test_loss, test_acc = model.evaluate(ts_images,  ts_labels, verbose=2)\n",
        "print(test_acc)"
      ],
      "metadata": {
        "colab": {
          "base_uri": "https://localhost:8080/"
        },
        "id": "WF7xjBXDDWr7",
        "outputId": "d4bef126-ec22-4e2d-daa1-c235faa691c4"
      },
      "execution_count": null,
      "outputs": [
        {
          "output_type": "stream",
          "name": "stdout",
          "text": [
            "2/2 - 0s - loss: 0.0312 - accuracy: 1.0000 - 180ms/epoch - 90ms/step\n",
            "1.0\n"
          ]
        }
      ]
    },
    {
      "cell_type": "code",
      "source": [
        "yhat_probs = model.predict(ts_images, verbose=0) # predict probabilities for test set\n",
        "print(yhat_probs)\n",
        "yhat_classes = np.argmax(yhat_probs,axis=1) #1-D array of classes\n",
        "yhat_probs = yhat_probs[:, 0] # reduce to 1d array\n",
        "\n",
        "\n",
        "accuracy = accuracy_score(ts_labels, yhat_classes)\n",
        "print('Accuracy: %f' % accuracy)\n",
        "precision = precision_score(ts_labels, yhat_classes)\n",
        "print('Precision: %f' % precision)\n",
        "recall = recall_score(ts_labels, yhat_classes)\n",
        "print('Recall: %f' % recall)\n",
        "f1 = f1_score(ts_labels, yhat_classes)\n",
        "print('F1 score: %f' % f1)\n",
        "\n",
        "matrix = confusion_matrix(ts_labels, yhat_classes)\n",
        "print(matrix)"
      ],
      "metadata": {
        "colab": {
          "base_uri": "https://localhost:8080/"
        },
        "id": "3mD3d6OWDYrE",
        "outputId": "f373f79a-83b8-4241-dab6-b4e0179369f3"
      },
      "execution_count": null,
      "outputs": [
        {
          "output_type": "stream",
          "name": "stdout",
          "text": [
            "WARNING:tensorflow:5 out of the last 9 calls to <function Model.make_predict_function.<locals>.predict_function at 0x7f432d036a70> triggered tf.function retracing. Tracing is expensive and the excessive number of tracings could be due to (1) creating @tf.function repeatedly in a loop, (2) passing tensors with different shapes, (3) passing Python objects instead of tensors. For (1), please define your @tf.function outside of the loop. For (2), @tf.function has experimental_relax_shapes=True option that relaxes argument shapes that can avoid unnecessary retracing. For (3), please refer to https://www.tensorflow.org/guide/function#controlling_retracing and https://www.tensorflow.org/api_docs/python/tf/function for  more details.\n",
            "[[9.9806076e-01 1.9392088e-03]\n",
            " [6.8761164e-01 3.1238839e-01]\n",
            " [9.9671221e-01 3.2878001e-03]\n",
            " [9.5372754e-01 4.6272453e-02]\n",
            " [9.9282998e-01 7.1700118e-03]\n",
            " [9.9997807e-01 2.1911534e-05]\n",
            " [9.9999654e-01 3.4883437e-06]\n",
            " [6.0950875e-01 3.9049122e-01]\n",
            " [9.5429909e-01 4.5700911e-02]\n",
            " [9.9953532e-01 4.6465686e-04]\n",
            " [9.9941468e-01 5.8535917e-04]\n",
            " [9.5668608e-01 4.3313909e-02]\n",
            " [9.8759902e-01 1.2400919e-02]\n",
            " [9.9998844e-01 1.1530004e-05]\n",
            " [9.9926764e-01 7.3238160e-04]\n",
            " [9.9967766e-01 3.2239873e-04]\n",
            " [9.9826837e-01 1.7316311e-03]\n",
            " [9.7871792e-01 2.1282077e-02]\n",
            " [9.8354638e-01 1.6453600e-02]\n",
            " [9.9999797e-01 2.0400869e-06]\n",
            " [8.9794666e-01 1.0205335e-01]\n",
            " [1.0000000e+00 3.6379824e-08]\n",
            " [9.9970287e-01 2.9715791e-04]\n",
            " [9.9992430e-01 7.5730233e-05]\n",
            " [9.9997139e-01 2.8660288e-05]\n",
            " [9.9709082e-01 2.9091975e-03]\n",
            " [9.9820113e-01 1.7988287e-03]\n",
            " [9.9995720e-01 4.2820011e-05]\n",
            " [1.0000000e+00 1.2628619e-09]\n",
            " [9.7522926e-01 2.4770718e-02]\n",
            " [9.9162734e-01 8.3726309e-03]\n",
            " [9.9991560e-01 8.4392494e-05]\n",
            " [9.9998951e-01 1.0471850e-05]\n",
            " [9.8437136e-01 1.5628587e-02]\n",
            " [9.9732387e-01 2.6760711e-03]\n",
            " [9.9513537e-01 4.8646908e-03]\n",
            " [9.9969888e-01 3.0116687e-04]\n",
            " [9.9996150e-01 3.8518279e-05]\n",
            " [9.9995339e-01 4.6665009e-05]\n",
            " [9.9709451e-01 2.9054566e-03]]\n",
            "Accuracy: 1.000000\n",
            "Precision: 0.000000\n",
            "Recall: 0.000000\n",
            "F1 score: 0.000000\n",
            "[[40]]\n"
          ]
        },
        {
          "output_type": "stream",
          "name": "stderr",
          "text": [
            "/usr/local/lib/python3.7/dist-packages/sklearn/metrics/_classification.py:1318: UndefinedMetricWarning: Precision is ill-defined and being set to 0.0 due to no predicted samples. Use `zero_division` parameter to control this behavior.\n",
            "  _warn_prf(average, modifier, msg_start, len(result))\n",
            "/usr/local/lib/python3.7/dist-packages/sklearn/metrics/_classification.py:1318: UndefinedMetricWarning: Recall is ill-defined and being set to 0.0 due to no true samples. Use `zero_division` parameter to control this behavior.\n",
            "  _warn_prf(average, modifier, msg_start, len(result))\n",
            "/usr/local/lib/python3.7/dist-packages/sklearn/metrics/_classification.py:1580: UndefinedMetricWarning: F-score is ill-defined and being set to 0.0 due to no true nor predicted samples. Use `zero_division` parameter to control this behavior.\n",
            "  _warn_prf(average, \"true nor predicted\", \"F-score is\", len(true_sum))\n"
          ]
        }
      ]
    },
    {
      "cell_type": "markdown",
      "source": [
        "# Inception V3"
      ],
      "metadata": {
        "id": "M9KPli5pDb7S"
      }
    },
    {
      "cell_type": "code",
      "source": [
        "inc_model = InceptionV3(weights='imagenet',include_top=False, input_shape=(224, 224, 3))"
      ],
      "metadata": {
        "colab": {
          "base_uri": "https://localhost:8080/"
        },
        "id": "1z_OF8rhDatW",
        "outputId": "373a91d8-67be-40bb-cbce-24f15c705117"
      },
      "execution_count": null,
      "outputs": [
        {
          "output_type": "stream",
          "name": "stdout",
          "text": [
            "Downloading data from https://storage.googleapis.com/tensorflow/keras-applications/inception_v3/inception_v3_weights_tf_dim_ordering_tf_kernels_notop.h5\n",
            "87916544/87910968 [==============================] - 1s 0us/step\n",
            "87924736/87910968 [==============================] - 1s 0us/step\n"
          ]
        }
      ]
    },
    {
      "cell_type": "code",
      "source": [
        "print(\"number of layers in the model : \", len(inc_model.layers))"
      ],
      "metadata": {
        "colab": {
          "base_uri": "https://localhost:8080/"
        },
        "id": "Cb-59dO-Det-",
        "outputId": "4ee84232-1af6-4823-ab3d-9fdf3140e12d"
      },
      "execution_count": null,
      "outputs": [
        {
          "output_type": "stream",
          "name": "stdout",
          "text": [
            "number of layers in the model :  311\n"
          ]
        }
      ]
    },
    {
      "cell_type": "code",
      "source": [
        "model = tf.keras.models.Sequential([inc_model,\n",
        "                                        GlobalAveragePooling2D(),\n",
        "                                    \n",
        "                                        Dense(512, activation='relu'),\n",
        "                                        BatchNormalization(),\n",
        "                                        Dropout(0.3),   \n",
        "                                                                     \n",
        "                                        Dense(2, activation='softmax')\n",
        "                                      ])"
      ],
      "metadata": {
        "id": "wmQ8pGPTDgCd"
      },
      "execution_count": null,
      "outputs": []
    },
    {
      "cell_type": "code",
      "source": [
        "model.layers[0].trainable = False"
      ],
      "metadata": {
        "id": "MTYu8M7uDhdW"
      },
      "execution_count": null,
      "outputs": []
    },
    {
      "cell_type": "code",
      "source": [
        "model.compile(optimizer=Adam(lr=0.001),\n",
        "                loss=\"sparse_categorical_crossentropy\",\n",
        "                metrics=['accuracy']\n",
        "                )"
      ],
      "metadata": {
        "colab": {
          "base_uri": "https://localhost:8080/"
        },
        "id": "UCxVFJnvDisV",
        "outputId": "6eeb7f92-8417-4bd5-f0d9-b21336f6452d"
      },
      "execution_count": null,
      "outputs": [
        {
          "output_type": "stream",
          "name": "stderr",
          "text": [
            "/usr/local/lib/python3.7/dist-packages/keras/optimizer_v2/adam.py:105: UserWarning: The `lr` argument is deprecated, use `learning_rate` instead.\n",
            "  super(Adam, self).__init__(name, **kwargs)\n"
          ]
        }
      ]
    },
    {
      "cell_type": "code",
      "source": [
        "model.summary()"
      ],
      "metadata": {
        "colab": {
          "base_uri": "https://localhost:8080/"
        },
        "id": "KsT6OmECDjot",
        "outputId": "a423a89f-f275-4079-ad6d-1fac23160ba4"
      },
      "execution_count": null,
      "outputs": [
        {
          "output_type": "stream",
          "name": "stdout",
          "text": [
            "Model: \"sequential_6\"\n",
            "_________________________________________________________________\n",
            " Layer (type)                Output Shape              Param #   \n",
            "=================================================================\n",
            " inception_v3 (Functional)   (None, 5, 5, 2048)        21802784  \n",
            "                                                                 \n",
            " global_average_pooling2d_2   (None, 2048)             0         \n",
            " (GlobalAveragePooling2D)                                        \n",
            "                                                                 \n",
            " dense_16 (Dense)            (None, 512)               1049088   \n",
            "                                                                 \n",
            " batch_normalization_102 (Ba  (None, 512)              2048      \n",
            " tchNormalization)                                               \n",
            "                                                                 \n",
            " dropout_5 (Dropout)         (None, 512)               0         \n",
            "                                                                 \n",
            " dense_17 (Dense)            (None, 2)                 1026      \n",
            "                                                                 \n",
            "=================================================================\n",
            "Total params: 22,854,946\n",
            "Trainable params: 1,051,138\n",
            "Non-trainable params: 21,803,808\n",
            "_________________________________________________________________\n"
          ]
        }
      ]
    },
    {
      "cell_type": "code",
      "source": [
        "hist = model.fit(x=tr_images, y = tr_labels, \n",
        "                    epochs=15, validation_data=(ts_images, ts_labels),\n",
        "                    callbacks=[lr_callbacks])"
      ],
      "metadata": {
        "colab": {
          "base_uri": "https://localhost:8080/"
        },
        "id": "s8mICnpHDlC1",
        "outputId": "d614967d-93fd-4db2-a42d-34d6abb0b059"
      },
      "execution_count": null,
      "outputs": [
        {
          "output_type": "stream",
          "name": "stdout",
          "text": [
            "Epoch 1/15\n",
            "36/36 [==============================] - 11s 162ms/step - loss: 0.5265 - accuracy: 0.7943 - val_loss: 0.6379 - val_accuracy: 0.8000 - lr: 0.0010\n",
            "Epoch 2/15\n",
            "36/36 [==============================] - 3s 76ms/step - loss: 0.3372 - accuracy: 0.8575 - val_loss: 0.0053 - val_accuracy: 1.0000 - lr: 0.0010\n",
            "Epoch 3/15\n",
            "36/36 [==============================] - 3s 76ms/step - loss: 0.2947 - accuracy: 0.8753 - val_loss: 0.1735 - val_accuracy: 0.9250 - lr: 0.0010\n",
            "Epoch 4/15\n",
            "36/36 [==============================] - 3s 77ms/step - loss: 0.2567 - accuracy: 0.8896 - val_loss: 0.3753 - val_accuracy: 0.8250 - lr: 1.0000e-04\n",
            "Epoch 5/15\n",
            "36/36 [==============================] - 3s 76ms/step - loss: 0.2285 - accuracy: 0.9101 - val_loss: 0.5381 - val_accuracy: 0.7750 - lr: 1.0000e-04\n",
            "Epoch 6/15\n",
            "36/36 [==============================] - 3s 77ms/step - loss: 0.2433 - accuracy: 0.9101 - val_loss: 0.5288 - val_accuracy: 0.7750 - lr: 1.0000e-04\n",
            "Epoch 7/15\n",
            "36/36 [==============================] - 3s 77ms/step - loss: 0.2231 - accuracy: 0.9110 - val_loss: 0.4399 - val_accuracy: 0.8000 - lr: 1.0000e-04\n",
            "Epoch 8/15\n",
            "36/36 [==============================] - 3s 78ms/step - loss: 0.2236 - accuracy: 0.9199 - val_loss: 0.5047 - val_accuracy: 0.8000 - lr: 1.0000e-04\n",
            "Epoch 9/15\n",
            "36/36 [==============================] - 3s 77ms/step - loss: 0.2186 - accuracy: 0.9181 - val_loss: 0.6062 - val_accuracy: 0.7500 - lr: 1.0000e-04\n",
            "Epoch 10/15\n",
            "36/36 [==============================] - 3s 78ms/step - loss: 0.2172 - accuracy: 0.9127 - val_loss: 0.5476 - val_accuracy: 0.7500 - lr: 1.0000e-04\n",
            "Epoch 11/15\n",
            "36/36 [==============================] - 3s 78ms/step - loss: 0.2062 - accuracy: 0.9261 - val_loss: 0.4632 - val_accuracy: 0.7750 - lr: 1.0000e-04\n",
            "Epoch 12/15\n",
            "36/36 [==============================] - 3s 79ms/step - loss: 0.2142 - accuracy: 0.9092 - val_loss: 0.5965 - val_accuracy: 0.7750 - lr: 1.0000e-04\n",
            "Epoch 13/15\n",
            "36/36 [==============================] - 3s 78ms/step - loss: 0.2133 - accuracy: 0.9207 - val_loss: 0.4526 - val_accuracy: 0.8000 - lr: 1.0000e-04\n",
            "Epoch 14/15\n",
            "36/36 [==============================] - 3s 78ms/step - loss: 0.1935 - accuracy: 0.9270 - val_loss: 0.6368 - val_accuracy: 0.7500 - lr: 1.0000e-04\n",
            "Epoch 15/15\n",
            "36/36 [==============================] - 3s 79ms/step - loss: 0.2070 - accuracy: 0.9163 - val_loss: 0.6016 - val_accuracy: 0.7250 - lr: 1.0000e-04\n"
          ]
        }
      ]
    },
    {
      "cell_type": "code",
      "source": [
        "test_loss, test_acc = model.evaluate(ts_images,  ts_labels, verbose=2)\n",
        "print(test_acc)"
      ],
      "metadata": {
        "colab": {
          "base_uri": "https://localhost:8080/"
        },
        "id": "e2oRbl5GDmot",
        "outputId": "73b6a3a5-d6a8-42dd-b389-586880569011"
      },
      "execution_count": null,
      "outputs": [
        {
          "output_type": "stream",
          "name": "stdout",
          "text": [
            "2/2 - 0s - loss: 0.6016 - accuracy: 0.7250 - 158ms/epoch - 79ms/step\n",
            "0.7250000238418579\n"
          ]
        }
      ]
    },
    {
      "cell_type": "code",
      "source": [
        "yhat_probs = model.predict(ts_images, verbose=0) # predict probabilities for test set\n",
        "print(yhat_probs)\n",
        "yhat_classes = np.argmax(yhat_probs,axis=1) #1-D array of classes\n",
        "yhat_probs = yhat_probs[:, 0] # reduce to 1d array\n",
        "\n",
        "\n",
        "accuracy = accuracy_score(ts_labels, yhat_classes)\n",
        "print('Accuracy: %f' % accuracy)\n",
        "precision = precision_score(ts_labels, yhat_classes)\n",
        "print('Precision: %f' % precision)\n",
        "recall = recall_score(ts_labels, yhat_classes)\n",
        "print('Recall: %f' % recall)\n",
        "f1 = f1_score(ts_labels, yhat_classes)\n",
        "print('F1 score: %f' % f1)\n",
        "\n",
        "matrix = confusion_matrix(ts_labels, yhat_classes)\n",
        "print(matrix)"
      ],
      "metadata": {
        "colab": {
          "base_uri": "https://localhost:8080/"
        },
        "id": "6RIdw9kPDoYc",
        "outputId": "9242cb9b-1150-4440-f726-2a2ec028266f"
      },
      "execution_count": null,
      "outputs": [
        {
          "output_type": "stream",
          "name": "stdout",
          "text": [
            "WARNING:tensorflow:6 out of the last 11 calls to <function Model.make_predict_function.<locals>.predict_function at 0x7f4363429050> triggered tf.function retracing. Tracing is expensive and the excessive number of tracings could be due to (1) creating @tf.function repeatedly in a loop, (2) passing tensors with different shapes, (3) passing Python objects instead of tensors. For (1), please define your @tf.function outside of the loop. For (2), @tf.function has experimental_relax_shapes=True option that relaxes argument shapes that can avoid unnecessary retracing. For (3), please refer to https://www.tensorflow.org/guide/function#controlling_retracing and https://www.tensorflow.org/api_docs/python/tf/function for  more details.\n",
            "[[0.8029661  0.1970339 ]\n",
            " [0.48399207 0.51600796]\n",
            " [0.9480964  0.05190366]\n",
            " [0.9594473  0.04055272]\n",
            " [0.75508285 0.24491712]\n",
            " [0.4891471  0.5108529 ]\n",
            " [0.9831588  0.01684119]\n",
            " [0.16293065 0.83706933]\n",
            " [0.9650944  0.03490559]\n",
            " [0.9453138  0.05468616]\n",
            " [0.08657922 0.9134208 ]\n",
            " [0.9259774  0.07402261]\n",
            " [0.3723765  0.62762356]\n",
            " [0.82094944 0.17905061]\n",
            " [0.7925403  0.20745964]\n",
            " [0.83698237 0.1630176 ]\n",
            " [0.16899672 0.83100325]\n",
            " [0.64049286 0.35950714]\n",
            " [0.56138086 0.43861914]\n",
            " [0.69965565 0.30034438]\n",
            " [0.26889575 0.7311043 ]\n",
            " [0.80509514 0.19490488]\n",
            " [0.08081509 0.91918486]\n",
            " [0.20431639 0.79568356]\n",
            " [0.40050074 0.5994992 ]\n",
            " [0.5176611  0.48233894]\n",
            " [0.16922328 0.8307767 ]\n",
            " [0.85015255 0.1498475 ]\n",
            " [0.82432646 0.1756736 ]\n",
            " [0.98357856 0.0164214 ]\n",
            " [0.60986966 0.39013037]\n",
            " [0.9032411  0.09675892]\n",
            " [0.90635735 0.09364266]\n",
            " [0.6258972  0.3741027 ]\n",
            " [0.99014777 0.00985228]\n",
            " [0.53964925 0.46035078]\n",
            " [0.52825475 0.47174522]\n",
            " [0.5929079  0.4070921 ]\n",
            " [0.67748815 0.32251185]\n",
            " [0.87744725 0.1225528 ]]\n",
            "Accuracy: 0.725000\n",
            "Precision: 0.000000\n",
            "Recall: 0.000000\n",
            "F1 score: 0.000000\n",
            "[[29 11]\n",
            " [ 0  0]]\n"
          ]
        },
        {
          "output_type": "stream",
          "name": "stderr",
          "text": [
            "/usr/local/lib/python3.7/dist-packages/sklearn/metrics/_classification.py:1318: UndefinedMetricWarning: Recall is ill-defined and being set to 0.0 due to no true samples. Use `zero_division` parameter to control this behavior.\n",
            "  _warn_prf(average, modifier, msg_start, len(result))\n"
          ]
        }
      ]
    },
    {
      "cell_type": "markdown",
      "source": [
        "#ResNet50 "
      ],
      "metadata": {
        "id": "vC92UUVzDrKw"
      }
    },
    {
      "cell_type": "code",
      "source": [
        "res = ResNet50(weights='imagenet',include_top=False, input_shape=(224, 224, 3))"
      ],
      "metadata": {
        "colab": {
          "base_uri": "https://localhost:8080/"
        },
        "id": "vVfc9zeZDqLN",
        "outputId": "f556bf53-6b47-4dbc-ba86-6bd46e810a90"
      },
      "execution_count": null,
      "outputs": [
        {
          "output_type": "stream",
          "name": "stdout",
          "text": [
            "Downloading data from https://storage.googleapis.com/tensorflow/keras-applications/resnet/resnet50_weights_tf_dim_ordering_tf_kernels_notop.h5\n",
            "94773248/94765736 [==============================] - 1s 0us/step\n",
            "94781440/94765736 [==============================] - 1s 0us/step\n"
          ]
        }
      ]
    },
    {
      "cell_type": "code",
      "source": [
        "model = tf.keras.models.Sequential([res,\n",
        "                                        GlobalAveragePooling2D(),\n",
        "                                    \n",
        "                                        Dense(512, activation='relu'),\n",
        "                                        BatchNormalization(),\n",
        "                                        Dropout(0.3),   \n",
        "                                    \n",
        "                                        Dense(256, activation='relu'),\n",
        "                                        BatchNormalization(),\n",
        "                                        Dropout(0.2),  \n",
        "                                    \n",
        "                                        Dense(128, activation='relu'),\n",
        "                                        BatchNormalization(),\n",
        "                                        Dropout(0.1),  \n",
        "                                                                     \n",
        "                                        Dense(2, activation='softmax')\n",
        "                                      ])"
      ],
      "metadata": {
        "id": "0-4RBTi5Dvmd"
      },
      "execution_count": null,
      "outputs": []
    },
    {
      "cell_type": "code",
      "source": [
        "model.layers[0].trainable = False"
      ],
      "metadata": {
        "id": "BnFESzw-D4X2"
      },
      "execution_count": null,
      "outputs": []
    },
    {
      "cell_type": "code",
      "source": [
        "model.compile(optimizer=Adam(lr=0.001),\n",
        "                loss=\"sparse_categorical_crossentropy\",\n",
        "                metrics=['accuracy']\n",
        "                )"
      ],
      "metadata": {
        "colab": {
          "base_uri": "https://localhost:8080/"
        },
        "id": "d7RTanicD6jX",
        "outputId": "685fd2df-e4bf-428a-d0dc-28cdc15f7070"
      },
      "execution_count": null,
      "outputs": [
        {
          "output_type": "stream",
          "name": "stderr",
          "text": [
            "/usr/local/lib/python3.7/dist-packages/keras/optimizer_v2/adam.py:105: UserWarning: The `lr` argument is deprecated, use `learning_rate` instead.\n",
            "  super(Adam, self).__init__(name, **kwargs)\n"
          ]
        }
      ]
    },
    {
      "cell_type": "code",
      "source": [
        "model.summary()"
      ],
      "metadata": {
        "colab": {
          "base_uri": "https://localhost:8080/"
        },
        "id": "Icf3zkeLD7B1",
        "outputId": "f207d564-6443-4b51-e975-0412230dcc9b"
      },
      "execution_count": null,
      "outputs": [
        {
          "output_type": "stream",
          "name": "stdout",
          "text": [
            "Model: \"sequential_7\"\n",
            "_________________________________________________________________\n",
            " Layer (type)                Output Shape              Param #   \n",
            "=================================================================\n",
            " resnet50 (Functional)       (None, 7, 7, 2048)        23587712  \n",
            "                                                                 \n",
            " global_average_pooling2d_3   (None, 2048)             0         \n",
            " (GlobalAveragePooling2D)                                        \n",
            "                                                                 \n",
            " dense_18 (Dense)            (None, 512)               1049088   \n",
            "                                                                 \n",
            " batch_normalization_103 (Ba  (None, 512)              2048      \n",
            " tchNormalization)                                               \n",
            "                                                                 \n",
            " dropout_6 (Dropout)         (None, 512)               0         \n",
            "                                                                 \n",
            " dense_19 (Dense)            (None, 256)               131328    \n",
            "                                                                 \n",
            " batch_normalization_104 (Ba  (None, 256)              1024      \n",
            " tchNormalization)                                               \n",
            "                                                                 \n",
            " dropout_7 (Dropout)         (None, 256)               0         \n",
            "                                                                 \n",
            " dense_20 (Dense)            (None, 128)               32896     \n",
            "                                                                 \n",
            " batch_normalization_105 (Ba  (None, 128)              512       \n",
            " tchNormalization)                                               \n",
            "                                                                 \n",
            " dropout_8 (Dropout)         (None, 128)               0         \n",
            "                                                                 \n",
            " dense_21 (Dense)            (None, 2)                 258       \n",
            "                                                                 \n",
            "=================================================================\n",
            "Total params: 24,804,866\n",
            "Trainable params: 1,215,362\n",
            "Non-trainable params: 23,589,504\n",
            "_________________________________________________________________\n"
          ]
        }
      ]
    },
    {
      "cell_type": "code",
      "source": [
        "hist = model.fit(x=tr_images, y = tr_labels, \n",
        "                    epochs=5, validation_data=(ts_images, ts_labels),\n",
        "                    callbacks=[lr_callbacks])"
      ],
      "metadata": {
        "colab": {
          "base_uri": "https://localhost:8080/"
        },
        "id": "EZy6wgMmD8Bu",
        "outputId": "699c1b8f-23dd-4c54-bb2b-20ca61731d63"
      },
      "execution_count": null,
      "outputs": [
        {
          "output_type": "stream",
          "name": "stdout",
          "text": [
            "Epoch 1/5\n",
            "36/36 [==============================] - 10s 150ms/step - loss: 0.0474 - accuracy: 0.9760 - val_loss: 0.0658 - val_accuracy: 0.9750 - lr: 0.0010\n",
            "Epoch 2/5\n",
            "36/36 [==============================] - 4s 101ms/step - loss: 0.0089 - accuracy: 0.9955 - val_loss: 0.0659 - val_accuracy: 0.9750 - lr: 0.0010\n",
            "Epoch 3/5\n",
            "36/36 [==============================] - 4s 102ms/step - loss: 0.0034 - accuracy: 1.0000 - val_loss: 0.1301 - val_accuracy: 0.9750 - lr: 0.0010\n",
            "Epoch 4/5\n",
            "36/36 [==============================] - 4s 104ms/step - loss: 0.0092 - accuracy: 0.9991 - val_loss: 0.1605 - val_accuracy: 0.9750 - lr: 1.0000e-04\n",
            "Epoch 5/5\n",
            "36/36 [==============================] - 4s 104ms/step - loss: 0.0054 - accuracy: 0.9982 - val_loss: 0.1780 - val_accuracy: 0.9750 - lr: 1.0000e-04\n"
          ]
        }
      ]
    },
    {
      "cell_type": "code",
      "source": [
        "test_loss, test_acc = model.evaluate(ts_images,  ts_labels, verbose=2)\n",
        "print(test_acc)"
      ],
      "metadata": {
        "colab": {
          "base_uri": "https://localhost:8080/"
        },
        "id": "1Z-bLHDWD9gd",
        "outputId": "208dc21e-96bf-442b-fe7f-c6f2de4c842c"
      },
      "execution_count": null,
      "outputs": [
        {
          "output_type": "stream",
          "name": "stdout",
          "text": [
            "2/2 - 0s - loss: 0.1780 - accuracy: 0.9750 - 179ms/epoch - 89ms/step\n",
            "0.9750000238418579\n"
          ]
        }
      ]
    },
    {
      "cell_type": "code",
      "source": [
        "yhat_probs = model.predict(ts_images, verbose=0) # predict probabilities for test set\n",
        "print(yhat_probs)\n",
        "yhat_classes = np.argmax(yhat_probs,axis=1) #1-D array of classes\n",
        "yhat_probs = yhat_probs[:, 0] # reduce to 1d array\n",
        "\n",
        "\n",
        "accuracy = accuracy_score(ts_labels, yhat_classes)\n",
        "print('Accuracy: %f' % accuracy)\n",
        "precision = precision_score(ts_labels, yhat_classes)\n",
        "print('Precision: %f' % precision)\n",
        "recall = recall_score(ts_labels, yhat_classes)\n",
        "print('Recall: %f' % recall)\n",
        "f1 = f1_score(ts_labels, yhat_classes)\n",
        "print('F1 score: %f' % f1)\n",
        "\n",
        "matrix = confusion_matrix(ts_labels, yhat_classes)\n",
        "print(matrix)"
      ],
      "metadata": {
        "colab": {
          "base_uri": "https://localhost:8080/"
        },
        "id": "TPT6WNPvD_WN",
        "outputId": "b61ecafc-0f3f-44b3-ef1f-33a5e5bcc311"
      },
      "execution_count": null,
      "outputs": [
        {
          "output_type": "stream",
          "name": "stdout",
          "text": [
            "[[9.99964476e-01 3.54786171e-05]\n",
            " [9.99699473e-01 3.00501153e-04]\n",
            " [9.99918342e-01 8.16123429e-05]\n",
            " [9.99996543e-01 3.42849580e-06]\n",
            " [9.99997735e-01 2.27045462e-06]\n",
            " [9.99999285e-01 7.01013334e-07]\n",
            " [1.00000000e+00 9.15822440e-09]\n",
            " [9.99857545e-01 1.42393823e-04]\n",
            " [9.99995947e-01 4.07468451e-06]\n",
            " [1.00000000e+00 3.17341015e-10]\n",
            " [9.99984145e-01 1.58245348e-05]\n",
            " [9.99999404e-01 5.62978244e-07]\n",
            " [9.99999881e-01 6.25440464e-08]\n",
            " [9.99999285e-01 7.50575737e-07]\n",
            " [9.99971867e-01 2.81457396e-05]\n",
            " [1.00000000e+00 4.33477698e-09]\n",
            " [9.99999762e-01 2.60708049e-07]\n",
            " [1.00000000e+00 4.97652197e-10]\n",
            " [9.99999762e-01 1.96905034e-07]\n",
            " [9.99898076e-01 1.01886006e-04]\n",
            " [9.99955058e-01 4.49548243e-05]\n",
            " [9.99999881e-01 1.66804170e-07]\n",
            " [9.99999881e-01 1.45932873e-07]\n",
            " [1.00000000e+00 4.34799308e-09]\n",
            " [9.99999762e-01 2.34979737e-07]\n",
            " [1.00000000e+00 5.91248899e-08]\n",
            " [9.99995351e-01 4.70684063e-06]\n",
            " [9.99999523e-01 5.14596991e-07]\n",
            " [1.00000000e+00 1.10020117e-08]\n",
            " [9.99967337e-01 3.26405461e-05]\n",
            " [8.08283454e-04 9.99191701e-01]\n",
            " [9.99980092e-01 1.98842354e-05]\n",
            " [1.00000000e+00 6.53266552e-09]\n",
            " [1.00000000e+00 2.06978612e-08]\n",
            " [1.00000000e+00 1.00534123e-08]\n",
            " [9.99973297e-01 2.66881216e-05]\n",
            " [9.99999762e-01 1.92391056e-07]\n",
            " [9.99998093e-01 1.95208941e-06]\n",
            " [9.99998927e-01 1.05389199e-06]\n",
            " [9.99997973e-01 1.97021586e-06]]\n",
            "Accuracy: 0.975000\n",
            "Precision: 0.000000\n",
            "Recall: 0.000000\n",
            "F1 score: 0.000000\n",
            "[[39  1]\n",
            " [ 0  0]]\n"
          ]
        },
        {
          "output_type": "stream",
          "name": "stderr",
          "text": [
            "/usr/local/lib/python3.7/dist-packages/sklearn/metrics/_classification.py:1318: UndefinedMetricWarning: Recall is ill-defined and being set to 0.0 due to no true samples. Use `zero_division` parameter to control this behavior.\n",
            "  _warn_prf(average, modifier, msg_start, len(result))\n"
          ]
        }
      ]
    },
    {
      "cell_type": "markdown",
      "source": [
        "#SSD Classifier"
      ],
      "metadata": {
        "id": "ifKKGl-NECRQ"
      }
    },
    {
      "cell_type": "code",
      "source": [
        "model = Sequential()\n",
        "\n",
        "model.add(Conv2D(32, (3, 3), padding = \"same\", activation='relu', input_shape=(224, 224, 3)))\n",
        "model.add(Conv2D(64, (3, 3), activation='relu'))\n",
        "model.add(Conv2D(128, (3, 3), activation='relu'))\n",
        "model.add(MaxPooling2D(pool_size=(2,2)))\n",
        "model.add(Dropout(0.25))\n",
        " \n",
        "model.add(Flatten())\n",
        "model.add(Dropout(0.5))\n",
        "model.add(Dense(50, activation='relu'))\n",
        "model.add(Dropout(0.5))\n",
        "model.add(Dense(2, activation='softmax'))"
      ],
      "metadata": {
        "id": "zAt6aIgyEBfO"
      },
      "execution_count": null,
      "outputs": []
    },
    {
      "cell_type": "code",
      "source": [
        "model.compile(optimizer=Adam(lr=0.001),\n",
        "                loss='sparse_categorical_crossentropy',\n",
        "                metrics=['accuracy']\n",
        "                )"
      ],
      "metadata": {
        "colab": {
          "base_uri": "https://localhost:8080/"
        },
        "id": "EHhBGGb9EE0E",
        "outputId": "8b2ba6c3-1784-41c3-9b2a-20e91471ba51"
      },
      "execution_count": null,
      "outputs": [
        {
          "output_type": "stream",
          "name": "stderr",
          "text": [
            "/usr/local/lib/python3.7/dist-packages/keras/optimizer_v2/adam.py:105: UserWarning: The `lr` argument is deprecated, use `learning_rate` instead.\n",
            "  super(Adam, self).__init__(name, **kwargs)\n"
          ]
        }
      ]
    },
    {
      "cell_type": "code",
      "source": [
        "model.summary()"
      ],
      "metadata": {
        "colab": {
          "base_uri": "https://localhost:8080/"
        },
        "id": "k3Z_2-IJEF8G",
        "outputId": "f306af56-51e2-41fa-dbb3-604fe9ae2190"
      },
      "execution_count": null,
      "outputs": [
        {
          "output_type": "stream",
          "name": "stdout",
          "text": [
            "Model: \"sequential_8\"\n",
            "_________________________________________________________________\n",
            " Layer (type)                Output Shape              Param #   \n",
            "=================================================================\n",
            " conv2d_100 (Conv2D)         (None, 224, 224, 32)      896       \n",
            "                                                                 \n",
            " conv2d_101 (Conv2D)         (None, 222, 222, 64)      18496     \n",
            "                                                                 \n",
            " conv2d_102 (Conv2D)         (None, 220, 220, 128)     73856     \n",
            "                                                                 \n",
            " max_pooling2d_8 (MaxPooling  (None, 110, 110, 128)    0         \n",
            " 2D)                                                             \n",
            "                                                                 \n",
            " dropout_9 (Dropout)         (None, 110, 110, 128)     0         \n",
            "                                                                 \n",
            " flatten_4 (Flatten)         (None, 1548800)           0         \n",
            "                                                                 \n",
            " dropout_10 (Dropout)        (None, 1548800)           0         \n",
            "                                                                 \n",
            " dense_22 (Dense)            (None, 50)                77440050  \n",
            "                                                                 \n",
            " dropout_11 (Dropout)        (None, 50)                0         \n",
            "                                                                 \n",
            " dense_23 (Dense)            (None, 2)                 102       \n",
            "                                                                 \n",
            "=================================================================\n",
            "Total params: 77,533,400\n",
            "Trainable params: 77,533,400\n",
            "Non-trainable params: 0\n",
            "_________________________________________________________________\n"
          ]
        }
      ]
    },
    {
      "cell_type": "code",
      "source": [
        "hist = model.fit(x=tr_images, y = tr_labels, \n",
        "                    epochs=10, validation_data=(ts_images, ts_labels),\n",
        "                    callbacks=[lr_callbacks])"
      ],
      "metadata": {
        "colab": {
          "base_uri": "https://localhost:8080/"
        },
        "id": "sE2H_vPYEGzN",
        "outputId": "fced4780-f742-4dd9-a1f9-92b44b291bce"
      },
      "execution_count": null,
      "outputs": [
        {
          "output_type": "stream",
          "name": "stdout",
          "text": [
            "Epoch 1/10\n",
            "36/36 [==============================] - 16s 326ms/step - loss: 492.7135 - accuracy: 0.6955 - val_loss: 0.2959 - val_accuracy: 0.6250 - lr: 0.0010\n",
            "Epoch 2/10\n",
            "36/36 [==============================] - 10s 288ms/step - loss: 0.7078 - accuracy: 0.7320 - val_loss: 0.4367 - val_accuracy: 0.4750 - lr: 0.0010\n",
            "Epoch 3/10\n",
            "36/36 [==============================] - 10s 286ms/step - loss: 0.4401 - accuracy: 0.8130 - val_loss: 0.0015 - val_accuracy: 1.0000 - lr: 0.0010\n",
            "Epoch 4/10\n",
            "36/36 [==============================] - 10s 283ms/step - loss: 0.9218 - accuracy: 0.8175 - val_loss: 0.1316 - val_accuracy: 0.9750 - lr: 1.0000e-04\n",
            "Epoch 5/10\n",
            "36/36 [==============================] - 10s 283ms/step - loss: 0.3398 - accuracy: 0.8896 - val_loss: 0.1395 - val_accuracy: 0.9750 - lr: 1.0000e-04\n",
            "Epoch 6/10\n",
            "36/36 [==============================] - 10s 283ms/step - loss: 0.2680 - accuracy: 0.9012 - val_loss: 0.1061 - val_accuracy: 0.9750 - lr: 1.0000e-04\n",
            "Epoch 7/10\n",
            "36/36 [==============================] - 10s 282ms/step - loss: 0.2094 - accuracy: 0.9127 - val_loss: 0.1350 - val_accuracy: 0.9750 - lr: 1.0000e-04\n",
            "Epoch 8/10\n",
            "36/36 [==============================] - 10s 284ms/step - loss: 0.1742 - accuracy: 0.9368 - val_loss: 0.1259 - val_accuracy: 0.9750 - lr: 1.0000e-04\n",
            "Epoch 9/10\n",
            "36/36 [==============================] - 10s 284ms/step - loss: 0.1621 - accuracy: 0.9350 - val_loss: 0.1696 - val_accuracy: 0.9500 - lr: 1.0000e-04\n",
            "Epoch 10/10\n",
            "36/36 [==============================] - 10s 285ms/step - loss: 0.1554 - accuracy: 0.9377 - val_loss: 0.1082 - val_accuracy: 0.9500 - lr: 1.0000e-04\n"
          ]
        }
      ]
    },
    {
      "cell_type": "code",
      "source": [
        "test_loss, test_acc = model.evaluate(ts_images,  ts_labels, verbose=2)\n",
        "print(test_acc)"
      ],
      "metadata": {
        "colab": {
          "base_uri": "https://localhost:8080/"
        },
        "id": "CrjAE0N6EIPc",
        "outputId": "12649b32-8f83-4f1c-9836-7ea4e6c0297f"
      },
      "execution_count": null,
      "outputs": [
        {
          "output_type": "stream",
          "name": "stdout",
          "text": [
            "2/2 - 0s - loss: 0.1082 - accuracy: 0.9500 - 167ms/epoch - 84ms/step\n",
            "0.949999988079071\n"
          ]
        }
      ]
    },
    {
      "cell_type": "code",
      "source": [
        "yhat_probs = model.predict(ts_images, verbose=0) # predict probabilities for test set\n",
        "print(yhat_probs)\n",
        "yhat_classes = np.argmax(yhat_probs,axis=1) #1-D array of classes\n",
        "yhat_probs = yhat_probs[:, 0] # reduce to 1d array\n",
        "\n",
        "\n",
        "accuracy = accuracy_score(ts_labels, yhat_classes)\n",
        "print('Accuracy: %f' % accuracy)\n",
        "precision = precision_score(ts_labels, yhat_classes)\n",
        "print('Precision: %f' % precision)\n",
        "recall = recall_score(ts_labels, yhat_classes)\n",
        "print('Recall: %f' % recall)\n",
        "f1 = f1_score(ts_labels, yhat_classes)\n",
        "print('F1 score: %f' % f1)\n",
        "\n",
        "matrix = confusion_matrix(ts_labels, yhat_classes)\n",
        "print(matrix)"
      ],
      "metadata": {
        "colab": {
          "base_uri": "https://localhost:8080/"
        },
        "id": "G1p6wkUfEKcV",
        "outputId": "68d52856-54e1-4dde-b7eb-9980bbd8cd57"
      },
      "execution_count": null,
      "outputs": [
        {
          "output_type": "stream",
          "name": "stdout",
          "text": [
            "[[4.5649245e-01 5.4350752e-01]\n",
            " [1.0000000e+00 2.5582757e-14]\n",
            " [1.0000000e+00 1.6247316e-10]\n",
            " [9.9996328e-01 3.6725069e-05]\n",
            " [1.0000000e+00 5.7556049e-10]\n",
            " [1.0000000e+00 4.9200211e-27]\n",
            " [1.0000000e+00 1.4781114e-17]\n",
            " [8.7176166e-02 9.1282380e-01]\n",
            " [1.0000000e+00 6.3588312e-10]\n",
            " [1.0000000e+00 7.1784091e-21]\n",
            " [1.0000000e+00 6.1154230e-30]\n",
            " [1.0000000e+00 1.4758854e-10]\n",
            " [9.9996662e-01 3.3391792e-05]\n",
            " [1.0000000e+00 1.1598295e-31]\n",
            " [1.0000000e+00 2.3703741e-09]\n",
            " [1.0000000e+00 1.5138350e-15]\n",
            " [9.6511281e-01 3.4887202e-02]\n",
            " [1.0000000e+00 1.1244961e-25]\n",
            " [1.0000000e+00 1.4768589e-11]\n",
            " [1.0000000e+00 4.0808919e-21]\n",
            " [5.7070953e-01 4.2929053e-01]\n",
            " [1.0000000e+00 2.2001447e-33]\n",
            " [9.9997914e-01 2.0909547e-05]\n",
            " [1.0000000e+00 3.6458610e-11]\n",
            " [1.0000000e+00 0.0000000e+00]\n",
            " [9.9996054e-01 3.9488692e-05]\n",
            " [1.0000000e+00 5.6417343e-20]\n",
            " [1.0000000e+00 0.0000000e+00]\n",
            " [1.0000000e+00 3.2387829e-15]\n",
            " [8.1934685e-01 1.8065317e-01]\n",
            " [7.8433448e-01 2.1566553e-01]\n",
            " [1.0000000e+00 2.5283684e-15]\n",
            " [9.9996150e-01 3.8448074e-05]\n",
            " [1.0000000e+00 0.0000000e+00]\n",
            " [9.9999988e-01 1.4517954e-07]\n",
            " [1.0000000e+00 0.0000000e+00]\n",
            " [9.4077486e-01 5.9225183e-02]\n",
            " [1.0000000e+00 0.0000000e+00]\n",
            " [9.9508011e-01 4.9198768e-03]\n",
            " [1.0000000e+00 1.7514461e-19]]\n",
            "Accuracy: 0.950000\n",
            "Precision: 0.000000\n",
            "Recall: 0.000000\n",
            "F1 score: 0.000000\n",
            "[[38  2]\n",
            " [ 0  0]]\n"
          ]
        },
        {
          "output_type": "stream",
          "name": "stderr",
          "text": [
            "/usr/local/lib/python3.7/dist-packages/sklearn/metrics/_classification.py:1318: UndefinedMetricWarning: Recall is ill-defined and being set to 0.0 due to no true samples. Use `zero_division` parameter to control this behavior.\n",
            "  _warn_prf(average, modifier, msg_start, len(result))\n"
          ]
        }
      ]
    },
    {
      "cell_type": "markdown",
      "source": [
        "#AlexNet"
      ],
      "metadata": {
        "id": "pODh5K45EMfo"
      }
    },
    {
      "cell_type": "code",
      "source": [
        "model=Sequential()\n",
        "\n",
        "#1 conv layer\n",
        "model.add(Conv2D(filters=96,kernel_size=(11,11),strides=(4,4),padding=\"valid\",activation=\"relu\",input_shape=(224,224,3)))\n",
        "\n",
        "#1 max pool layer\n",
        "model.add(MaxPooling2D(pool_size=(3,3),strides=(2,2)))\n",
        "\n",
        "model.add(BatchNormalization())\n",
        "\n",
        "#2 conv layer\n",
        "model.add(Conv2D(filters=256,kernel_size=(5,5),strides=(1,1),padding=\"valid\",activation=\"relu\"))\n",
        "\n",
        "#2 max pool layer\n",
        "model.add(MaxPooling2D(pool_size=(3,3),strides=(2,2)))\n",
        "\n",
        "model.add(BatchNormalization())\n",
        "\n",
        "#3 conv layer\n",
        "model.add(Conv2D(filters=384,kernel_size=(3,3),strides=(1,1),padding=\"valid\",activation=\"relu\"))\n",
        "\n",
        "#4 conv layer\n",
        "model.add(Conv2D(filters=384,kernel_size=(3,3),strides=(1,1),padding=\"valid\",activation=\"relu\"))\n",
        "\n",
        "#5 conv layer\n",
        "model.add(Conv2D(filters=256,kernel_size=(3,3),strides=(1,1),padding=\"valid\",activation=\"relu\"))\n",
        "\n",
        "#3 max pool layer\n",
        "model.add(MaxPooling2D(pool_size=(3,3),strides=(2,2)))\n",
        "\n",
        "model.add(BatchNormalization())\n",
        "\n",
        "\n",
        "model.add(Flatten())\n",
        "\n",
        "#1 dense layer\n",
        "model.add(Dense(4096,input_shape=(227,227,3),activation=\"relu\"))\n",
        "\n",
        "model.add(Dropout(0.4))\n",
        "\n",
        "model.add(BatchNormalization())\n",
        "\n",
        "#2 dense layer\n",
        "model.add(Dense(4096,activation=\"relu\"))\n",
        "\n",
        "model.add(Dropout(0.4))\n",
        "\n",
        "model.add(BatchNormalization())\n",
        "\n",
        "#3 dense layer\n",
        "model.add(Dense(1000,activation=\"relu\"))\n",
        "\n",
        "model.add(Dropout(0.4))\n",
        "\n",
        "model.add(BatchNormalization())\n",
        "\n",
        "#output layer\n",
        "model.add(Dense(2,activation=\"softmax\"))"
      ],
      "metadata": {
        "id": "ZxPEmJzcELjs"
      },
      "execution_count": null,
      "outputs": []
    },
    {
      "cell_type": "code",
      "source": [
        "model.compile(optimizer=Adam(lr=0.001),\n",
        "                loss=\"sparse_categorical_crossentropy\",\n",
        "                metrics=['accuracy']\n",
        "                )"
      ],
      "metadata": {
        "colab": {
          "base_uri": "https://localhost:8080/"
        },
        "id": "G7z17tzKEPbM",
        "outputId": "c306a8eb-1900-4178-dace-40712e7352c9"
      },
      "execution_count": null,
      "outputs": [
        {
          "output_type": "stream",
          "name": "stderr",
          "text": [
            "/usr/local/lib/python3.7/dist-packages/keras/optimizer_v2/adam.py:105: UserWarning: The `lr` argument is deprecated, use `learning_rate` instead.\n",
            "  super(Adam, self).__init__(name, **kwargs)\n"
          ]
        }
      ]
    },
    {
      "cell_type": "code",
      "source": [
        "hist = model.fit(x=tr_images, y = tr_labels, \n",
        "                    epochs=10, validation_data=(ts_images, ts_labels),\n",
        "                    callbacks=[lr_callbacks])"
      ],
      "metadata": {
        "colab": {
          "base_uri": "https://localhost:8080/"
        },
        "id": "5lxj7Qq_EQds",
        "outputId": "ef080c46-d650-4a6a-a5b0-8b7a33642dac"
      },
      "execution_count": null,
      "outputs": [
        {
          "output_type": "stream",
          "name": "stdout",
          "text": [
            "Epoch 1/10\n",
            "36/36 [==============================] - 4s 59ms/step - loss: 0.7554 - accuracy: 0.8130 - val_loss: 0.0000e+00 - val_accuracy: 1.0000 - lr: 0.0010\n",
            "Epoch 2/10\n",
            "36/36 [==============================] - 1s 31ms/step - loss: 0.3316 - accuracy: 0.8833 - val_loss: 7.1226 - val_accuracy: 0.2500 - lr: 0.0010\n",
            "Epoch 3/10\n",
            "36/36 [==============================] - 1s 31ms/step - loss: 0.3267 - accuracy: 0.8825 - val_loss: 0.9416 - val_accuracy: 0.6750 - lr: 0.0010\n",
            "Epoch 4/10\n",
            "36/36 [==============================] - 1s 31ms/step - loss: 0.2057 - accuracy: 0.9261 - val_loss: 0.6070 - val_accuracy: 0.6750 - lr: 1.0000e-04\n",
            "Epoch 5/10\n",
            "36/36 [==============================] - 1s 30ms/step - loss: 0.1653 - accuracy: 0.9332 - val_loss: 0.7963 - val_accuracy: 0.6500 - lr: 1.0000e-04\n",
            "Epoch 6/10\n",
            "36/36 [==============================] - 1s 31ms/step - loss: 0.1517 - accuracy: 0.9386 - val_loss: 0.3293 - val_accuracy: 0.8750 - lr: 1.0000e-04\n",
            "Epoch 7/10\n",
            "36/36 [==============================] - 1s 31ms/step - loss: 0.1478 - accuracy: 0.9439 - val_loss: 0.2529 - val_accuracy: 0.9000 - lr: 1.0000e-04\n",
            "Epoch 8/10\n",
            "36/36 [==============================] - 1s 30ms/step - loss: 0.1260 - accuracy: 0.9519 - val_loss: 0.3296 - val_accuracy: 0.8750 - lr: 1.0000e-04\n",
            "Epoch 9/10\n",
            "36/36 [==============================] - 1s 31ms/step - loss: 0.1147 - accuracy: 0.9608 - val_loss: 0.4744 - val_accuracy: 0.8000 - lr: 1.0000e-04\n",
            "Epoch 10/10\n",
            "36/36 [==============================] - 1s 31ms/step - loss: 0.1207 - accuracy: 0.9564 - val_loss: 0.7455 - val_accuracy: 0.7250 - lr: 1.0000e-04\n"
          ]
        }
      ]
    },
    {
      "cell_type": "code",
      "source": [
        "test_loss, test_acc = model.evaluate(ts_images,  ts_labels, verbose=2)\n",
        "print(test_acc)"
      ],
      "metadata": {
        "colab": {
          "base_uri": "https://localhost:8080/"
        },
        "id": "hAOd-YLnER2E",
        "outputId": "62064f4d-439e-4103-ef37-81e73cefc05e"
      },
      "execution_count": null,
      "outputs": [
        {
          "output_type": "stream",
          "name": "stdout",
          "text": [
            "2/2 - 0s - loss: 0.7455 - accuracy: 0.7250 - 36ms/epoch - 18ms/step\n",
            "0.7250000238418579\n"
          ]
        }
      ]
    },
    {
      "cell_type": "code",
      "source": [
        "yhat_probs = model.predict(ts_images, verbose=0) # predict probabilities for test set\n",
        "print(yhat_probs)\n",
        "yhat_classes = np.argmax(yhat_probs,axis=1) #1-D array of classes\n",
        "yhat_probs = yhat_probs[:, 0] # reduce to 1d array\n",
        "\n",
        "\n",
        "accuracy = accuracy_score(ts_labels, yhat_classes)\n",
        "print('Accuracy: %f' % accuracy)\n",
        "precision = precision_score(ts_labels, yhat_classes)\n",
        "print('Precision: %f' % precision)\n",
        "recall = recall_score(ts_labels, yhat_classes)\n",
        "print('Recall: %f' % recall)\n",
        "f1 = f1_score(ts_labels, yhat_classes)\n",
        "print('F1 score: %f' % f1)\n",
        "\n",
        "matrix = confusion_matrix(ts_labels, yhat_classes)\n",
        "print(matrix)"
      ],
      "metadata": {
        "colab": {
          "base_uri": "https://localhost:8080/"
        },
        "id": "C7hJBmV2ETMt",
        "outputId": "3d1bad49-272d-4cd4-8ada-e6f55db1dc6c"
      },
      "execution_count": null,
      "outputs": [
        {
          "output_type": "stream",
          "name": "stdout",
          "text": [
            "[[9.5796847e-01 4.2031575e-02]\n",
            " [2.4541335e-02 9.7545868e-01]\n",
            " [9.9751377e-01 2.4862876e-03]\n",
            " [9.9799782e-01 2.0021363e-03]\n",
            " [9.9931622e-01 6.8384543e-04]\n",
            " [9.7678065e-01 2.3219356e-02]\n",
            " [9.9758077e-01 2.4192391e-03]\n",
            " [1.0026219e-01 8.9973778e-01]\n",
            " [4.7456499e-02 9.5254356e-01]\n",
            " [9.9777043e-01 2.2295562e-03]\n",
            " [4.4690812e-01 5.5309194e-01]\n",
            " [8.4616202e-01 1.5383802e-01]\n",
            " [9.9979502e-01 2.0501745e-04]\n",
            " [9.9996817e-01 3.1846375e-05]\n",
            " [8.5264742e-01 1.4735252e-01]\n",
            " [9.4757122e-01 5.2428804e-02]\n",
            " [9.8712212e-01 1.2877912e-02]\n",
            " [5.4075944e-01 4.5924053e-01]\n",
            " [3.5857296e-01 6.4142704e-01]\n",
            " [9.9914277e-01 8.5719221e-04]\n",
            " [6.5431967e-03 9.9345678e-01]\n",
            " [9.9999964e-01 3.1256451e-07]\n",
            " [9.5352393e-01 4.6476066e-02]\n",
            " [9.7529966e-01 2.4700299e-02]\n",
            " [4.3213564e-01 5.6786436e-01]\n",
            " [6.7902952e-01 3.2097048e-01]\n",
            " [9.2099667e-01 7.9003364e-02]\n",
            " [9.4325352e-01 5.6746561e-02]\n",
            " [9.9837106e-01 1.6289381e-03]\n",
            " [7.3355299e-01 2.6644707e-01]\n",
            " [3.2029310e-01 6.7970687e-01]\n",
            " [8.8118654e-01 1.1881342e-01]\n",
            " [9.9937361e-01 6.2640762e-04]\n",
            " [8.5932255e-01 1.4067747e-01]\n",
            " [9.1654176e-01 8.3458304e-02]\n",
            " [9.0682459e-01 9.3175404e-02]\n",
            " [7.6800482e-03 9.9231988e-01]\n",
            " [9.3544763e-01 6.4552344e-02]\n",
            " [6.1520327e-02 9.3847966e-01]\n",
            " [1.7520297e-01 8.2479703e-01]]\n",
            "Accuracy: 0.725000\n",
            "Precision: 0.000000\n",
            "Recall: 0.000000\n",
            "F1 score: 0.000000\n",
            "[[29 11]\n",
            " [ 0  0]]\n"
          ]
        },
        {
          "output_type": "stream",
          "name": "stderr",
          "text": [
            "/usr/local/lib/python3.7/dist-packages/sklearn/metrics/_classification.py:1318: UndefinedMetricWarning: Recall is ill-defined and being set to 0.0 due to no true samples. Use `zero_division` parameter to control this behavior.\n",
            "  _warn_prf(average, modifier, msg_start, len(result))\n"
          ]
        }
      ]
    },
    {
      "cell_type": "markdown",
      "source": [
        "#GoogleNet"
      ],
      "metadata": {
        "id": "l9ko-xnLEV5w"
      }
    },
    {
      "cell_type": "code",
      "source": [
        "def Inception_block(input_layer, f1, f2_conv1, f2_conv3, f3_conv1, f3_conv5, f4): \n",
        "  # Input: \n",
        "  # - f1: number of filters of the 1x1 convolutional layer in the first path\n",
        "  # - f2_conv1, f2_conv3 are number of filters corresponding to the 1x1 and 3x3 convolutional layers in the second path\n",
        "  # - f3_conv1, f3_conv5 are the number of filters corresponding to the 1x1 and 5x5  convolutional layer in the third path\n",
        "  # - f4: number of filters of the 1x1 convolutional layer in the fourth path\n",
        "\n",
        "  # 1st path:\n",
        "  path1 = Conv2D(filters=f1, kernel_size = (1,1), padding = 'same', activation = 'relu')(input_layer)\n",
        "\n",
        "  # 2nd path\n",
        "  path2 = Conv2D(filters = f2_conv1, kernel_size = (1,1), padding = 'same', activation = 'relu')(input_layer)\n",
        "  path2 = Conv2D(filters = f2_conv3, kernel_size = (3,3), padding = 'same', activation = 'relu')(path2)\n",
        "\n",
        "  # 3rd path\n",
        "  path3 = Conv2D(filters = f3_conv1, kernel_size = (1,1), padding = 'same', activation = 'relu')(input_layer)\n",
        "  path3 = Conv2D(filters = f3_conv5, kernel_size = (5,5), padding = 'same', activation = 'relu')(path3)\n",
        "\n",
        "  # 4th path\n",
        "  path4 = MaxPooling2D((3,3), strides= (1,1), padding = 'same')(input_layer)\n",
        "  path4 = Conv2D(filters = f4, kernel_size = (1,1), padding = 'same', activation = 'relu')(path4)\n",
        "\n",
        "  output_layer = concatenate([path1, path2, path3, path4], axis = -1)\n",
        "\n",
        "  return output_layer"
      ],
      "metadata": {
        "id": "bqrqL1fZEU-1"
      },
      "execution_count": null,
      "outputs": []
    },
    {
      "cell_type": "code",
      "source": [
        "def GoogLeNet():\n",
        "  # input layer \n",
        "  input_layer = Input(shape = (224, 224, 3))\n",
        "\n",
        "  # convolutional layer: filters = 64, kernel_size = (7,7), strides = 2\n",
        "  X = Conv2D(filters = 64, kernel_size = (7,7), strides = 2, padding = 'valid', activation = 'relu')(input_layer)\n",
        "\n",
        "  # max-pooling layer: pool_size = (3,3), strides = 2\n",
        "  X = MaxPooling2D(pool_size = (3,3), strides = 2)(X)\n",
        "\n",
        "  # convolutional layer: filters = 64, strides = 1\n",
        "  X = Conv2D(filters = 64, kernel_size = (1,1), strides = 1, padding = 'same', activation = 'relu')(X)\n",
        "\n",
        "  # convolutional layer: filters = 192, kernel_size = (3,3)\n",
        "  X = Conv2D(filters = 192, kernel_size = (3,3), padding = 'same', activation = 'relu')(X)\n",
        "\n",
        "  # max-pooling layer: pool_size = (3,3), strides = 2\n",
        "  X = MaxPooling2D(pool_size= (3,3), strides = 2)(X)\n",
        "\n",
        "  # 1st Inception block\n",
        "  X = Inception_block(X, f1 = 64, f2_conv1 = 96, f2_conv3 = 128, f3_conv1 = 16, f3_conv5 = 32, f4 = 32)\n",
        "\n",
        "  # 2nd Inception block\n",
        "  X = Inception_block(X, f1 = 128, f2_conv1 = 128, f2_conv3 = 192, f3_conv1 = 32, f3_conv5 = 96, f4 = 64)\n",
        "\n",
        "  # max-pooling layer: pool_size = (3,3), strides = 2\n",
        "  X = MaxPooling2D(pool_size= (3,3), strides = 2)(X)\n",
        "\n",
        "  # 3rd Inception block\n",
        "  X = Inception_block(X, f1 = 192, f2_conv1 = 96, f2_conv3 = 208, f3_conv1 = 16, f3_conv5 = 48, f4 = 64)\n",
        "\n",
        "  # Extra network 1:\n",
        "  X1 = AveragePooling2D(pool_size = (5,5), strides = 3)(X)\n",
        "  X1 = Conv2D(filters = 128, kernel_size = (1,1), padding = 'same', activation = 'relu')(X1)\n",
        "  X1 = Flatten()(X1)\n",
        "  X1 = Dense(1024, activation = 'relu')(X1)\n",
        "  X1 = Dropout(0.7)(X1)\n",
        "  X1 = Dense(5, activation = 'softmax')(X1)\n",
        "\n",
        "  \n",
        "  # 4th Inception block\n",
        "  X = Inception_block(X, f1 = 160, f2_conv1 = 112, f2_conv3 = 224, f3_conv1 = 24, f3_conv5 = 64, f4 = 64)\n",
        "\n",
        "  # 5th Inception block\n",
        "  X = Inception_block(X, f1 = 128, f2_conv1 = 128, f2_conv3 = 256, f3_conv1 = 24, f3_conv5 = 64, f4 = 64)\n",
        "\n",
        "  # 6th Inception block\n",
        "  X = Inception_block(X, f1 = 112, f2_conv1 = 144, f2_conv3 = 288, f3_conv1 = 32, f3_conv5 = 64, f4 = 64)\n",
        "\n",
        "  # Extra network 2:\n",
        "  X2 = AveragePooling2D(pool_size = (5,5), strides = 3)(X)\n",
        "  X2 = Conv2D(filters = 128, kernel_size = (1,1), padding = 'same', activation = 'relu')(X2)\n",
        "  X2 = Flatten()(X2)\n",
        "  X2 = Dense(1024, activation = 'relu')(X2)\n",
        "  X2 = Dropout(0.7)(X2)\n",
        "  X2 = Dense(1000, activation = 'softmax')(X2)\n",
        "  \n",
        "  \n",
        "  # 7th Inception block\n",
        "  X = Inception_block(X, f1 = 256, f2_conv1 = 160, f2_conv3 = 320, f3_conv1 = 32, \n",
        "                      f3_conv5 = 128, f4 = 128)\n",
        "\n",
        "  # max-pooling layer: pool_size = (3,3), strides = 2\n",
        "  X = MaxPooling2D(pool_size = (3,3), strides = 2)(X)\n",
        "\n",
        "  # 8th Inception block\n",
        "  X = Inception_block(X, f1 = 256, f2_conv1 = 160, f2_conv3 = 320, f3_conv1 = 32, f3_conv5 = 128, f4 = 128)\n",
        "\n",
        "  # 9th Inception block\n",
        "  X = Inception_block(X, f1 = 384, f2_conv1 = 192, f2_conv3 = 384, f3_conv1 = 48, f3_conv5 = 128, f4 = 128)\n",
        "\n",
        "  # Global Average pooling layer \n",
        "  X = GlobalAveragePooling2D(name = 'GAPL')(X)\n",
        "\n",
        "  # Dropoutlayer \n",
        "  X = Dropout(0.4)(X)\n",
        "\n",
        "  # output layer \n",
        "  X = Dense(2, activation = 'softmax')(X)\n",
        "  \n",
        "  # model\n",
        "  model = Model(input_layer, [X, X1, X2], name = 'GoogLeNet')\n",
        "\n",
        "  return model"
      ],
      "metadata": {
        "id": "dLwDbhRAEYq8"
      },
      "execution_count": null,
      "outputs": []
    },
    {
      "cell_type": "code",
      "source": [
        "model = GoogLeNet()"
      ],
      "metadata": {
        "id": "jz1NGDg3EbI1"
      },
      "execution_count": null,
      "outputs": []
    },
    {
      "cell_type": "code",
      "source": [
        "model.compile(optimizer=Adam(lr=0.001),\n",
        "                loss=\"sparse_categorical_crossentropy\",\n",
        "                metrics=['accuracy']\n",
        "                )"
      ],
      "metadata": {
        "colab": {
          "base_uri": "https://localhost:8080/"
        },
        "id": "WFxs4xrjEcI9",
        "outputId": "d8c8e3dd-758c-4e22-f2b6-b0df50a74a86"
      },
      "execution_count": null,
      "outputs": [
        {
          "output_type": "stream",
          "name": "stderr",
          "text": [
            "/usr/local/lib/python3.7/dist-packages/keras/optimizer_v2/adam.py:105: UserWarning: The `lr` argument is deprecated, use `learning_rate` instead.\n",
            "  super(Adam, self).__init__(name, **kwargs)\n"
          ]
        }
      ]
    },
    {
      "cell_type": "code",
      "source": [
        "hist = model.fit(x=tr_images, y = tr_labels, \n",
        "                    epochs=20, validation_data=(ts_images, ts_labels),\n",
        "                    callbacks=[lr_callbacks])"
      ],
      "metadata": {
        "colab": {
          "base_uri": "https://localhost:8080/"
        },
        "id": "lxYs_q2LEdI-",
        "outputId": "c155f900-3168-4f80-ae81-8fca2fb63980"
      },
      "execution_count": null,
      "outputs": [
        {
          "output_type": "stream",
          "name": "stdout",
          "text": [
            "Epoch 1/20\n",
            "36/36 [==============================] - 13s 188ms/step - loss: 3.8421 - dense_32_loss: 0.9748 - dense_29_loss: 1.5567 - dense_31_loss: 1.3105 - dense_32_accuracy: 0.5646 - dense_29_accuracy: 0.6830 - dense_31_accuracy: 0.5619 - val_loss: 1.8955 - val_dense_32_loss: 0.5585 - val_dense_29_loss: 0.7535 - val_dense_31_loss: 0.5836 - val_dense_32_accuracy: 0.6750 - val_dense_29_accuracy: 0.5250 - val_dense_31_accuracy: 0.6750 - lr: 0.0010\n",
            "Epoch 2/20\n",
            "36/36 [==============================] - 4s 105ms/step - loss: 1.0530 - dense_32_loss: 0.3374 - dense_29_loss: 0.3377 - dense_31_loss: 0.3780 - dense_32_accuracy: 0.8736 - dense_29_accuracy: 0.8727 - dense_31_accuracy: 0.8673 - val_loss: 0.5894 - val_dense_32_loss: 0.1962 - val_dense_29_loss: 0.2105 - val_dense_31_loss: 0.1827 - val_dense_32_accuracy: 0.9500 - val_dense_29_accuracy: 0.9000 - val_dense_31_accuracy: 0.9250 - lr: 0.0010\n",
            "Epoch 3/20\n",
            "36/36 [==============================] - 4s 105ms/step - loss: 1.0000 - dense_32_loss: 0.3234 - dense_29_loss: 0.3248 - dense_31_loss: 0.3519 - dense_32_accuracy: 0.8860 - dense_29_accuracy: 0.8789 - dense_31_accuracy: 0.8709 - val_loss: 3.6617 - val_dense_32_loss: 0.9184 - val_dense_29_loss: 1.4437 - val_dense_31_loss: 1.2995 - val_dense_32_accuracy: 0.6000 - val_dense_29_accuracy: 0.4750 - val_dense_31_accuracy: 0.4750 - lr: 0.0010\n",
            "Epoch 4/20\n",
            "36/36 [==============================] - 4s 105ms/step - loss: 1.2368 - dense_32_loss: 0.3862 - dense_29_loss: 0.4193 - dense_31_loss: 0.4314 - dense_32_accuracy: 0.8593 - dense_29_accuracy: 0.8495 - dense_31_accuracy: 0.8495 - val_loss: 0.6777 - val_dense_32_loss: 0.2060 - val_dense_29_loss: 0.2388 - val_dense_31_loss: 0.2329 - val_dense_32_accuracy: 0.9250 - val_dense_29_accuracy: 0.9000 - val_dense_31_accuracy: 0.9000 - lr: 1.0000e-04\n",
            "Epoch 5/20\n",
            "36/36 [==============================] - 4s 105ms/step - loss: 0.8438 - dense_32_loss: 0.2786 - dense_29_loss: 0.2653 - dense_31_loss: 0.2999 - dense_32_accuracy: 0.8869 - dense_29_accuracy: 0.8958 - dense_31_accuracy: 0.8860 - val_loss: 0.7383 - val_dense_32_loss: 0.2607 - val_dense_29_loss: 0.2226 - val_dense_31_loss: 0.2550 - val_dense_32_accuracy: 0.9250 - val_dense_29_accuracy: 0.9000 - val_dense_31_accuracy: 0.9000 - lr: 1.0000e-04\n",
            "Epoch 6/20\n",
            "36/36 [==============================] - 4s 104ms/step - loss: 0.7721 - dense_32_loss: 0.2529 - dense_29_loss: 0.2509 - dense_31_loss: 0.2682 - dense_32_accuracy: 0.9074 - dense_29_accuracy: 0.9056 - dense_31_accuracy: 0.9110 - val_loss: 0.3200 - val_dense_32_loss: 0.1029 - val_dense_29_loss: 0.1085 - val_dense_31_loss: 0.1086 - val_dense_32_accuracy: 0.9500 - val_dense_29_accuracy: 0.9250 - val_dense_31_accuracy: 0.9500 - lr: 1.0000e-04\n",
            "Epoch 7/20\n",
            "36/36 [==============================] - 4s 104ms/step - loss: 0.6809 - dense_32_loss: 0.2211 - dense_29_loss: 0.2222 - dense_31_loss: 0.2376 - dense_32_accuracy: 0.9101 - dense_29_accuracy: 0.9110 - dense_31_accuracy: 0.9163 - val_loss: 0.2411 - val_dense_32_loss: 0.0742 - val_dense_29_loss: 0.0858 - val_dense_31_loss: 0.0811 - val_dense_32_accuracy: 0.9500 - val_dense_29_accuracy: 0.9500 - val_dense_31_accuracy: 0.9500 - lr: 1.0000e-04\n",
            "Epoch 8/20\n",
            "36/36 [==============================] - 4s 103ms/step - loss: 0.5819 - dense_32_loss: 0.1928 - dense_29_loss: 0.1796 - dense_31_loss: 0.2095 - dense_32_accuracy: 0.9297 - dense_29_accuracy: 0.9377 - dense_31_accuracy: 0.9243 - val_loss: 0.7407 - val_dense_32_loss: 0.2540 - val_dense_29_loss: 0.2282 - val_dense_31_loss: 0.2585 - val_dense_32_accuracy: 0.9250 - val_dense_29_accuracy: 0.9250 - val_dense_31_accuracy: 0.9250 - lr: 1.0000e-04\n",
            "Epoch 9/20\n",
            "36/36 [==============================] - 4s 103ms/step - loss: 0.5245 - dense_32_loss: 0.1822 - dense_29_loss: 0.1580 - dense_31_loss: 0.1842 - dense_32_accuracy: 0.9332 - dense_29_accuracy: 0.9386 - dense_31_accuracy: 0.9234 - val_loss: 0.8453 - val_dense_32_loss: 0.2844 - val_dense_29_loss: 0.2647 - val_dense_31_loss: 0.2961 - val_dense_32_accuracy: 0.9000 - val_dense_29_accuracy: 0.9250 - val_dense_31_accuracy: 0.9000 - lr: 1.0000e-04\n",
            "Epoch 10/20\n",
            "36/36 [==============================] - 4s 103ms/step - loss: 0.5029 - dense_32_loss: 0.1727 - dense_29_loss: 0.1531 - dense_31_loss: 0.1771 - dense_32_accuracy: 0.9359 - dense_29_accuracy: 0.9341 - dense_31_accuracy: 0.9341 - val_loss: 0.7269 - val_dense_32_loss: 0.2327 - val_dense_29_loss: 0.2472 - val_dense_31_loss: 0.2469 - val_dense_32_accuracy: 0.9250 - val_dense_29_accuracy: 0.9000 - val_dense_31_accuracy: 0.9000 - lr: 1.0000e-04\n",
            "Epoch 11/20\n",
            "36/36 [==============================] - 4s 102ms/step - loss: 0.6258 - dense_32_loss: 0.2149 - dense_29_loss: 0.1919 - dense_31_loss: 0.2190 - dense_32_accuracy: 0.9261 - dense_29_accuracy: 0.9288 - dense_31_accuracy: 0.9270 - val_loss: 0.3178 - val_dense_32_loss: 0.1003 - val_dense_29_loss: 0.1127 - val_dense_31_loss: 0.1048 - val_dense_32_accuracy: 0.9750 - val_dense_29_accuracy: 0.9250 - val_dense_31_accuracy: 0.9500 - lr: 1.0000e-04\n",
            "Epoch 12/20\n",
            "36/36 [==============================] - 4s 102ms/step - loss: 0.5102 - dense_32_loss: 0.1829 - dense_29_loss: 0.1460 - dense_31_loss: 0.1814 - dense_32_accuracy: 0.9332 - dense_29_accuracy: 0.9430 - dense_31_accuracy: 0.9350 - val_loss: 0.3454 - val_dense_32_loss: 0.1165 - val_dense_29_loss: 0.1101 - val_dense_31_loss: 0.1188 - val_dense_32_accuracy: 0.9500 - val_dense_29_accuracy: 0.9500 - val_dense_31_accuracy: 0.9500 - lr: 1.0000e-04\n",
            "Epoch 13/20\n",
            "36/36 [==============================] - 4s 102ms/step - loss: 0.4861 - dense_32_loss: 0.1653 - dense_29_loss: 0.1472 - dense_31_loss: 0.1737 - dense_32_accuracy: 0.9377 - dense_29_accuracy: 0.9475 - dense_31_accuracy: 0.9439 - val_loss: 0.8144 - val_dense_32_loss: 0.2667 - val_dense_29_loss: 0.2721 - val_dense_31_loss: 0.2755 - val_dense_32_accuracy: 0.9000 - val_dense_29_accuracy: 0.9000 - val_dense_31_accuracy: 0.9000 - lr: 1.0000e-04\n",
            "Epoch 14/20\n",
            "36/36 [==============================] - 4s 102ms/step - loss: 0.4079 - dense_32_loss: 0.1423 - dense_29_loss: 0.1227 - dense_31_loss: 0.1428 - dense_32_accuracy: 0.9528 - dense_29_accuracy: 0.9564 - dense_31_accuracy: 0.9510 - val_loss: 0.4950 - val_dense_32_loss: 0.1594 - val_dense_29_loss: 0.1662 - val_dense_31_loss: 0.1694 - val_dense_32_accuracy: 0.9250 - val_dense_29_accuracy: 0.9500 - val_dense_31_accuracy: 0.9250 - lr: 1.0000e-04\n",
            "Epoch 15/20\n",
            "36/36 [==============================] - 4s 101ms/step - loss: 0.3534 - dense_32_loss: 0.1265 - dense_29_loss: 0.1027 - dense_31_loss: 0.1243 - dense_32_accuracy: 0.9590 - dense_29_accuracy: 0.9635 - dense_31_accuracy: 0.9581 - val_loss: 0.8192 - val_dense_32_loss: 0.2727 - val_dense_29_loss: 0.2470 - val_dense_31_loss: 0.2994 - val_dense_32_accuracy: 0.9000 - val_dense_29_accuracy: 0.9000 - val_dense_31_accuracy: 0.9000 - lr: 1.0000e-04\n",
            "Epoch 16/20\n",
            "36/36 [==============================] - 4s 102ms/step - loss: 0.3563 - dense_32_loss: 0.1244 - dense_29_loss: 0.1027 - dense_31_loss: 0.1293 - dense_32_accuracy: 0.9581 - dense_29_accuracy: 0.9688 - dense_31_accuracy: 0.9564 - val_loss: 0.4097 - val_dense_32_loss: 0.1313 - val_dense_29_loss: 0.1326 - val_dense_31_loss: 0.1459 - val_dense_32_accuracy: 0.9500 - val_dense_29_accuracy: 0.9250 - val_dense_31_accuracy: 0.9250 - lr: 1.0000e-04\n",
            "Epoch 17/20\n",
            "36/36 [==============================] - 4s 102ms/step - loss: 0.3006 - dense_32_loss: 0.1067 - dense_29_loss: 0.0904 - dense_31_loss: 0.1035 - dense_32_accuracy: 0.9671 - dense_29_accuracy: 0.9733 - dense_31_accuracy: 0.9697 - val_loss: 0.4665 - val_dense_32_loss: 0.1674 - val_dense_29_loss: 0.1324 - val_dense_31_loss: 0.1667 - val_dense_32_accuracy: 0.9250 - val_dense_29_accuracy: 0.9500 - val_dense_31_accuracy: 0.9250 - lr: 1.0000e-05\n",
            "Epoch 18/20\n",
            "36/36 [==============================] - 4s 102ms/step - loss: 0.2713 - dense_32_loss: 0.0940 - dense_29_loss: 0.0827 - dense_31_loss: 0.0945 - dense_32_accuracy: 0.9715 - dense_29_accuracy: 0.9760 - dense_31_accuracy: 0.9679 - val_loss: 0.7084 - val_dense_32_loss: 0.2553 - val_dense_29_loss: 0.1977 - val_dense_31_loss: 0.2554 - val_dense_32_accuracy: 0.9000 - val_dense_29_accuracy: 0.9000 - val_dense_31_accuracy: 0.9000 - lr: 1.0000e-05\n",
            "Epoch 19/20\n",
            "36/36 [==============================] - 4s 102ms/step - loss: 0.2517 - dense_32_loss: 0.0877 - dense_29_loss: 0.0780 - dense_31_loss: 0.0860 - dense_32_accuracy: 0.9742 - dense_29_accuracy: 0.9742 - dense_31_accuracy: 0.9751 - val_loss: 0.6761 - val_dense_32_loss: 0.2451 - val_dense_29_loss: 0.1894 - val_dense_31_loss: 0.2416 - val_dense_32_accuracy: 0.9000 - val_dense_29_accuracy: 0.9000 - val_dense_31_accuracy: 0.9000 - lr: 1.0000e-05\n",
            "Epoch 20/20\n",
            "36/36 [==============================] - 4s 103ms/step - loss: 0.2490 - dense_32_loss: 0.0856 - dense_29_loss: 0.0757 - dense_31_loss: 0.0877 - dense_32_accuracy: 0.9724 - dense_29_accuracy: 0.9733 - dense_31_accuracy: 0.9760 - val_loss: 0.6484 - val_dense_32_loss: 0.2354 - val_dense_29_loss: 0.1823 - val_dense_31_loss: 0.2306 - val_dense_32_accuracy: 0.9000 - val_dense_29_accuracy: 0.9000 - val_dense_31_accuracy: 0.9000 - lr: 1.0000e-05\n"
          ]
        }
      ]
    },
    {
      "cell_type": "code",
      "source": [
        "test_acc = model.evaluate(ts_images,  ts_labels, verbose=2)\n",
        "print(test_acc)"
      ],
      "metadata": {
        "colab": {
          "base_uri": "https://localhost:8080/"
        },
        "id": "-3WM2-kjEecn",
        "outputId": "774cd423-6f91-40b4-fb14-4fe4d17b56bb"
      },
      "execution_count": null,
      "outputs": [
        {
          "output_type": "stream",
          "name": "stdout",
          "text": [
            "2/2 - 0s - loss: 0.6484 - dense_32_loss: 0.2354 - dense_29_loss: 0.1823 - dense_31_loss: 0.2306 - dense_32_accuracy: 0.9000 - dense_29_accuracy: 0.9000 - dense_31_accuracy: 0.9000 - 97ms/epoch - 49ms/step\n",
            "[0.6483904123306274, 0.23543071746826172, 0.18233013153076172, 0.230629563331604, 0.8999999761581421, 0.8999999761581421, 0.8999999761581421]\n"
          ]
        }
      ]
    },
    {
      "cell_type": "code",
      "source": [
        "yhat_probs = model.predict(ts_images, verbose=0) # predict probabilities for test set\n",
        "print(yhat_probs)\n",
        "yhat_classes = np.argmax(yhat_probs[0],axis=1) #1-D array of classes\n",
        "\n",
        "accuracy = accuracy_score(ts_labels, yhat_classes)\n",
        "print('Accuracy: %f' % accuracy)\n",
        "precision = precision_score(ts_labels, yhat_classes)\n",
        "print('Precision: %f' % precision)\n",
        "recall = recall_score(ts_labels, yhat_classes)\n",
        "print('Recall: %f' % recall)\n",
        "f1 = f1_score(ts_labels, yhat_classes)\n",
        "print('F1 score: %f' % f1)\n",
        "\n",
        "matrix = confusion_matrix(ts_labels, yhat_classes)\n",
        "print(matrix)"
      ],
      "metadata": {
        "colab": {
          "base_uri": "https://localhost:8080/"
        },
        "id": "nYZWYgrsEhdc",
        "outputId": "fcb4383a-7cc6-48e9-e65b-7a65ee903845"
      },
      "execution_count": null,
      "outputs": [
        {
          "output_type": "stream",
          "name": "stdout",
          "text": [
            "[array([[9.9608117e-01, 3.9188964e-03],\n",
            "       [6.7337722e-02, 9.3266231e-01],\n",
            "       [9.6283406e-01, 3.7165944e-02],\n",
            "       [9.9908125e-01, 9.1876072e-04],\n",
            "       [9.9808049e-01, 1.9194896e-03],\n",
            "       [9.9920940e-01, 7.9057348e-04],\n",
            "       [9.9973232e-01, 2.6761976e-04],\n",
            "       [4.6284724e-02, 9.5371532e-01],\n",
            "       [9.3729496e-01, 6.2704988e-02],\n",
            "       [9.9945527e-01, 5.4476602e-04],\n",
            "       [9.9022686e-01, 9.7730858e-03],\n",
            "       [9.9723816e-01, 2.7618047e-03],\n",
            "       [9.9617755e-01, 3.8224275e-03],\n",
            "       [9.9986935e-01, 1.3062461e-04],\n",
            "       [8.9825141e-01, 1.0174862e-01],\n",
            "       [9.3602055e-01, 6.3979454e-02],\n",
            "       [9.7638369e-01, 2.3616321e-02],\n",
            "       [8.7209493e-01, 1.2790509e-01],\n",
            "       [4.7495610e-01, 5.2504390e-01],\n",
            "       [9.9958140e-01, 4.1858430e-04],\n",
            "       [6.1748040e-01, 3.8251966e-01],\n",
            "       [9.9934667e-01, 6.5332907e-04],\n",
            "       [9.9920303e-01, 7.9694740e-04],\n",
            "       [9.9932659e-01, 6.7345233e-04],\n",
            "       [9.9938071e-01, 6.1930751e-04],\n",
            "       [9.9816126e-01, 1.8387878e-03],\n",
            "       [9.9966645e-01, 3.3350632e-04],\n",
            "       [9.9981338e-01, 1.8666612e-04],\n",
            "       [9.9987638e-01, 1.2364594e-04],\n",
            "       [5.5900514e-01, 4.4099489e-01],\n",
            "       [3.3162025e-01, 6.6837972e-01],\n",
            "       [9.9027950e-01, 9.7205322e-03],\n",
            "       [9.9780351e-01, 2.1965182e-03],\n",
            "       [9.5004719e-01, 4.9952846e-02],\n",
            "       [9.9724627e-01, 2.7537541e-03],\n",
            "       [9.7308314e-01, 2.6916914e-02],\n",
            "       [9.4267899e-01, 5.7321046e-02],\n",
            "       [9.9063873e-01, 9.3613062e-03],\n",
            "       [9.7319716e-01, 2.6802896e-02],\n",
            "       [9.2495108e-01, 7.5048871e-02]], dtype=float32), array([[9.85456645e-01, 1.45425647e-02, 2.02990549e-07, 3.27493126e-07,\n",
            "        2.10686608e-07],\n",
            "       [3.71176720e-01, 6.28806412e-01, 4.35464835e-06, 9.24101641e-06,\n",
            "        3.37319170e-06],\n",
            "       [8.61664414e-01, 1.38335645e-01, 6.05983663e-09, 5.81267923e-09,\n",
            "        3.87873911e-09],\n",
            "       [9.99994755e-01, 5.28490318e-06, 4.45185989e-13, 6.36445486e-13,\n",
            "        1.91117819e-13],\n",
            "       [9.98995245e-01, 1.00480206e-03, 1.05955654e-10, 1.34476513e-10,\n",
            "        7.26479363e-11],\n",
            "       [9.99999166e-01, 8.17028877e-07, 4.76598207e-15, 2.43792366e-15,\n",
            "        1.67841762e-16],\n",
            "       [9.99983668e-01, 1.63590048e-05, 5.83364086e-13, 6.90269131e-13,\n",
            "        2.61239164e-13],\n",
            "       [4.38573584e-02, 9.56124723e-01, 5.79669768e-06, 7.83307132e-06,\n",
            "        4.21304685e-06],\n",
            "       [9.94528472e-01, 5.47151081e-03, 2.44579010e-11, 1.29209976e-11,\n",
            "        9.27438898e-13],\n",
            "       [9.99941230e-01, 5.88058829e-05, 6.17464717e-12, 7.35609490e-12,\n",
            "        2.76853475e-12],\n",
            "       [9.99965191e-01, 3.48087524e-05, 1.31851058e-10, 1.19845384e-10,\n",
            "        2.04937473e-11],\n",
            "       [9.98340011e-01, 1.65993837e-03, 1.65256484e-08, 2.34801583e-08,\n",
            "        1.20784609e-08],\n",
            "       [9.99952078e-01, 4.79245791e-05, 7.26455978e-14, 3.40490846e-14,\n",
            "        3.84681707e-15],\n",
            "       [1.00000000e+00, 2.28240316e-09, 4.66318312e-25, 1.01717722e-25,\n",
            "        2.41893893e-27],\n",
            "       [9.90854740e-01, 9.11979284e-03, 8.23925348e-06, 1.14826707e-05,\n",
            "        5.73507214e-06],\n",
            "       [9.99412417e-01, 5.87614719e-04, 8.18710877e-09, 7.24513605e-09,\n",
            "        1.66689462e-09],\n",
            "       [9.90447402e-01, 9.50458180e-03, 1.61218304e-05, 1.79101298e-05,\n",
            "        1.39958856e-05],\n",
            "       [9.74655330e-01, 2.53446307e-02, 4.55959448e-09, 2.95405922e-09,\n",
            "        6.18379459e-10],\n",
            "       [9.28785563e-01, 7.10948929e-02, 3.40826773e-05, 5.92455399e-05,\n",
            "        2.61856312e-05],\n",
            "       [9.99999762e-01, 1.97217744e-07, 2.24847207e-19, 8.07845072e-20,\n",
            "        9.52214940e-21],\n",
            "       [3.90795588e-01, 6.09123826e-01, 3.03069555e-05, 2.50612156e-05,\n",
            "        2.51028850e-05],\n",
            "       [1.00000000e+00, 2.48932919e-09, 2.02196501e-25, 5.61363712e-26,\n",
            "        1.59377906e-27],\n",
            "       [9.99999762e-01, 2.53268098e-07, 5.67152244e-16, 3.64816085e-16,\n",
            "        1.86214602e-17],\n",
            "       [1.00000000e+00, 2.52714312e-08, 2.69011317e-20, 9.39783481e-21,\n",
            "        1.89125691e-22],\n",
            "       [9.99905109e-01, 9.48936358e-05, 2.99786099e-11, 2.56403041e-11,\n",
            "        1.01323099e-11],\n",
            "       [9.99981761e-01, 1.82020231e-05, 8.36034280e-12, 1.04910802e-11,\n",
            "        4.31091274e-12],\n",
            "       [9.99991059e-01, 8.94946334e-06, 9.85731635e-12, 1.25706962e-11,\n",
            "        3.22301387e-12],\n",
            "       [1.00000000e+00, 1.74631809e-09, 1.90461567e-21, 8.44455884e-22,\n",
            "        3.43503675e-23],\n",
            "       [9.99999762e-01, 2.31758264e-07, 3.77575815e-16, 2.35626540e-16,\n",
            "        3.88159300e-17],\n",
            "       [7.73523152e-01, 2.25820825e-01, 1.99907779e-04, 2.96582759e-04,\n",
            "        1.59560746e-04],\n",
            "       [2.07570150e-01, 7.92168856e-01, 7.11312096e-05, 1.36639064e-04,\n",
            "        5.33028688e-05],\n",
            "       [9.98943031e-01, 1.05696928e-03, 3.33916478e-10, 1.97509425e-10,\n",
            "        9.73076619e-11],\n",
            "       [9.99444187e-01, 5.55810402e-04, 1.23742954e-08, 1.58409801e-08,\n",
            "        6.89298396e-09],\n",
            "       [9.99939919e-01, 6.00325329e-05, 1.41855694e-09, 1.12119103e-09,\n",
            "        1.44906420e-10],\n",
            "       [9.98526216e-01, 1.47364952e-03, 3.46022695e-08, 5.14042497e-08,\n",
            "        3.85408541e-08],\n",
            "       [9.99737203e-01, 2.62797956e-04, 3.68689373e-13, 1.81741896e-13,\n",
            "        2.29621382e-14],\n",
            "       [9.20651078e-01, 7.92934000e-02, 1.77333641e-05, 2.27304736e-05,\n",
            "        1.50263468e-05],\n",
            "       [9.99932289e-01, 6.77524149e-05, 1.10224099e-13, 5.81855934e-14,\n",
            "        1.07826905e-14],\n",
            "       [9.71958816e-01, 2.80388687e-02, 8.71087821e-07, 8.11540474e-07,\n",
            "        5.52316351e-07],\n",
            "       [9.98838723e-01, 1.16129708e-03, 4.70464556e-09, 4.41757431e-09,\n",
            "        1.55312974e-09]], dtype=float32), array([[9.9222273e-01, 7.7772751e-03, 2.0990740e-11, ..., 2.0724438e-11,\n",
            "        3.0399308e-11, 1.0686599e-11],\n",
            "       [1.0441497e-01, 8.9558423e-01, 4.0220782e-10, ..., 3.6143252e-10,\n",
            "        1.2887207e-09, 3.1784503e-10],\n",
            "       [9.5443374e-01, 4.5566238e-02, 7.1565480e-13, ..., 4.9769488e-13,\n",
            "        1.7140770e-12, 4.9017046e-13],\n",
            "       ...,\n",
            "       [9.9553323e-01, 4.4667046e-03, 1.4705600e-14, ..., 1.1103059e-14,\n",
            "        2.5747328e-14, 6.6903041e-15],\n",
            "       [9.7508937e-01, 2.4909873e-02, 5.9913496e-10, ..., 4.8328613e-10,\n",
            "        8.6218016e-10, 3.3972436e-10],\n",
            "       [9.6101999e-01, 3.8980037e-02, 5.2610867e-12, ..., 4.7221467e-12,\n",
            "        8.6253305e-12, 3.0468468e-12]], dtype=float32)]\n",
            "Accuracy: 0.900000\n",
            "Precision: 0.000000\n",
            "Recall: 0.000000\n",
            "F1 score: 0.000000\n",
            "[[36  4]\n",
            " [ 0  0]]\n"
          ]
        },
        {
          "output_type": "stream",
          "name": "stderr",
          "text": [
            "/usr/local/lib/python3.7/dist-packages/sklearn/metrics/_classification.py:1318: UndefinedMetricWarning: Recall is ill-defined and being set to 0.0 due to no true samples. Use `zero_division` parameter to control this behavior.\n",
            "  _warn_prf(average, modifier, msg_start, len(result))\n"
          ]
        }
      ]
    }
  ]
}