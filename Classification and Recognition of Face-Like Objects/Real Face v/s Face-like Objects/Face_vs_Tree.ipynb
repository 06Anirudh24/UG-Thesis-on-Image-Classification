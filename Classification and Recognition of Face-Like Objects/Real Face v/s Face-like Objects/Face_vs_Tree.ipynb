{
  "nbformat": 4,
  "nbformat_minor": 0,
  "metadata": {
    "colab": {
      "name": "Face vs Tree.ipynb",
      "provenance": []
    },
    "kernelspec": {
      "name": "python3",
      "display_name": "Python 3"
    },
    "language_info": {
      "name": "python"
    },
    "accelerator": "GPU",
    "gpuClass": "standard"
  },
  "cells": [
    {
      "cell_type": "code",
      "execution_count": null,
      "metadata": {
        "colab": {
          "base_uri": "https://localhost:8080/"
        },
        "id": "QhhivH9GHKEx",
        "outputId": "cc0341a3-a0ac-4db7-f624-400f32663c13"
      },
      "outputs": [
        {
          "output_type": "stream",
          "name": "stdout",
          "text": [
            "`%tensorflow_version` only switches the major version: 1.x or 2.x.\n",
            "You set: `2.x  # this line is not required unless you are in a notebook`. This will be interpreted as: `2.x`.\n",
            "\n",
            "\n",
            "TensorFlow 2.x selected.\n"
          ]
        }
      ],
      "source": [
        "%tensorflow_version 2.x  # this line is not required unless you are in a notebook\n",
        "import tensorflow as tf\n",
        "from tensorflow.keras import datasets, layers, models\n",
        "import matplotlib.pyplot as plt"
      ]
    },
    {
      "cell_type": "code",
      "source": [
        "from google.colab import drive\n",
        "from google.colab import files\n",
        "drive.mount('/content/drive')"
      ],
      "metadata": {
        "colab": {
          "base_uri": "https://localhost:8080/"
        },
        "id": "RgS_PTLJHcKJ",
        "outputId": "cb39ed13-842c-48a4-9fbc-d854987ce61f"
      },
      "execution_count": null,
      "outputs": [
        {
          "output_type": "stream",
          "name": "stdout",
          "text": [
            "Mounted at /content/drive\n"
          ]
        }
      ]
    },
    {
      "cell_type": "code",
      "source": [
        "import cv2\n",
        "import glob\n",
        "from skimage.io import imread_collection\n",
        "import os\n",
        "from PIL import Image\n",
        "import numpy as np\n",
        "from google.colab.patches import cv2_imshow\n",
        "import imageio as iio\n",
        "from keras.preprocessing import image\n",
        "from keras.preprocessing.image import ImageDataGenerator\n",
        "import tensorflow as tf\n",
        "keras = tf.keras"
      ],
      "metadata": {
        "id": "_7z2-vAdHcNL"
      },
      "execution_count": null,
      "outputs": []
    },
    {
      "cell_type": "code",
      "source": [
        "from tensorflow.keras.preprocessing.image import ImageDataGenerator\n",
        "from tensorflow.keras.layers import GlobalAveragePooling2D\n",
        "from tensorflow.keras.layers import BatchNormalization\n",
        "from tensorflow.keras.applications import MobileNetV2\n",
        "from tensorflow.keras.optimizers import Adam\n",
        "from tensorflow.keras.layers import Dropout\n",
        "from tensorflow.keras.layers import Dense\n",
        "from tensorflow.keras.layers import Flatten\n",
        "from tensorflow.keras import Sequential\n",
        "import matplotlib.pyplot as plt\n",
        "from tensorflow.keras.applications import DenseNet121\n",
        "from keras.applications.inception_v3 import InceptionV3, preprocess_input\n",
        "from tensorflow.keras.applications.resnet50 import ResNet50\n",
        "from keras.models import Model\n",
        "from keras.layers import Input, Conv2D, MaxPooling2D, AveragePooling2D\n",
        "from keras.layers.merge import concatenate\n",
        "from sklearn.metrics import accuracy_score, precision_score, recall_score, f1_score, plot_confusion_matrix, confusion_matrix  "
      ],
      "metadata": {
        "id": "qIULJ7_HKGcQ"
      },
      "execution_count": null,
      "outputs": []
    },
    {
      "cell_type": "markdown",
      "source": [
        "#Load Dataset"
      ],
      "metadata": {
        "id": "fTeKOjXZHnlo"
      }
    },
    {
      "cell_type": "code",
      "source": [
        "#Create labels for the images. \n",
        "ts_labels = []\n",
        "i = 33\n",
        "while(i>0):\n",
        "  ts_labels.append(np.array([0])) #Say all images belong to class 0\n",
        "  i = i-1\n",
        "\n",
        "tr_labels = []\n",
        "i = 329\n",
        "while(i>0):\n",
        "  tr_labels.append(np.array([1])) #1 for actual face. \n",
        "  i = i-1\n",
        "i = 261\n",
        "while(i>0):\n",
        "  tr_labels.append(np.array([0])) #0 for tree. \n",
        "  i = i-1"
      ],
      "metadata": {
        "id": "N3WTHUuHHcP1"
      },
      "execution_count": null,
      "outputs": []
    },
    {
      "cell_type": "code",
      "source": [
        "print(len(tr_labels), len(ts_labels))"
      ],
      "metadata": {
        "colab": {
          "base_uri": "https://localhost:8080/"
        },
        "id": "_1-yj4caIL4A",
        "outputId": "782f6121-3ea0-4c38-86b7-e3043e0c852c"
      },
      "execution_count": null,
      "outputs": [
        {
          "output_type": "stream",
          "name": "stdout",
          "text": [
            "590 33\n"
          ]
        }
      ]
    },
    {
      "cell_type": "code",
      "source": [
        "tr_labels = np.array(tr_labels)\n",
        "tr_labels.shape\n",
        "ts_labels = np.array(ts_labels)"
      ],
      "metadata": {
        "id": "Wm0nhpNjIMlw"
      },
      "execution_count": null,
      "outputs": []
    },
    {
      "cell_type": "code",
      "source": [
        "#Read all the images from dataset. \n",
        "ts_images = []\n",
        "for img in glob.glob(\"/content/drive/MyDrive/Data Sets - Colab/UTS Thesis/Face vs Tree/Face vs Trees - Test Data/*.jpeg\"):\n",
        "    n= cv2.imread(img)\n",
        "    n = cv2.resize(n, (224, 224))\n",
        "    ts_images.append(n)\n",
        "for img in glob.glob(\"/content/drive/MyDrive/Data Sets - Colab/UTS Thesis/Face vs Tree/Face vs Trees - Test Data/*.jpg\"):\n",
        "    n= cv2.imread(img)\n",
        "    n = cv2.resize(n, (224, 224))\n",
        "    ts_images.append(n)\n",
        "for img in glob.glob(\"/content/drive/MyDrive/Data Sets - Colab/UTS Thesis/Face vs Tree/Face vs Trees - Test Data/*.png\"):\n",
        "    n= cv2.imread(img)\n",
        "    n = cv2.resize(n, (224, 224))\n",
        "    ts_images.append(n)\n",
        "\n",
        "tr_images = []\n",
        "for img in glob.glob(\"/content/drive/MyDrive/Data Sets - Colab/UTS Thesis/Face vs Tree/Faces Train (Real, Other Objects, Abstract Paintings, Sketches)/*.jpeg\"):\n",
        "    n= cv2.imread(img)\n",
        "    n = cv2.resize(n, (224, 224))\n",
        "    tr_images.append(n)\n",
        "for img in glob.glob(\"/content/drive/MyDrive/Data Sets - Colab/UTS Thesis/Face vs Tree/Faces Train (Real, Other Objects, Abstract Paintings, Sketches)/*.jpg\"):\n",
        "    n= cv2.imread(img)\n",
        "    n = cv2.resize(n, (224, 224))\n",
        "    tr_images.append(n)\n",
        "for img in glob.glob(\"/content/drive/MyDrive/Data Sets - Colab/UTS Thesis/Face vs Tree/Faces Train (Real, Other Objects, Abstract Paintings, Sketches)/*.png\"):\n",
        "    n= cv2.imread(img)\n",
        "    n = cv2.resize(n, (224, 224))\n",
        "    tr_images.append(n)\n",
        "for img in glob.glob(\"/content/drive/MyDrive/Data Sets - Colab/UTS Thesis/Face vs Tree/Tree Sketches - Train /*.jpeg\"):\n",
        "    n= cv2.imread(img)\n",
        "    n = cv2.resize(n, (224, 224))\n",
        "    tr_images.append(n)\n",
        "for img in glob.glob(\"/content/drive/MyDrive/Data Sets - Colab/UTS Thesis/Face vs Tree/Tree Sketches - Train /*.jpg\"):\n",
        "    n= cv2.imread(img)\n",
        "    n = cv2.resize(n, (224, 224))\n",
        "    tr_images.append(n)\n",
        "for img in glob.glob(\"/content/drive/MyDrive/Data Sets - Colab/UTS Thesis/Face vs Tree/Tree Sketches - Train /*.png\"):\n",
        "    n= cv2.imread(img)\n",
        "    n = cv2.resize(n, (224, 224))\n",
        "    tr_images.append(n)"
      ],
      "metadata": {
        "id": "5ZW-q3jzIOZq"
      },
      "execution_count": null,
      "outputs": []
    },
    {
      "cell_type": "code",
      "source": [
        "tr_images = np.array(tr_images)\n",
        "ts_images = np.array(ts_images)\n",
        "print(tr_images.shape)\n",
        "print(ts_images.shape)\n",
        "print(len(tr_labels))\n",
        "print(len(ts_labels))\n",
        "print(type(tr_labels))"
      ],
      "metadata": {
        "colab": {
          "base_uri": "https://localhost:8080/"
        },
        "id": "mMXhU8jBJEIM",
        "outputId": "a0b3bdbd-725b-48cf-db51-429fb2807037"
      },
      "execution_count": null,
      "outputs": [
        {
          "output_type": "stream",
          "name": "stdout",
          "text": [
            "(590, 224, 224, 3)\n",
            "(33, 224, 224, 3)\n",
            "590\n",
            "33\n",
            "<class 'numpy.ndarray'>\n"
          ]
        }
      ]
    },
    {
      "cell_type": "code",
      "source": [
        "#Data Augmentation\n",
        "\n",
        "datagen = ImageDataGenerator(\n",
        "        featurewise_center=False,  # set input mean to 0 over the dataset\n",
        "        samplewise_center=False,  # set each sample mean to 0\n",
        "        featurewise_std_normalization=False,  # divide inputs by std of the dataset\n",
        "        samplewise_std_normalization=False,  # divide each input by its std\n",
        "        zca_whitening=False,  # apply ZCA whitening\n",
        "        rotation_range=30,  # randomly rotate images upto 180 degrees\n",
        "        shear_range=0.2,\n",
        "        zoom_range = 0.15, # randomly zoom image \n",
        "        width_shift_range=0.15,  # randomly shift images horizontally (fraction of total width)\n",
        "        height_shift_range=0.15,  # randomly shift images vertically (fraction of total height)\n",
        "        horizontal_flip=True,  # randomly flip images horizontally\n",
        "        vertical_flip=False, # randomly flip images vertically\n",
        "        fill_mode='nearest')  \n",
        "\n",
        "\n",
        "datagen.fit(tr_images)"
      ],
      "metadata": {
        "id": "SyXDBJoxJtaw"
      },
      "execution_count": null,
      "outputs": []
    },
    {
      "cell_type": "markdown",
      "source": [
        "#CNN Model"
      ],
      "metadata": {
        "id": "ahH8NZIMJ0cO"
      }
    },
    {
      "cell_type": "code",
      "source": [
        "model = models.Sequential()\n",
        "model.add(layers.Conv2D(32, (3, 3), activation='relu', input_shape=(224, 224, 3)))\n",
        "model.add(layers.MaxPooling2D((2, 2)))\n",
        "model.add(layers.Conv2D(64, (3, 3), activation='relu'))\n",
        "model.add(layers.MaxPooling2D((2, 2)))\n",
        "model.add(layers.Conv2D(64, (3, 3), activation='relu'))\n",
        "\n",
        "model.add(layers.Flatten())\n",
        "model.add(layers.Dense(64, activation='relu'))\n",
        "model.add(layers.Dense(2))\n",
        "\n",
        "model.summary()"
      ],
      "metadata": {
        "colab": {
          "base_uri": "https://localhost:8080/"
        },
        "id": "hkcbgx2pJtdd",
        "outputId": "67fb4a51-4117-4a84-b491-5487d47506c3"
      },
      "execution_count": null,
      "outputs": [
        {
          "output_type": "stream",
          "name": "stdout",
          "text": [
            "Model: \"sequential\"\n",
            "_________________________________________________________________\n",
            " Layer (type)                Output Shape              Param #   \n",
            "=================================================================\n",
            " conv2d (Conv2D)             (None, 222, 222, 32)      896       \n",
            "                                                                 \n",
            " max_pooling2d (MaxPooling2D  (None, 111, 111, 32)     0         \n",
            " )                                                               \n",
            "                                                                 \n",
            " conv2d_1 (Conv2D)           (None, 109, 109, 64)      18496     \n",
            "                                                                 \n",
            " max_pooling2d_1 (MaxPooling  (None, 54, 54, 64)       0         \n",
            " 2D)                                                             \n",
            "                                                                 \n",
            " conv2d_2 (Conv2D)           (None, 52, 52, 64)        36928     \n",
            "                                                                 \n",
            " flatten (Flatten)           (None, 173056)            0         \n",
            "                                                                 \n",
            " dense (Dense)               (None, 64)                11075648  \n",
            "                                                                 \n",
            " dense_1 (Dense)             (None, 2)                 130       \n",
            "                                                                 \n",
            "=================================================================\n",
            "Total params: 11,132,098\n",
            "Trainable params: 11,132,098\n",
            "Non-trainable params: 0\n",
            "_________________________________________________________________\n"
          ]
        }
      ]
    },
    {
      "cell_type": "code",
      "source": [
        "model.compile(optimizer='adam',\n",
        "              loss=tf.keras.losses.SparseCategoricalCrossentropy(from_logits=True),\n",
        "              metrics=['accuracy'])\n",
        "\n",
        "hist = model.fit(tr_images, tr_labels, epochs=10, \n",
        "                    validation_data=(ts_images, ts_labels))"
      ],
      "metadata": {
        "colab": {
          "base_uri": "https://localhost:8080/"
        },
        "id": "53DLkhS5Jtf-",
        "outputId": "90785d7b-8b8f-4f3e-992d-767d3eeda32e"
      },
      "execution_count": null,
      "outputs": [
        {
          "output_type": "stream",
          "name": "stdout",
          "text": [
            "Epoch 1/10\n",
            "19/19 [==============================] - 13s 94ms/step - loss: 436.2370 - accuracy: 0.6102 - val_loss: 0.7627 - val_accuracy: 0.3636\n",
            "Epoch 2/10\n",
            "19/19 [==============================] - 1s 49ms/step - loss: 0.5613 - accuracy: 0.8068 - val_loss: 2.0609 - val_accuracy: 0.2121\n",
            "Epoch 3/10\n",
            "19/19 [==============================] - 1s 46ms/step - loss: 0.4460 - accuracy: 0.8492 - val_loss: 1.1955 - val_accuracy: 0.4545\n",
            "Epoch 4/10\n",
            "19/19 [==============================] - 1s 45ms/step - loss: 0.2455 - accuracy: 0.9085 - val_loss: 5.0340 - val_accuracy: 0.0606\n",
            "Epoch 5/10\n",
            "19/19 [==============================] - 1s 45ms/step - loss: 0.7534 - accuracy: 0.9068 - val_loss: 2.5909 - val_accuracy: 0.4242\n",
            "Epoch 6/10\n",
            "19/19 [==============================] - 1s 46ms/step - loss: 1.6938 - accuracy: 0.8051 - val_loss: 1.3304 - val_accuracy: 0.2121\n",
            "Epoch 7/10\n",
            "19/19 [==============================] - 1s 46ms/step - loss: 0.4131 - accuracy: 0.8508 - val_loss: 9.6520 - val_accuracy: 0.0909\n",
            "Epoch 8/10\n",
            "19/19 [==============================] - 1s 46ms/step - loss: 0.5598 - accuracy: 0.8339 - val_loss: 6.5514 - val_accuracy: 0.0909\n",
            "Epoch 9/10\n",
            "19/19 [==============================] - 1s 46ms/step - loss: 0.4765 - accuracy: 0.7593 - val_loss: 0.6998 - val_accuracy: 0.3939\n",
            "Epoch 10/10\n",
            "19/19 [==============================] - 1s 47ms/step - loss: 0.4081 - accuracy: 0.8492 - val_loss: 2.3727 - val_accuracy: 0.1212\n"
          ]
        }
      ]
    },
    {
      "cell_type": "code",
      "source": [
        "test_loss, test_acc = model.evaluate(ts_images,  ts_labels, verbose=2)\n",
        "print(test_acc)"
      ],
      "metadata": {
        "colab": {
          "base_uri": "https://localhost:8080/"
        },
        "id": "GGNOKBlIJ6Ul",
        "outputId": "933a9bf2-d7cf-4d7c-be30-0191d0eaad32"
      },
      "execution_count": null,
      "outputs": [
        {
          "output_type": "stream",
          "name": "stdout",
          "text": [
            "2/2 - 0s - loss: 2.3727 - accuracy: 0.1212 - 34ms/epoch - 17ms/step\n",
            "0.12121212482452393\n"
          ]
        }
      ]
    },
    {
      "cell_type": "code",
      "source": [
        "yhat_probs = model.predict(ts_images, verbose=0) # predict probabilities for test set\n",
        "print(yhat_probs)\n",
        "yhat_classes = np.argmax(yhat_probs,axis=1) #1-D array of classes\n",
        "yhat_probs = yhat_probs[:, 0] # reduce to 1d array\n",
        "\n",
        "\n",
        "accuracy = accuracy_score(ts_labels, yhat_classes)\n",
        "print('Accuracy: %f' % accuracy)\n",
        "precision = precision_score(ts_labels, yhat_classes)\n",
        "print('Precision: %f' % precision)\n",
        "recall = recall_score(ts_labels, yhat_classes)\n",
        "print('Recall: %f' % recall)\n",
        "f1 = f1_score(ts_labels, yhat_classes)\n",
        "print('F1 score: %f' % f1)\n",
        "\n",
        "matrix = confusion_matrix(ts_labels, yhat_classes)\n",
        "print(matrix)"
      ],
      "metadata": {
        "colab": {
          "base_uri": "https://localhost:8080/"
        },
        "id": "s6ixFX1UJ8BF",
        "outputId": "9e49f52f-8e4e-42de-a105-39197c0e4e20"
      },
      "execution_count": null,
      "outputs": [
        {
          "output_type": "stream",
          "name": "stdout",
          "text": [
            "[[ -0.13074991   0.11652727]\n",
            " [ -0.34311473   0.3093592 ]\n",
            " [ -2.1626222    2.1188033 ]\n",
            " [ -3.0370421    1.9513865 ]\n",
            " [ -3.197718     3.1407797 ]\n",
            " [ -1.4052156    1.4491369 ]\n",
            " [ -0.17625268   0.21232972]\n",
            " [ -0.17625268   0.21232972]\n",
            " [ -0.24166967   0.23852092]\n",
            " [ -0.17625268   0.21232972]\n",
            " [ -0.17625268   0.21232972]\n",
            " [  2.9704013   -5.000061  ]\n",
            " [ -0.18189001   0.21357395]\n",
            " [ -1.247306     1.0205401 ]\n",
            " [ -0.2866191    0.34850958]\n",
            " [ -0.9695012    0.86642605]\n",
            " [ -0.06732882   0.12254012]\n",
            " [  0.04039473  -0.31485456]\n",
            " [ -1.5151598    1.6532279 ]\n",
            " [  0.3075761   -0.12956661]\n",
            " [ -9.588549    -6.570454  ]\n",
            " [ -3.2791882    0.81592137]\n",
            " [ -0.20185024   0.2338621 ]\n",
            " [ -0.18589057   0.17991573]\n",
            " [ -0.74248946  -9.380539  ]\n",
            " [ -4.483707     4.679197  ]\n",
            " [ -1.4918826    1.0383223 ]\n",
            " [ -0.35191268   0.2844535 ]\n",
            " [-13.356003     1.9265727 ]\n",
            " [ -0.17625268   0.21232972]\n",
            " [ -1.214593     0.759784  ]\n",
            " [ -0.1622526    0.1941756 ]\n",
            " [ -0.1762527    0.21232972]]\n",
            "Accuracy: 0.121212\n",
            "Precision: 0.000000\n",
            "Recall: 0.000000\n",
            "F1 score: 0.000000\n",
            "[[ 4 29]\n",
            " [ 0  0]]\n"
          ]
        },
        {
          "output_type": "stream",
          "name": "stderr",
          "text": [
            "/usr/local/lib/python3.7/dist-packages/sklearn/metrics/_classification.py:1318: UndefinedMetricWarning: Recall is ill-defined and being set to 0.0 due to no true samples. Use `zero_division` parameter to control this behavior.\n",
            "  _warn_prf(average, modifier, msg_start, len(result))\n"
          ]
        }
      ]
    },
    {
      "cell_type": "markdown",
      "source": [
        "#MobileVNet"
      ],
      "metadata": {
        "id": "m1MUqGj5KBs6"
      }
    },
    {
      "cell_type": "code",
      "source": [
        "mobilenetV2 = MobileNetV2(input_shape=(224, 224, 3),\n",
        "                          include_top=False,\n",
        "                          weights='imagenet'\n",
        "                          )\n",
        "\n",
        "average_layer = GlobalAveragePooling2D()"
      ],
      "metadata": {
        "colab": {
          "base_uri": "https://localhost:8080/"
        },
        "id": "JqU9KbyBJ9v1",
        "outputId": "212e4d72-baa7-4a54-dd46-e5fc7fb47693"
      },
      "execution_count": null,
      "outputs": [
        {
          "output_type": "stream",
          "name": "stdout",
          "text": [
            "Downloading data from https://storage.googleapis.com/tensorflow/keras-applications/mobilenet_v2/mobilenet_v2_weights_tf_dim_ordering_tf_kernels_1.0_224_no_top.h5\n",
            "9412608/9406464 [==============================] - 0s 0us/step\n",
            "9420800/9406464 [==============================] - 0s 0us/step\n"
          ]
        }
      ]
    },
    {
      "cell_type": "code",
      "source": [
        "model = Sequential([\n",
        "    mobilenetV2,\n",
        "    average_layer,\n",
        "    Dense(256, activation=tf.nn.relu),\n",
        "    BatchNormalization(),\n",
        "    Dropout(0.3),\n",
        "    Dense(128, activation=tf.nn.relu),\n",
        "    BatchNormalization(),\n",
        "    Dropout(0.1),\n",
        "    Dense(2, activation=tf.nn.softmax)\n",
        "])"
      ],
      "metadata": {
        "id": "dGUYLrlOKQXV"
      },
      "execution_count": null,
      "outputs": []
    },
    {
      "cell_type": "code",
      "source": [
        "model.layers[0].trainable = False"
      ],
      "metadata": {
        "id": "dSIwzsq_KR70"
      },
      "execution_count": null,
      "outputs": []
    },
    {
      "cell_type": "code",
      "source": [
        "model.compile(optimizer=Adam(lr=0.001),\n",
        "              loss='sparse_categorical_crossentropy',\n",
        "              metrics=['accuracy'])"
      ],
      "metadata": {
        "colab": {
          "base_uri": "https://localhost:8080/"
        },
        "id": "LmMn6SeuKTct",
        "outputId": "464b2de0-125f-470d-c432-8757633b4107"
      },
      "execution_count": null,
      "outputs": [
        {
          "output_type": "stream",
          "name": "stderr",
          "text": [
            "/usr/local/lib/python3.7/dist-packages/keras/optimizer_v2/adam.py:105: UserWarning: The `lr` argument is deprecated, use `learning_rate` instead.\n",
            "  super(Adam, self).__init__(name, **kwargs)\n"
          ]
        }
      ]
    },
    {
      "cell_type": "code",
      "source": [
        "def scheduler(epoch):\n",
        "    if epoch <= 2:\n",
        "        return 0.001\n",
        "    elif epoch > 2 and epoch <= 15:\n",
        "        return 0.0001 \n",
        "    else:\n",
        "        return 0.00001\n",
        "\n",
        "lr_callbacks = tf.keras.callbacks.LearningRateScheduler(scheduler)"
      ],
      "metadata": {
        "id": "R4zLPLHgKUuE"
      },
      "execution_count": null,
      "outputs": []
    },
    {
      "cell_type": "code",
      "source": [
        "hist = model.fit(x=tr_images, y = tr_labels, \n",
        "                    epochs=5, validation_data=(ts_images, ts_labels),\n",
        "                    callbacks=[lr_callbacks])"
      ],
      "metadata": {
        "colab": {
          "base_uri": "https://localhost:8080/"
        },
        "id": "D3E6vMByKZHb",
        "outputId": "6e56de6c-c1ca-4267-940a-f58ba1f5800d"
      },
      "execution_count": null,
      "outputs": [
        {
          "output_type": "stream",
          "name": "stdout",
          "text": [
            "Epoch 1/5\n",
            "19/19 [==============================] - 6s 143ms/step - loss: 0.3934 - accuracy: 0.8458 - val_loss: 2.3631 - val_accuracy: 0.0909 - lr: 0.0010\n",
            "Epoch 2/5\n",
            "19/19 [==============================] - 1s 43ms/step - loss: 0.1165 - accuracy: 0.9525 - val_loss: 1.6944 - val_accuracy: 0.2424 - lr: 0.0010\n",
            "Epoch 3/5\n",
            "19/19 [==============================] - 1s 43ms/step - loss: 0.1061 - accuracy: 0.9525 - val_loss: 1.5061 - val_accuracy: 0.3030 - lr: 0.0010\n",
            "Epoch 4/5\n",
            "19/19 [==============================] - 1s 42ms/step - loss: 0.0613 - accuracy: 0.9780 - val_loss: 1.4617 - val_accuracy: 0.3030 - lr: 1.0000e-04\n",
            "Epoch 5/5\n",
            "19/19 [==============================] - 1s 42ms/step - loss: 0.0877 - accuracy: 0.9644 - val_loss: 1.4432 - val_accuracy: 0.3333 - lr: 1.0000e-04\n"
          ]
        }
      ]
    },
    {
      "cell_type": "code",
      "source": [
        "test_loss, test_acc = model.evaluate(ts_images,  ts_labels, verbose=2)\n",
        "print(test_acc)"
      ],
      "metadata": {
        "colab": {
          "base_uri": "https://localhost:8080/"
        },
        "id": "n4DNaGvxKaXr",
        "outputId": "b5c3b37e-3b5a-460c-db27-f6ede00abbfb"
      },
      "execution_count": null,
      "outputs": [
        {
          "output_type": "stream",
          "name": "stdout",
          "text": [
            "2/2 - 0s - loss: 1.4432 - accuracy: 0.3333 - 78ms/epoch - 39ms/step\n",
            "0.3333333432674408\n"
          ]
        }
      ]
    },
    {
      "cell_type": "code",
      "source": [
        "yhat_probs = model.predict(ts_images, verbose=0) # predict probabilities for test set\n",
        "print(yhat_probs)\n",
        "yhat_classes = np.argmax(yhat_probs,axis=1) #1-D array of classes\n",
        "yhat_probs = yhat_probs[:, 0] # reduce to 1d array\n",
        "\n",
        "\n",
        "accuracy = accuracy_score(ts_labels, yhat_classes)\n",
        "print('Accuracy: %f' % accuracy)\n",
        "precision = precision_score(ts_labels, yhat_classes)\n",
        "print('Precision: %f' % precision)\n",
        "recall = recall_score(ts_labels, yhat_classes)\n",
        "print('Recall: %f' % recall)\n",
        "f1 = f1_score(ts_labels, yhat_classes)\n",
        "print('F1 score: %f' % f1)\n",
        "\n",
        "matrix = confusion_matrix(ts_labels, yhat_classes)\n",
        "print(matrix)"
      ],
      "metadata": {
        "colab": {
          "base_uri": "https://localhost:8080/"
        },
        "id": "F1JF9dQHKby7",
        "outputId": "5cc5a774-b58a-4f4d-ab54-cd45e2ece5e1"
      },
      "execution_count": null,
      "outputs": [
        {
          "output_type": "stream",
          "name": "stdout",
          "text": [
            "[[0.10175401 0.898246  ]\n",
            " [0.25007844 0.74992156]\n",
            " [0.01067632 0.9893237 ]\n",
            " [0.23227468 0.76772535]\n",
            " [0.55391973 0.44608024]\n",
            " [0.02381363 0.9761864 ]\n",
            " [0.9648707  0.03512931]\n",
            " [0.30201674 0.6979832 ]\n",
            " [0.16579923 0.8342008 ]\n",
            " [0.17120025 0.8287997 ]\n",
            " [0.24117465 0.75882536]\n",
            " [0.5182303  0.48176968]\n",
            " [0.02399185 0.9760081 ]\n",
            " [0.2368485  0.7631515 ]\n",
            " [0.917007   0.0829929 ]\n",
            " [0.75809395 0.24190603]\n",
            " [0.5267986  0.47320136]\n",
            " [0.28984606 0.71015394]\n",
            " [0.95485336 0.04514667]\n",
            " [0.1432498  0.85675025]\n",
            " [0.99838686 0.00161315]\n",
            " [0.20515688 0.7948431 ]\n",
            " [0.22473587 0.7752642 ]\n",
            " [0.41358763 0.5864124 ]\n",
            " [0.03870054 0.9612995 ]\n",
            " [0.18838246 0.81161755]\n",
            " [0.6417273  0.35827264]\n",
            " [0.30179086 0.6982091 ]\n",
            " [0.6042849  0.39571512]\n",
            " [0.75966126 0.2403387 ]\n",
            " [0.25733393 0.74266607]\n",
            " [0.15815176 0.8418482 ]\n",
            " [0.0580897  0.9419103 ]]\n",
            "Accuracy: 0.333333\n",
            "Precision: 0.000000\n",
            "Recall: 0.000000\n",
            "F1 score: 0.000000\n",
            "[[11 22]\n",
            " [ 0  0]]\n"
          ]
        },
        {
          "output_type": "stream",
          "name": "stderr",
          "text": [
            "/usr/local/lib/python3.7/dist-packages/sklearn/metrics/_classification.py:1318: UndefinedMetricWarning: Recall is ill-defined and being set to 0.0 due to no true samples. Use `zero_division` parameter to control this behavior.\n",
            "  _warn_prf(average, modifier, msg_start, len(result))\n"
          ]
        }
      ]
    },
    {
      "cell_type": "markdown",
      "source": [
        "#VGG16"
      ],
      "metadata": {
        "id": "I0WuDpz4LimG"
      }
    },
    {
      "cell_type": "code",
      "source": [
        "vgg16_model = tf.keras.applications.vgg16.VGG16(include_top=False, weights=\"imagenet\", input_shape=(224,224,3))"
      ],
      "metadata": {
        "colab": {
          "base_uri": "https://localhost:8080/"
        },
        "id": "rBBjfgu2LhZh",
        "outputId": "04f3792d-86b2-42e1-a5b2-ac8801bd6be7"
      },
      "execution_count": null,
      "outputs": [
        {
          "output_type": "stream",
          "name": "stdout",
          "text": [
            "Downloading data from https://storage.googleapis.com/tensorflow/keras-applications/vgg16/vgg16_weights_tf_dim_ordering_tf_kernels_notop.h5\n",
            "58892288/58889256 [==============================] - 1s 0us/step\n",
            "58900480/58889256 [==============================] - 1s 0us/step\n"
          ]
        }
      ]
    },
    {
      "cell_type": "code",
      "source": [
        "vgg16_model.output[-1]"
      ],
      "metadata": {
        "colab": {
          "base_uri": "https://localhost:8080/"
        },
        "id": "OBin75jsLhcG",
        "outputId": "cb50955d-0d8f-47b2-fe1c-c44c58ccba49"
      },
      "execution_count": null,
      "outputs": [
        {
          "output_type": "execute_result",
          "data": {
            "text/plain": [
              "<KerasTensor: shape=(7, 7, 512) dtype=float32 (created by layer 'tf.__operators__.getitem')>"
            ]
          },
          "metadata": {},
          "execution_count": 31
        }
      ]
    },
    {
      "cell_type": "code",
      "source": [
        "model = Sequential([vgg16_model,\n",
        "                    Flatten(),\n",
        "#                     GlobalAveragePooling2D(),\n",
        "#                     Dense(512, activation = \"relu\"),\n",
        "#                     BatchNormalization(),\n",
        "#                     Dropout(0.3),\n",
        "#                     Dense(128, activation = \"relu\"),\n",
        "#                     Dropout(0.1),\n",
        "#                     # Dense(32, activation = \"relu\"),\n",
        "#                     # Dropout(0.3),\n",
        "                    Dense(2, activation = \"softmax\")])"
      ],
      "metadata": {
        "id": "ENGquPfxLhfC"
      },
      "execution_count": null,
      "outputs": []
    },
    {
      "cell_type": "code",
      "source": [
        "model.layers[0].trainable = False\n",
        "model.compile(loss=\"sparse_categorical_crossentropy\", optimizer=\"adam\", metrics=\"accuracy\")"
      ],
      "metadata": {
        "id": "vjIrHvLqLsFj"
      },
      "execution_count": null,
      "outputs": []
    },
    {
      "cell_type": "code",
      "source": [
        "model.summary()"
      ],
      "metadata": {
        "colab": {
          "base_uri": "https://localhost:8080/"
        },
        "id": "DYnK42ZRLujM",
        "outputId": "979064f3-1b40-40b0-d169-4feba6f373e4"
      },
      "execution_count": null,
      "outputs": [
        {
          "output_type": "stream",
          "name": "stdout",
          "text": [
            "Model: \"sequential_2\"\n",
            "_________________________________________________________________\n",
            " Layer (type)                Output Shape              Param #   \n",
            "=================================================================\n",
            " vgg16 (Functional)          (None, 7, 7, 512)         14714688  \n",
            "                                                                 \n",
            " flatten_1 (Flatten)         (None, 25088)             0         \n",
            "                                                                 \n",
            " dense_5 (Dense)             (None, 2)                 50178     \n",
            "                                                                 \n",
            "=================================================================\n",
            "Total params: 14,764,866\n",
            "Trainable params: 50,178\n",
            "Non-trainable params: 14,714,688\n",
            "_________________________________________________________________\n"
          ]
        }
      ]
    },
    {
      "cell_type": "code",
      "source": [
        "hist = model.fit(x=tr_images, y = tr_labels, \n",
        "                    epochs=5, validation_data=(ts_images, ts_labels),\n",
        "                    callbacks=[lr_callbacks])"
      ],
      "metadata": {
        "colab": {
          "base_uri": "https://localhost:8080/"
        },
        "id": "Jcl0BSVbLweL",
        "outputId": "a7264954-fa24-424f-8c2e-70aeba35f97d"
      },
      "execution_count": null,
      "outputs": [
        {
          "output_type": "stream",
          "name": "stdout",
          "text": [
            "Epoch 1/5\n",
            "19/19 [==============================] - 9s 310ms/step - loss: 1.7819 - accuracy: 0.8983 - val_loss: 10.1828 - val_accuracy: 0.8182 - lr: 0.0010\n",
            "Epoch 2/5\n",
            "19/19 [==============================] - 3s 163ms/step - loss: 0.2624 - accuracy: 0.9831 - val_loss: 40.8256 - val_accuracy: 0.4545 - lr: 0.0010\n",
            "Epoch 3/5\n",
            "19/19 [==============================] - 3s 164ms/step - loss: 0.1297 - accuracy: 0.9915 - val_loss: 33.9284 - val_accuracy: 0.6061 - lr: 0.0010\n",
            "Epoch 4/5\n",
            "19/19 [==============================] - 3s 165ms/step - loss: 2.0018e-04 - accuracy: 1.0000 - val_loss: 32.1954 - val_accuracy: 0.6364 - lr: 1.0000e-04\n",
            "Epoch 5/5\n",
            "19/19 [==============================] - 3s 167ms/step - loss: 1.4871e-04 - accuracy: 1.0000 - val_loss: 31.9300 - val_accuracy: 0.6364 - lr: 1.0000e-04\n"
          ]
        }
      ]
    },
    {
      "cell_type": "code",
      "source": [
        "test_loss, test_acc = model.evaluate(ts_images,  ts_labels, verbose=2)\n",
        "print(test_acc)"
      ],
      "metadata": {
        "colab": {
          "base_uri": "https://localhost:8080/"
        },
        "id": "c8yKkYfVLyLu",
        "outputId": "561331a4-74ea-488d-aa6d-5a31fd6e545e"
      },
      "execution_count": null,
      "outputs": [
        {
          "output_type": "stream",
          "name": "stdout",
          "text": [
            "2/2 - 0s - loss: 31.9300 - accuracy: 0.6364 - 180ms/epoch - 90ms/step\n",
            "0.6363636255264282\n"
          ]
        }
      ]
    },
    {
      "cell_type": "code",
      "source": [
        "yhat_probs = model.predict(ts_images, verbose=0) # predict probabilities for test set\n",
        "print(yhat_probs)\n",
        "yhat_classes = np.argmax(yhat_probs,axis=1) #1-D array of classes\n",
        "yhat_probs = yhat_probs[:, 0] # reduce to 1d array\n",
        "\n",
        "\n",
        "accuracy = accuracy_score(ts_labels, yhat_classes)\n",
        "print('Accuracy: %f' % accuracy)\n",
        "precision = precision_score(ts_labels, yhat_classes)\n",
        "print('Precision: %f' % precision)\n",
        "recall = recall_score(ts_labels, yhat_classes)\n",
        "print('Recall: %f' % recall)\n",
        "f1 = f1_score(ts_labels, yhat_classes)\n",
        "print('F1 score: %f' % f1)\n",
        "\n",
        "matrix = confusion_matrix(ts_labels, yhat_classes)\n",
        "print(matrix)"
      ],
      "metadata": {
        "colab": {
          "base_uri": "https://localhost:8080/"
        },
        "id": "OCbsJKgCLzvg",
        "outputId": "7bd03412-9e89-4382-f58f-7c95e550ed73"
      },
      "execution_count": null,
      "outputs": [
        {
          "output_type": "stream",
          "name": "stdout",
          "text": [
            "[[5.63541925e-32 1.00000000e+00]\n",
            " [1.11525664e-02 9.88847375e-01]\n",
            " [0.00000000e+00 1.00000000e+00]\n",
            " [1.00000000e+00 6.65270509e-22]\n",
            " [6.71087128e-22 1.00000000e+00]\n",
            " [0.00000000e+00 1.00000000e+00]\n",
            " [1.00000000e+00 3.54188796e-15]\n",
            " [0.00000000e+00 1.00000000e+00]\n",
            " [1.56078745e-30 1.00000000e+00]\n",
            " [1.00000000e+00 6.39998441e-17]\n",
            " [1.00000000e+00 7.15128123e-10]\n",
            " [1.00000000e+00 0.00000000e+00]\n",
            " [1.00000000e+00 3.58157320e-16]\n",
            " [9.99977946e-01 2.20433431e-05]\n",
            " [9.99998808e-01 1.14114812e-06]\n",
            " [1.48600119e-03 9.98513997e-01]\n",
            " [1.00000000e+00 1.26349138e-23]\n",
            " [1.00000000e+00 1.51545230e-08]\n",
            " [1.00000000e+00 2.18402367e-17]\n",
            " [1.00000000e+00 6.39097396e-27]\n",
            " [1.00000000e+00 5.64231217e-10]\n",
            " [1.00000000e+00 8.03880296e-11]\n",
            " [1.00000000e+00 4.58240591e-23]\n",
            " [1.00000000e+00 1.99447750e-11]\n",
            " [9.70942676e-01 2.90573500e-02]\n",
            " [1.00000000e+00 0.00000000e+00]\n",
            " [1.83974791e-19 1.00000000e+00]\n",
            " [1.00000000e+00 4.60408384e-14]\n",
            " [9.72731791e-12 1.00000000e+00]\n",
            " [1.00000000e+00 1.26271821e-34]\n",
            " [2.99768511e-13 1.00000000e+00]\n",
            " [1.00000000e+00 6.38212032e-30]\n",
            " [0.00000000e+00 1.00000000e+00]]\n",
            "Accuracy: 0.636364\n",
            "Precision: 0.000000\n",
            "Recall: 0.000000\n",
            "F1 score: 0.000000\n",
            "[[21 12]\n",
            " [ 0  0]]\n"
          ]
        },
        {
          "output_type": "stream",
          "name": "stderr",
          "text": [
            "/usr/local/lib/python3.7/dist-packages/sklearn/metrics/_classification.py:1318: UndefinedMetricWarning: Recall is ill-defined and being set to 0.0 due to no true samples. Use `zero_division` parameter to control this behavior.\n",
            "  _warn_prf(average, modifier, msg_start, len(result))\n"
          ]
        }
      ]
    },
    {
      "cell_type": "markdown",
      "source": [
        "#Pre-Trained VGG19"
      ],
      "metadata": {
        "id": "hgh0ZXo4MYo9"
      }
    },
    {
      "cell_type": "code",
      "source": [
        "vgg19_model = tf.keras.applications.vgg19.VGG19(include_top=True, weights=\"imagenet\", input_shape=(224,224,3))"
      ],
      "metadata": {
        "colab": {
          "base_uri": "https://localhost:8080/"
        },
        "id": "7renKH4eL45M",
        "outputId": "f623fba6-23be-48f6-938f-f4c6cbd8b161"
      },
      "execution_count": null,
      "outputs": [
        {
          "output_type": "stream",
          "name": "stdout",
          "text": [
            "Downloading data from https://storage.googleapis.com/tensorflow/keras-applications/vgg19/vgg19_weights_tf_dim_ordering_tf_kernels.h5\n",
            "574717952/574710816 [==============================] - 3s 0us/step\n",
            "574726144/574710816 [==============================] - 3s 0us/step\n"
          ]
        }
      ]
    },
    {
      "cell_type": "code",
      "source": [
        "vgg19_model.output[-1]"
      ],
      "metadata": {
        "colab": {
          "base_uri": "https://localhost:8080/"
        },
        "id": "IFP7KfttMZb1",
        "outputId": "27c5a95f-8fee-48ef-f4bb-1c7342e16d5d"
      },
      "execution_count": null,
      "outputs": [
        {
          "output_type": "execute_result",
          "data": {
            "text/plain": [
              "<KerasTensor: shape=(1000,) dtype=float32 (created by layer 'tf.__operators__.getitem_1')>"
            ]
          },
          "metadata": {},
          "execution_count": 39
        }
      ]
    },
    {
      "cell_type": "code",
      "source": [
        "model = Sequential()\n",
        "model.add(vgg19_model)\n",
        "model.add(Flatten())\n",
        "\n",
        "model.add(Dense(512, activation = \"relu\"))\n",
        "model.add(BatchNormalization())\n",
        "#model.add(Dropout(0.3))\n",
        "model.add(Dense(256, activation = \"relu\"))\n",
        "model.add(BatchNormalization())\n",
        "#model.add(Dropout(0.2))\n",
        "model.add(Dense(128, activation = \"relu\"))\n",
        "model.add(BatchNormalization())\n",
        "#model.add(Dropout(0.1))\n",
        "\n",
        "\n",
        "model.add(Dense(2,activation='softmax'))\n",
        "model.summary()"
      ],
      "metadata": {
        "colab": {
          "base_uri": "https://localhost:8080/"
        },
        "id": "5gv6GRFWMfYj",
        "outputId": "501b3a32-2caa-4f9d-8ae1-af2a753d9b18"
      },
      "execution_count": null,
      "outputs": [
        {
          "output_type": "stream",
          "name": "stdout",
          "text": [
            "Model: \"sequential_3\"\n",
            "_________________________________________________________________\n",
            " Layer (type)                Output Shape              Param #   \n",
            "=================================================================\n",
            " vgg19 (Functional)          (None, 1000)              143667240 \n",
            "                                                                 \n",
            " flatten_2 (Flatten)         (None, 1000)              0         \n",
            "                                                                 \n",
            " dense_6 (Dense)             (None, 512)               512512    \n",
            "                                                                 \n",
            " batch_normalization_2 (Batc  (None, 512)              2048      \n",
            " hNormalization)                                                 \n",
            "                                                                 \n",
            " dense_7 (Dense)             (None, 256)               131328    \n",
            "                                                                 \n",
            " batch_normalization_3 (Batc  (None, 256)              1024      \n",
            " hNormalization)                                                 \n",
            "                                                                 \n",
            " dense_8 (Dense)             (None, 128)               32896     \n",
            "                                                                 \n",
            " batch_normalization_4 (Batc  (None, 128)              512       \n",
            " hNormalization)                                                 \n",
            "                                                                 \n",
            " dense_9 (Dense)             (None, 2)                 258       \n",
            "                                                                 \n",
            "=================================================================\n",
            "Total params: 144,347,818\n",
            "Trainable params: 144,346,026\n",
            "Non-trainable params: 1,792\n",
            "_________________________________________________________________\n"
          ]
        }
      ]
    },
    {
      "cell_type": "code",
      "source": [
        "model.layers[0].trainable = False\n",
        "model.compile(loss=\"sparse_categorical_crossentropy\", optimizer=\"adam\", metrics=\"accuracy\")"
      ],
      "metadata": {
        "id": "e3zcH1OAMhXc"
      },
      "execution_count": null,
      "outputs": []
    },
    {
      "cell_type": "code",
      "source": [
        "hist = model.fit(x=tr_images, y = tr_labels, \n",
        "                    epochs=10, validation_data=(ts_images, ts_labels),\n",
        "                    callbacks=[lr_callbacks])"
      ],
      "metadata": {
        "colab": {
          "base_uri": "https://localhost:8080/"
        },
        "id": "tyKWRdi_Mkcc",
        "outputId": "1059968e-fcfd-4c70-ffca-fca622f9c39e"
      },
      "execution_count": null,
      "outputs": [
        {
          "output_type": "stream",
          "name": "stdout",
          "text": [
            "Epoch 1/10\n",
            "19/19 [==============================] - 6s 215ms/step - loss: 0.4328 - accuracy: 0.8169 - val_loss: 0.7773 - val_accuracy: 0.0000e+00 - lr: 0.0010\n",
            "Epoch 2/10\n",
            "19/19 [==============================] - 4s 202ms/step - loss: 0.1029 - accuracy: 0.9644 - val_loss: 0.9082 - val_accuracy: 0.0000e+00 - lr: 0.0010\n",
            "Epoch 3/10\n",
            "19/19 [==============================] - 4s 204ms/step - loss: 0.0777 - accuracy: 0.9814 - val_loss: 0.9890 - val_accuracy: 0.0000e+00 - lr: 0.0010\n",
            "Epoch 4/10\n",
            "19/19 [==============================] - 4s 204ms/step - loss: 0.0396 - accuracy: 0.9847 - val_loss: 1.0287 - val_accuracy: 0.0000e+00 - lr: 1.0000e-04\n",
            "Epoch 5/10\n",
            "19/19 [==============================] - 4s 212ms/step - loss: 0.0351 - accuracy: 0.9915 - val_loss: 1.0768 - val_accuracy: 0.0000e+00 - lr: 1.0000e-04\n",
            "Epoch 6/10\n",
            "19/19 [==============================] - 4s 203ms/step - loss: 0.0373 - accuracy: 0.9831 - val_loss: 1.1016 - val_accuracy: 0.0000e+00 - lr: 1.0000e-04\n",
            "Epoch 7/10\n",
            "19/19 [==============================] - 4s 204ms/step - loss: 0.0414 - accuracy: 0.9915 - val_loss: 1.1358 - val_accuracy: 0.0000e+00 - lr: 1.0000e-04\n",
            "Epoch 8/10\n",
            "19/19 [==============================] - 4s 201ms/step - loss: 0.0264 - accuracy: 0.9932 - val_loss: 1.1504 - val_accuracy: 0.0000e+00 - lr: 1.0000e-04\n",
            "Epoch 9/10\n",
            "19/19 [==============================] - 4s 201ms/step - loss: 0.0282 - accuracy: 0.9932 - val_loss: 1.1543 - val_accuracy: 0.0000e+00 - lr: 1.0000e-04\n",
            "Epoch 10/10\n",
            "19/19 [==============================] - 4s 197ms/step - loss: 0.0210 - accuracy: 0.9949 - val_loss: 1.1702 - val_accuracy: 0.0000e+00 - lr: 1.0000e-04\n"
          ]
        }
      ]
    },
    {
      "cell_type": "code",
      "source": [
        "test_loss, test_acc = model.evaluate(ts_images,  ts_labels, verbose=2)\n",
        "print(test_acc)"
      ],
      "metadata": {
        "colab": {
          "base_uri": "https://localhost:8080/"
        },
        "id": "7-ilutW1Mlmt",
        "outputId": "24eef1b0-3259-419d-9d52-85598a0728f8"
      },
      "execution_count": null,
      "outputs": [
        {
          "output_type": "stream",
          "name": "stdout",
          "text": [
            "2/2 - 0s - loss: 1.1702 - accuracy: 0.0000e+00 - 236ms/epoch - 118ms/step\n",
            "0.0\n"
          ]
        }
      ]
    },
    {
      "cell_type": "code",
      "source": [
        "yhat_probs = model.predict(ts_images, verbose=0) # predict probabilities for test set\n",
        "print(yhat_probs)\n",
        "yhat_classes = np.argmax(yhat_probs,axis=1) #1-D array of classes\n",
        "yhat_probs = yhat_probs[:, 0] # reduce to 1d array\n",
        "\n",
        "\n",
        "accuracy = accuracy_score(ts_labels, yhat_classes)\n",
        "print('Accuracy: %f' % accuracy)\n",
        "precision = precision_score(ts_labels, yhat_classes)\n",
        "print('Precision: %f' % precision)\n",
        "recall = recall_score(ts_labels, yhat_classes)\n",
        "print('Recall: %f' % recall)\n",
        "f1 = f1_score(ts_labels, yhat_classes)\n",
        "print('F1 score: %f' % f1)\n",
        "\n",
        "matrix = confusion_matrix(ts_labels, yhat_classes)\n",
        "print(matrix)"
      ],
      "metadata": {
        "colab": {
          "base_uri": "https://localhost:8080/"
        },
        "id": "MeodvcCrMnJd",
        "outputId": "4e3f4e73-0811-41f6-f8a6-5bccfcb189d3"
      },
      "execution_count": null,
      "outputs": [
        {
          "output_type": "stream",
          "name": "stdout",
          "text": [
            "[[0.33527827 0.6647218 ]\n",
            " [0.29698053 0.70301944]\n",
            " [0.26706466 0.73293537]\n",
            " [0.3000736  0.6999264 ]\n",
            " [0.29019654 0.70980346]\n",
            " [0.24291582 0.7570842 ]\n",
            " [0.3217787  0.6782213 ]\n",
            " [0.26595718 0.7340429 ]\n",
            " [0.30383345 0.6961666 ]\n",
            " [0.30867058 0.6913294 ]\n",
            " [0.32261786 0.6773821 ]\n",
            " [0.33136678 0.6686332 ]\n",
            " [0.38032967 0.61967033]\n",
            " [0.3140368  0.68596315]\n",
            " [0.28915784 0.71084213]\n",
            " [0.29281402 0.70718604]\n",
            " [0.34131384 0.65868616]\n",
            " [0.31349495 0.6865051 ]\n",
            " [0.32102138 0.67897856]\n",
            " [0.39574066 0.6042594 ]\n",
            " [0.3211759  0.67882407]\n",
            " [0.25970626 0.74029374]\n",
            " [0.3571249  0.64287513]\n",
            " [0.38898164 0.61101836]\n",
            " [0.2923088  0.7076912 ]\n",
            " [0.30518177 0.6948182 ]\n",
            " [0.2648532  0.7351468 ]\n",
            " [0.31720057 0.68279946]\n",
            " [0.30870277 0.69129723]\n",
            " [0.38153678 0.6184633 ]\n",
            " [0.37598702 0.624013  ]\n",
            " [0.31695566 0.6830443 ]\n",
            " [0.20957631 0.7904237 ]]\n",
            "Accuracy: 0.000000\n",
            "Precision: 0.000000\n",
            "Recall: 0.000000\n",
            "F1 score: 0.000000\n",
            "[[ 0 33]\n",
            " [ 0  0]]\n"
          ]
        },
        {
          "output_type": "stream",
          "name": "stderr",
          "text": [
            "/usr/local/lib/python3.7/dist-packages/sklearn/metrics/_classification.py:1318: UndefinedMetricWarning: Recall is ill-defined and being set to 0.0 due to no true samples. Use `zero_division` parameter to control this behavior.\n",
            "  _warn_prf(average, modifier, msg_start, len(result))\n"
          ]
        }
      ]
    },
    {
      "cell_type": "markdown",
      "source": [
        "#DenseNet "
      ],
      "metadata": {
        "id": "7US1JXYNMqAi"
      }
    },
    {
      "cell_type": "code",
      "source": [
        "densenet = DenseNet121(weights='imagenet',\n",
        "                           include_top=False,\n",
        "                           input_shape=(224,224,3)\n",
        "                          )"
      ],
      "metadata": {
        "colab": {
          "base_uri": "https://localhost:8080/"
        },
        "id": "JEHTxSUrMorE",
        "outputId": "16261845-37d7-4f33-9c8c-26890466f7ae"
      },
      "execution_count": null,
      "outputs": [
        {
          "output_type": "stream",
          "name": "stdout",
          "text": [
            "Downloading data from https://storage.googleapis.com/tensorflow/keras-applications/densenet/densenet121_weights_tf_dim_ordering_tf_kernels_notop.h5\n",
            "29089792/29084464 [==============================] - 0s 0us/step\n",
            "29097984/29084464 [==============================] - 0s 0us/step\n"
          ]
        }
      ]
    },
    {
      "cell_type": "code",
      "source": [
        "model = tf.keras.models.Sequential([densenet,\n",
        "                                        GlobalAveragePooling2D(),\n",
        "                                        Dense(512, activation='relu'),\n",
        "                                        BatchNormalization(),\n",
        "                                        Dropout(0.3),\n",
        "                                        Dense(256, activation='relu'),\n",
        "                                        BatchNormalization(),\n",
        "                                        Dropout(0.2),                                        \n",
        "                                        Dense(128, activation='relu'),\n",
        "                                        BatchNormalization(),\n",
        "                                        Dropout(0.1),\n",
        "                                        Dense(2, activation='softmax')\n",
        "                                      ])"
      ],
      "metadata": {
        "id": "kMBVX68gMs51"
      },
      "execution_count": null,
      "outputs": []
    },
    {
      "cell_type": "code",
      "source": [
        "model.layers[0].trainable = False"
      ],
      "metadata": {
        "id": "m8-5oFW5Mua9"
      },
      "execution_count": null,
      "outputs": []
    },
    {
      "cell_type": "code",
      "source": [
        "model.compile(optimizer=Adam(lr=0.001),\n",
        "                loss='sparse_categorical_crossentropy',\n",
        "                metrics=['accuracy']\n",
        "                )"
      ],
      "metadata": {
        "colab": {
          "base_uri": "https://localhost:8080/"
        },
        "id": "RPmQgkQTMvk0",
        "outputId": "9a719355-3436-42ba-cf9b-580b64812533"
      },
      "execution_count": null,
      "outputs": [
        {
          "output_type": "stream",
          "name": "stderr",
          "text": [
            "/usr/local/lib/python3.7/dist-packages/keras/optimizer_v2/adam.py:105: UserWarning: The `lr` argument is deprecated, use `learning_rate` instead.\n",
            "  super(Adam, self).__init__(name, **kwargs)\n"
          ]
        }
      ]
    },
    {
      "cell_type": "code",
      "source": [
        "model.summary()"
      ],
      "metadata": {
        "colab": {
          "base_uri": "https://localhost:8080/"
        },
        "id": "TD4whW3nMwsM",
        "outputId": "c3a81fa6-2ad2-4509-fec0-6ef0dbf11487"
      },
      "execution_count": null,
      "outputs": [
        {
          "output_type": "stream",
          "name": "stdout",
          "text": [
            "Model: \"sequential_4\"\n",
            "_________________________________________________________________\n",
            " Layer (type)                Output Shape              Param #   \n",
            "=================================================================\n",
            " densenet121 (Functional)    (None, 7, 7, 1024)        7037504   \n",
            "                                                                 \n",
            " global_average_pooling2d_1   (None, 1024)             0         \n",
            " (GlobalAveragePooling2D)                                        \n",
            "                                                                 \n",
            " dense_10 (Dense)            (None, 512)               524800    \n",
            "                                                                 \n",
            " batch_normalization_5 (Batc  (None, 512)              2048      \n",
            " hNormalization)                                                 \n",
            "                                                                 \n",
            " dropout_2 (Dropout)         (None, 512)               0         \n",
            "                                                                 \n",
            " dense_11 (Dense)            (None, 256)               131328    \n",
            "                                                                 \n",
            " batch_normalization_6 (Batc  (None, 256)              1024      \n",
            " hNormalization)                                                 \n",
            "                                                                 \n",
            " dropout_3 (Dropout)         (None, 256)               0         \n",
            "                                                                 \n",
            " dense_12 (Dense)            (None, 128)               32896     \n",
            "                                                                 \n",
            " batch_normalization_7 (Batc  (None, 128)              512       \n",
            " hNormalization)                                                 \n",
            "                                                                 \n",
            " dropout_4 (Dropout)         (None, 128)               0         \n",
            "                                                                 \n",
            " dense_13 (Dense)            (None, 2)                 258       \n",
            "                                                                 \n",
            "=================================================================\n",
            "Total params: 7,730,370\n",
            "Trainable params: 691,074\n",
            "Non-trainable params: 7,039,296\n",
            "_________________________________________________________________\n"
          ]
        }
      ]
    },
    {
      "cell_type": "code",
      "source": [
        "hist = model.fit(x=tr_images, y = tr_labels, \n",
        "                    epochs=15, validation_data=(ts_images, ts_labels),\n",
        "                    callbacks=[lr_callbacks])"
      ],
      "metadata": {
        "colab": {
          "base_uri": "https://localhost:8080/"
        },
        "id": "AgRjRpqmMyAE",
        "outputId": "5b40df74-0d11-4bb4-d277-0d897303bcbd"
      },
      "execution_count": null,
      "outputs": [
        {
          "output_type": "stream",
          "name": "stdout",
          "text": [
            "Epoch 1/15\n",
            "19/19 [==============================] - 14s 294ms/step - loss: 0.4038 - accuracy: 0.8203 - val_loss: 0.1826 - val_accuracy: 0.9091 - lr: 0.0010\n",
            "Epoch 2/15\n",
            "19/19 [==============================] - 2s 103ms/step - loss: 0.2266 - accuracy: 0.9119 - val_loss: 0.8431 - val_accuracy: 0.6364 - lr: 0.0010\n",
            "Epoch 3/15\n",
            "19/19 [==============================] - 2s 98ms/step - loss: 0.1565 - accuracy: 0.9441 - val_loss: 1.1129 - val_accuracy: 0.5758 - lr: 0.0010\n",
            "Epoch 4/15\n",
            "19/19 [==============================] - 2s 95ms/step - loss: 0.1641 - accuracy: 0.9407 - val_loss: 1.4755 - val_accuracy: 0.4848 - lr: 1.0000e-04\n",
            "Epoch 5/15\n",
            "19/19 [==============================] - 2s 98ms/step - loss: 0.1252 - accuracy: 0.9424 - val_loss: 1.6155 - val_accuracy: 0.4848 - lr: 1.0000e-04\n",
            "Epoch 6/15\n",
            "19/19 [==============================] - 2s 96ms/step - loss: 0.1457 - accuracy: 0.9424 - val_loss: 1.6931 - val_accuracy: 0.4242 - lr: 1.0000e-04\n",
            "Epoch 7/15\n",
            "19/19 [==============================] - 2s 96ms/step - loss: 0.1212 - accuracy: 0.9542 - val_loss: 1.9540 - val_accuracy: 0.3939 - lr: 1.0000e-04\n",
            "Epoch 8/15\n",
            "19/19 [==============================] - 2s 96ms/step - loss: 0.1129 - accuracy: 0.9542 - val_loss: 1.9677 - val_accuracy: 0.3939 - lr: 1.0000e-04\n",
            "Epoch 9/15\n",
            "19/19 [==============================] - 2s 97ms/step - loss: 0.1103 - accuracy: 0.9627 - val_loss: 2.0813 - val_accuracy: 0.3636 - lr: 1.0000e-04\n",
            "Epoch 10/15\n",
            "19/19 [==============================] - 2s 96ms/step - loss: 0.1004 - accuracy: 0.9576 - val_loss: 1.9659 - val_accuracy: 0.3939 - lr: 1.0000e-04\n",
            "Epoch 11/15\n",
            "19/19 [==============================] - 2s 97ms/step - loss: 0.0865 - accuracy: 0.9695 - val_loss: 2.0427 - val_accuracy: 0.3636 - lr: 1.0000e-04\n",
            "Epoch 12/15\n",
            "19/19 [==============================] - 2s 97ms/step - loss: 0.0958 - accuracy: 0.9593 - val_loss: 2.0706 - val_accuracy: 0.3636 - lr: 1.0000e-04\n",
            "Epoch 13/15\n",
            "19/19 [==============================] - 2s 97ms/step - loss: 0.0914 - accuracy: 0.9627 - val_loss: 2.0590 - val_accuracy: 0.3636 - lr: 1.0000e-04\n",
            "Epoch 14/15\n",
            "19/19 [==============================] - 2s 99ms/step - loss: 0.0880 - accuracy: 0.9661 - val_loss: 2.1848 - val_accuracy: 0.3636 - lr: 1.0000e-04\n",
            "Epoch 15/15\n",
            "19/19 [==============================] - 2s 100ms/step - loss: 0.0937 - accuracy: 0.9746 - val_loss: 1.9598 - val_accuracy: 0.3939 - lr: 1.0000e-04\n"
          ]
        }
      ]
    },
    {
      "cell_type": "code",
      "source": [
        "test_loss, test_acc = model.evaluate(ts_images,  ts_labels, verbose=2)\n",
        "print(test_acc)"
      ],
      "metadata": {
        "colab": {
          "base_uri": "https://localhost:8080/"
        },
        "id": "vBAorpv4Mzf9",
        "outputId": "7f4b8a75-4f82-4b82-c592-77d839c8b59c"
      },
      "execution_count": null,
      "outputs": [
        {
          "output_type": "stream",
          "name": "stdout",
          "text": [
            "2/2 - 0s - loss: 1.9598 - accuracy: 0.3939 - 154ms/epoch - 77ms/step\n",
            "0.39393940567970276\n"
          ]
        }
      ]
    },
    {
      "cell_type": "code",
      "source": [
        "yhat_probs = model.predict(ts_images, verbose=0) # predict probabilities for test set\n",
        "print(yhat_probs)\n",
        "yhat_classes = np.argmax(yhat_probs,axis=1) #1-D array of classes\n",
        "yhat_probs = yhat_probs[:, 0] # reduce to 1d array\n",
        "\n",
        "\n",
        "accuracy = accuracy_score(ts_labels, yhat_classes)\n",
        "print('Accuracy: %f' % accuracy)\n",
        "precision = precision_score(ts_labels, yhat_classes)\n",
        "print('Precision: %f' % precision)\n",
        "recall = recall_score(ts_labels, yhat_classes)\n",
        "print('Recall: %f' % recall)\n",
        "f1 = f1_score(ts_labels, yhat_classes)\n",
        "print('F1 score: %f' % f1)\n",
        "\n",
        "matrix = confusion_matrix(ts_labels, yhat_classes)\n",
        "print(matrix)"
      ],
      "metadata": {
        "colab": {
          "base_uri": "https://localhost:8080/"
        },
        "id": "oPc3e8IvM0rE",
        "outputId": "4edfa94a-6c46-4c8c-a379-b42b87a98753"
      },
      "execution_count": null,
      "outputs": [
        {
          "output_type": "stream",
          "name": "stdout",
          "text": [
            "WARNING:tensorflow:5 out of the last 11 calls to <function Model.make_predict_function.<locals>.predict_function at 0x7f83742b70e0> triggered tf.function retracing. Tracing is expensive and the excessive number of tracings could be due to (1) creating @tf.function repeatedly in a loop, (2) passing tensors with different shapes, (3) passing Python objects instead of tensors. For (1), please define your @tf.function outside of the loop. For (2), @tf.function has experimental_relax_shapes=True option that relaxes argument shapes that can avoid unnecessary retracing. For (3), please refer to https://www.tensorflow.org/guide/function#controlling_retracing and https://www.tensorflow.org/api_docs/python/tf/function for  more details.\n",
            "[[0.00103143 0.9989686 ]\n",
            " [0.02650721 0.9734928 ]\n",
            " [0.00994898 0.990051  ]\n",
            " [0.59902316 0.4009768 ]\n",
            " [0.01847462 0.9815254 ]\n",
            " [0.00479133 0.9952087 ]\n",
            " [0.9971769  0.00282307]\n",
            " [0.1741588  0.8258412 ]\n",
            " [0.00888512 0.99111485]\n",
            " [0.97217166 0.02782827]\n",
            " [0.30141997 0.69858   ]\n",
            " [0.83521074 0.16478924]\n",
            " [0.01142934 0.98857063]\n",
            " [0.00438651 0.99561346]\n",
            " [0.8674689  0.13253117]\n",
            " [0.35877612 0.6412239 ]\n",
            " [0.01902425 0.98097575]\n",
            " [0.3932091  0.6067909 ]\n",
            " [0.54979384 0.45020613]\n",
            " [0.17816971 0.82183033]\n",
            " [0.99287945 0.00712053]\n",
            " [0.6269275  0.37307248]\n",
            " [0.9027378  0.09726218]\n",
            " [0.8355064  0.16449362]\n",
            " [0.04895283 0.9510472 ]\n",
            " [0.6668225  0.33317748]\n",
            " [0.98714954 0.01285048]\n",
            " [0.3855423  0.6144577 ]\n",
            " [0.440331   0.559669  ]\n",
            " [0.9647445  0.0352555 ]\n",
            " [0.12528397 0.87471604]\n",
            " [0.3318857  0.6681143 ]\n",
            " [0.01275566 0.9872443 ]]\n",
            "Accuracy: 0.393939\n",
            "Precision: 0.000000\n",
            "Recall: 0.000000\n",
            "F1 score: 0.000000\n",
            "[[13 20]\n",
            " [ 0  0]]\n"
          ]
        },
        {
          "output_type": "stream",
          "name": "stderr",
          "text": [
            "/usr/local/lib/python3.7/dist-packages/sklearn/metrics/_classification.py:1318: UndefinedMetricWarning: Recall is ill-defined and being set to 0.0 due to no true samples. Use `zero_division` parameter to control this behavior.\n",
            "  _warn_prf(average, modifier, msg_start, len(result))\n"
          ]
        }
      ]
    },
    {
      "cell_type": "markdown",
      "source": [
        "#inception V3"
      ],
      "metadata": {
        "id": "mdtHiViUNS6A"
      }
    },
    {
      "cell_type": "code",
      "source": [
        "inc_model = InceptionV3(weights='imagenet',include_top=False, input_shape=(224, 224, 3))"
      ],
      "metadata": {
        "colab": {
          "base_uri": "https://localhost:8080/"
        },
        "id": "idH4og7vNULs",
        "outputId": "83764c4c-fdae-410e-b8b6-712e7f291505"
      },
      "execution_count": null,
      "outputs": [
        {
          "output_type": "stream",
          "name": "stdout",
          "text": [
            "Downloading data from https://storage.googleapis.com/tensorflow/keras-applications/inception_v3/inception_v3_weights_tf_dim_ordering_tf_kernels_notop.h5\n",
            "87916544/87910968 [==============================] - 1s 0us/step\n",
            "87924736/87910968 [==============================] - 1s 0us/step\n"
          ]
        }
      ]
    },
    {
      "cell_type": "code",
      "source": [
        "print(\"number of layers in the model : \", len(inc_model.layers))"
      ],
      "metadata": {
        "colab": {
          "base_uri": "https://localhost:8080/"
        },
        "id": "vGMzVsGaNu18",
        "outputId": "ba3947c4-d00f-4147-b1c2-8268002fe4c3"
      },
      "execution_count": null,
      "outputs": [
        {
          "output_type": "stream",
          "name": "stdout",
          "text": [
            "number of layers in the model :  311\n"
          ]
        }
      ]
    },
    {
      "cell_type": "code",
      "source": [
        "model = tf.keras.models.Sequential([inc_model,\n",
        "                                        GlobalAveragePooling2D(),\n",
        "                                    \n",
        "                                        Dense(512, activation='relu'),\n",
        "                                        BatchNormalization(),\n",
        "                                        Dropout(0.3),   \n",
        "                                                                     \n",
        "                                        Dense(2, activation='softmax')\n",
        "                                      ])"
      ],
      "metadata": {
        "id": "bsGqqqlUNwT7"
      },
      "execution_count": null,
      "outputs": []
    },
    {
      "cell_type": "code",
      "source": [
        "model.layers[0].trainable = False"
      ],
      "metadata": {
        "id": "JorrjEM2NySk"
      },
      "execution_count": null,
      "outputs": []
    },
    {
      "cell_type": "code",
      "source": [
        "model.compile(optimizer=Adam(lr=0.001),\n",
        "                loss=\"sparse_categorical_crossentropy\",\n",
        "                metrics=['accuracy']\n",
        "                )"
      ],
      "metadata": {
        "colab": {
          "base_uri": "https://localhost:8080/"
        },
        "id": "-2F5dDhjNzoc",
        "outputId": "e069067c-11ef-44e9-b6cb-3f7d906cd1e5"
      },
      "execution_count": null,
      "outputs": [
        {
          "output_type": "stream",
          "name": "stderr",
          "text": [
            "/usr/local/lib/python3.7/dist-packages/keras/optimizer_v2/adam.py:105: UserWarning: The `lr` argument is deprecated, use `learning_rate` instead.\n",
            "  super(Adam, self).__init__(name, **kwargs)\n"
          ]
        }
      ]
    },
    {
      "cell_type": "code",
      "source": [
        "model.summary()"
      ],
      "metadata": {
        "colab": {
          "base_uri": "https://localhost:8080/"
        },
        "id": "va6mFpzlN0x8",
        "outputId": "1ce54548-81c1-450e-db3c-c3d2e395a9e9"
      },
      "execution_count": null,
      "outputs": [
        {
          "output_type": "stream",
          "name": "stdout",
          "text": [
            "Model: \"sequential_5\"\n",
            "_________________________________________________________________\n",
            " Layer (type)                Output Shape              Param #   \n",
            "=================================================================\n",
            " inception_v3 (Functional)   (None, 5, 5, 2048)        21802784  \n",
            "                                                                 \n",
            " global_average_pooling2d_2   (None, 2048)             0         \n",
            " (GlobalAveragePooling2D)                                        \n",
            "                                                                 \n",
            " dense_14 (Dense)            (None, 512)               1049088   \n",
            "                                                                 \n",
            " batch_normalization_102 (Ba  (None, 512)              2048      \n",
            " tchNormalization)                                               \n",
            "                                                                 \n",
            " dropout_5 (Dropout)         (None, 512)               0         \n",
            "                                                                 \n",
            " dense_15 (Dense)            (None, 2)                 1026      \n",
            "                                                                 \n",
            "=================================================================\n",
            "Total params: 22,854,946\n",
            "Trainable params: 1,051,138\n",
            "Non-trainable params: 21,803,808\n",
            "_________________________________________________________________\n"
          ]
        }
      ]
    },
    {
      "cell_type": "code",
      "source": [
        "hist = model.fit(x=tr_images, y = tr_labels, \n",
        "                    epochs=15, validation_data=(ts_images, ts_labels),\n",
        "                    callbacks=[lr_callbacks])"
      ],
      "metadata": {
        "colab": {
          "base_uri": "https://localhost:8080/"
        },
        "id": "cAwRFpNsN19E",
        "outputId": "c02c26e6-f6fb-4657-8f3b-44e913015990"
      },
      "execution_count": null,
      "outputs": [
        {
          "output_type": "stream",
          "name": "stdout",
          "text": [
            "Epoch 1/15\n",
            "19/19 [==============================] - 10s 237ms/step - loss: 0.5256 - accuracy: 0.8034 - val_loss: 5.6515 - val_accuracy: 0.4545 - lr: 0.0010\n",
            "Epoch 2/15\n",
            "19/19 [==============================] - 2s 84ms/step - loss: 0.2741 - accuracy: 0.8983 - val_loss: 3.5106 - val_accuracy: 0.3333 - lr: 0.0010\n",
            "Epoch 3/15\n",
            "19/19 [==============================] - 2s 89ms/step - loss: 0.2377 - accuracy: 0.9017 - val_loss: 1.1075 - val_accuracy: 0.6061 - lr: 0.0010\n",
            "Epoch 4/15\n",
            "19/19 [==============================] - 2s 91ms/step - loss: 0.1736 - accuracy: 0.9305 - val_loss: 1.6437 - val_accuracy: 0.3939 - lr: 1.0000e-04\n",
            "Epoch 5/15\n",
            "19/19 [==============================] - 2s 87ms/step - loss: 0.1647 - accuracy: 0.9373 - val_loss: 1.9820 - val_accuracy: 0.3030 - lr: 1.0000e-04\n",
            "Epoch 6/15\n",
            "19/19 [==============================] - 2s 94ms/step - loss: 0.1587 - accuracy: 0.9373 - val_loss: 1.9342 - val_accuracy: 0.2727 - lr: 1.0000e-04\n",
            "Epoch 7/15\n",
            "19/19 [==============================] - 2s 93ms/step - loss: 0.1483 - accuracy: 0.9441 - val_loss: 1.7184 - val_accuracy: 0.2727 - lr: 1.0000e-04\n",
            "Epoch 8/15\n",
            "19/19 [==============================] - 2s 97ms/step - loss: 0.1495 - accuracy: 0.9424 - val_loss: 2.0107 - val_accuracy: 0.2727 - lr: 1.0000e-04\n",
            "Epoch 9/15\n",
            "19/19 [==============================] - 2s 93ms/step - loss: 0.1364 - accuracy: 0.9508 - val_loss: 1.8792 - val_accuracy: 0.2727 - lr: 1.0000e-04\n",
            "Epoch 10/15\n",
            "19/19 [==============================] - 2s 84ms/step - loss: 0.1385 - accuracy: 0.9492 - val_loss: 1.5919 - val_accuracy: 0.3030 - lr: 1.0000e-04\n",
            "Epoch 11/15\n",
            "19/19 [==============================] - 2s 84ms/step - loss: 0.1226 - accuracy: 0.9593 - val_loss: 1.6995 - val_accuracy: 0.2727 - lr: 1.0000e-04\n",
            "Epoch 12/15\n",
            "19/19 [==============================] - 2s 83ms/step - loss: 0.1387 - accuracy: 0.9458 - val_loss: 2.0203 - val_accuracy: 0.2727 - lr: 1.0000e-04\n",
            "Epoch 13/15\n",
            "19/19 [==============================] - 2s 84ms/step - loss: 0.1142 - accuracy: 0.9661 - val_loss: 1.8441 - val_accuracy: 0.2727 - lr: 1.0000e-04\n",
            "Epoch 14/15\n",
            "19/19 [==============================] - 2s 83ms/step - loss: 0.1108 - accuracy: 0.9627 - val_loss: 1.5762 - val_accuracy: 0.3030 - lr: 1.0000e-04\n",
            "Epoch 15/15\n",
            "19/19 [==============================] - 2s 83ms/step - loss: 0.0983 - accuracy: 0.9678 - val_loss: 1.8514 - val_accuracy: 0.2727 - lr: 1.0000e-04\n"
          ]
        }
      ]
    },
    {
      "cell_type": "code",
      "source": [
        "test_loss, test_acc = model.evaluate(ts_images,  ts_labels, verbose=2)\n",
        "print(test_acc)"
      ],
      "metadata": {
        "colab": {
          "base_uri": "https://localhost:8080/"
        },
        "id": "VRH_UKMVN3bk",
        "outputId": "b263a542-9232-4504-e5ce-108d20165a9a"
      },
      "execution_count": null,
      "outputs": [
        {
          "output_type": "stream",
          "name": "stdout",
          "text": [
            "2/2 - 0s - loss: 1.8514 - accuracy: 0.2727 - 146ms/epoch - 73ms/step\n",
            "0.27272728085517883\n"
          ]
        }
      ]
    },
    {
      "cell_type": "code",
      "source": [
        "yhat_probs = model.predict(ts_images, verbose=0) # predict probabilities for test set\n",
        "print(yhat_probs)\n",
        "yhat_classes = np.argmax(yhat_probs,axis=1) #1-D array of classes\n",
        "yhat_probs = yhat_probs[:, 0] # reduce to 1d array\n",
        "\n",
        "\n",
        "accuracy = accuracy_score(ts_labels, yhat_classes)\n",
        "print('Accuracy: %f' % accuracy)\n",
        "precision = precision_score(ts_labels, yhat_classes)\n",
        "print('Precision: %f' % precision)\n",
        "recall = recall_score(ts_labels, yhat_classes)\n",
        "print('Recall: %f' % recall)\n",
        "f1 = f1_score(ts_labels, yhat_classes)\n",
        "print('F1 score: %f' % f1)\n",
        "\n",
        "matrix = confusion_matrix(ts_labels, yhat_classes)\n",
        "print(matrix)"
      ],
      "metadata": {
        "colab": {
          "base_uri": "https://localhost:8080/"
        },
        "id": "UoMnL71XN468",
        "outputId": "a2c35816-9a72-45c3-8f7a-bfdc53680cbf"
      },
      "execution_count": null,
      "outputs": [
        {
          "output_type": "stream",
          "name": "stdout",
          "text": [
            "WARNING:tensorflow:6 out of the last 13 calls to <function Model.make_predict_function.<locals>.predict_function at 0x7f839c316200> triggered tf.function retracing. Tracing is expensive and the excessive number of tracings could be due to (1) creating @tf.function repeatedly in a loop, (2) passing tensors with different shapes, (3) passing Python objects instead of tensors. For (1), please define your @tf.function outside of the loop. For (2), @tf.function has experimental_relax_shapes=True option that relaxes argument shapes that can avoid unnecessary retracing. For (3), please refer to https://www.tensorflow.org/guide/function#controlling_retracing and https://www.tensorflow.org/api_docs/python/tf/function for  more details.\n",
            "[[0.17209856 0.8279015 ]\n",
            " [0.06259415 0.9374059 ]\n",
            " [0.0063809  0.993619  ]\n",
            " [0.88913906 0.11086098]\n",
            " [0.07908712 0.92091286]\n",
            " [0.01236628 0.9876337 ]\n",
            " [0.58151156 0.41848847]\n",
            " [0.00920286 0.99079716]\n",
            " [0.30163613 0.6983639 ]\n",
            " [0.84427387 0.15572616]\n",
            " [0.20845143 0.7915485 ]\n",
            " [0.8905715  0.10942853]\n",
            " [0.28725025 0.7127497 ]\n",
            " [0.34542474 0.6545752 ]\n",
            " [0.3122589  0.6877411 ]\n",
            " [0.15411822 0.84588176]\n",
            " [0.16029836 0.8397016 ]\n",
            " [0.8851782  0.11482181]\n",
            " [0.24222876 0.75777125]\n",
            " [0.09196458 0.9080354 ]\n",
            " [0.4306478  0.5693522 ]\n",
            " [0.82104695 0.17895305]\n",
            " [0.03362539 0.9663746 ]\n",
            " [0.05946315 0.94053686]\n",
            " [0.23008586 0.76991415]\n",
            " [0.29149824 0.7085017 ]\n",
            " [0.09175579 0.9082442 ]\n",
            " [0.01231764 0.9876823 ]\n",
            " [0.8855053  0.11449472]\n",
            " [0.82447535 0.17552459]\n",
            " [0.74414355 0.2558565 ]\n",
            " [0.03515619 0.9648438 ]\n",
            " [0.01252054 0.9874794 ]]\n",
            "Accuracy: 0.272727\n",
            "Precision: 0.000000\n",
            "Recall: 0.000000\n",
            "F1 score: 0.000000\n",
            "[[ 9 24]\n",
            " [ 0  0]]\n"
          ]
        },
        {
          "output_type": "stream",
          "name": "stderr",
          "text": [
            "/usr/local/lib/python3.7/dist-packages/sklearn/metrics/_classification.py:1318: UndefinedMetricWarning: Recall is ill-defined and being set to 0.0 due to no true samples. Use `zero_division` parameter to control this behavior.\n",
            "  _warn_prf(average, modifier, msg_start, len(result))\n"
          ]
        }
      ]
    },
    {
      "cell_type": "markdown",
      "source": [
        "#ResNet 50"
      ],
      "metadata": {
        "id": "c4pZ5_MsOQUm"
      }
    },
    {
      "cell_type": "code",
      "source": [
        "res = ResNet50(weights='imagenet',include_top=False, input_shape=(224, 224, 3))"
      ],
      "metadata": {
        "colab": {
          "base_uri": "https://localhost:8080/"
        },
        "id": "C7-ndLt6N6lM",
        "outputId": "76e4c795-bb99-4ce9-d06d-40a1a385e4e3"
      },
      "execution_count": null,
      "outputs": [
        {
          "output_type": "stream",
          "name": "stdout",
          "text": [
            "Downloading data from https://storage.googleapis.com/tensorflow/keras-applications/resnet/resnet50_weights_tf_dim_ordering_tf_kernels_notop.h5\n",
            "94773248/94765736 [==============================] - 1s 0us/step\n",
            "94781440/94765736 [==============================] - 1s 0us/step\n"
          ]
        }
      ]
    },
    {
      "cell_type": "code",
      "source": [
        "model = tf.keras.models.Sequential([res,\n",
        "                                        GlobalAveragePooling2D(),\n",
        "                                    \n",
        "                                        Dense(512, activation='relu'),\n",
        "                                        BatchNormalization(),\n",
        "                                        Dropout(0.3),   \n",
        "                                    \n",
        "                                        Dense(256, activation='relu'),\n",
        "                                        BatchNormalization(),\n",
        "                                        Dropout(0.2),  \n",
        "                                    \n",
        "                                        Dense(128, activation='relu'),\n",
        "                                        BatchNormalization(),\n",
        "                                        Dropout(0.1),  \n",
        "                                                                     \n",
        "                                        Dense(2, activation='softmax')\n",
        "                                      ])"
      ],
      "metadata": {
        "id": "ppSnNdyVOVIU"
      },
      "execution_count": null,
      "outputs": []
    },
    {
      "cell_type": "code",
      "source": [
        "model.layers[0].trainable = False"
      ],
      "metadata": {
        "id": "OA9xHFhrOWst"
      },
      "execution_count": null,
      "outputs": []
    },
    {
      "cell_type": "code",
      "source": [
        "model.compile(optimizer=Adam(lr=0.001),\n",
        "                loss=\"sparse_categorical_crossentropy\",\n",
        "                metrics=['accuracy']\n",
        "                )"
      ],
      "metadata": {
        "colab": {
          "base_uri": "https://localhost:8080/"
        },
        "id": "FbtiZl0eOX8k",
        "outputId": "10c5fe61-944a-4887-ec20-7fa08a0faeab"
      },
      "execution_count": null,
      "outputs": [
        {
          "output_type": "stream",
          "name": "stderr",
          "text": [
            "/usr/local/lib/python3.7/dist-packages/keras/optimizer_v2/adam.py:105: UserWarning: The `lr` argument is deprecated, use `learning_rate` instead.\n",
            "  super(Adam, self).__init__(name, **kwargs)\n"
          ]
        }
      ]
    },
    {
      "cell_type": "code",
      "source": [
        "model.summary()"
      ],
      "metadata": {
        "colab": {
          "base_uri": "https://localhost:8080/"
        },
        "id": "0xJrCqRMOZWN",
        "outputId": "061bfc2b-f237-450a-ad9d-a695b471a1c5"
      },
      "execution_count": null,
      "outputs": [
        {
          "output_type": "stream",
          "name": "stdout",
          "text": [
            "Model: \"sequential_6\"\n",
            "_________________________________________________________________\n",
            " Layer (type)                Output Shape              Param #   \n",
            "=================================================================\n",
            " resnet50 (Functional)       (None, 7, 7, 2048)        23587712  \n",
            "                                                                 \n",
            " global_average_pooling2d_3   (None, 2048)             0         \n",
            " (GlobalAveragePooling2D)                                        \n",
            "                                                                 \n",
            " dense_16 (Dense)            (None, 512)               1049088   \n",
            "                                                                 \n",
            " batch_normalization_103 (Ba  (None, 512)              2048      \n",
            " tchNormalization)                                               \n",
            "                                                                 \n",
            " dropout_6 (Dropout)         (None, 512)               0         \n",
            "                                                                 \n",
            " dense_17 (Dense)            (None, 256)               131328    \n",
            "                                                                 \n",
            " batch_normalization_104 (Ba  (None, 256)              1024      \n",
            " tchNormalization)                                               \n",
            "                                                                 \n",
            " dropout_7 (Dropout)         (None, 256)               0         \n",
            "                                                                 \n",
            " dense_18 (Dense)            (None, 128)               32896     \n",
            "                                                                 \n",
            " batch_normalization_105 (Ba  (None, 128)              512       \n",
            " tchNormalization)                                               \n",
            "                                                                 \n",
            " dropout_8 (Dropout)         (None, 128)               0         \n",
            "                                                                 \n",
            " dense_19 (Dense)            (None, 2)                 258       \n",
            "                                                                 \n",
            "=================================================================\n",
            "Total params: 24,804,866\n",
            "Trainable params: 1,215,362\n",
            "Non-trainable params: 23,589,504\n",
            "_________________________________________________________________\n"
          ]
        }
      ]
    },
    {
      "cell_type": "code",
      "source": [
        "hist = model.fit(x=tr_images, y = tr_labels, \n",
        "                    epochs=5, validation_data=(ts_images, ts_labels),\n",
        "                    callbacks=[lr_callbacks])"
      ],
      "metadata": {
        "colab": {
          "base_uri": "https://localhost:8080/"
        },
        "id": "4FtKnDMAOacj",
        "outputId": "feb2ee35-defa-4487-ab8d-ceb1af202592"
      },
      "execution_count": null,
      "outputs": [
        {
          "output_type": "stream",
          "name": "stdout",
          "text": [
            "Epoch 1/5\n",
            "19/19 [==============================] - 9s 221ms/step - loss: 0.1973 - accuracy: 0.9203 - val_loss: 3.0783 - val_accuracy: 0.4242 - lr: 0.0010\n",
            "Epoch 2/5\n",
            "19/19 [==============================] - 2s 99ms/step - loss: 0.0590 - accuracy: 0.9763 - val_loss: 1.8770 - val_accuracy: 0.6061 - lr: 0.0010\n",
            "Epoch 3/5\n",
            "19/19 [==============================] - 2s 105ms/step - loss: 0.0344 - accuracy: 0.9898 - val_loss: 5.0262 - val_accuracy: 0.3636 - lr: 0.0010\n",
            "Epoch 4/5\n",
            "19/19 [==============================] - 2s 105ms/step - loss: 0.0152 - accuracy: 0.9932 - val_loss: 4.1889 - val_accuracy: 0.3939 - lr: 1.0000e-04\n",
            "Epoch 5/5\n",
            "19/19 [==============================] - 2s 103ms/step - loss: 0.0193 - accuracy: 0.9932 - val_loss: 3.5281 - val_accuracy: 0.4848 - lr: 1.0000e-04\n"
          ]
        }
      ]
    },
    {
      "cell_type": "code",
      "source": [
        "test_loss, test_acc = model.evaluate(ts_images,  ts_labels, verbose=2)\n",
        "print(test_acc)"
      ],
      "metadata": {
        "colab": {
          "base_uri": "https://localhost:8080/"
        },
        "id": "KfuAgVdwOb9d",
        "outputId": "c9adf752-ee5f-43a3-eadb-c8f13d6dc3e0"
      },
      "execution_count": null,
      "outputs": [
        {
          "output_type": "stream",
          "name": "stdout",
          "text": [
            "2/2 - 0s - loss: 3.5281 - accuracy: 0.4848 - 189ms/epoch - 94ms/step\n",
            "0.4848484992980957\n"
          ]
        }
      ]
    },
    {
      "cell_type": "code",
      "source": [
        "yhat_probs = model.predict(ts_images, verbose=0) # predict probabilities for test set\n",
        "print(yhat_probs)\n",
        "yhat_classes = np.argmax(yhat_probs,axis=1) #1-D array of classes\n",
        "yhat_probs = yhat_probs[:, 0] # reduce to 1d array\n",
        "\n",
        "\n",
        "accuracy = accuracy_score(ts_labels, yhat_classes)\n",
        "print('Accuracy: %f' % accuracy)\n",
        "precision = precision_score(ts_labels, yhat_classes)\n",
        "print('Precision: %f' % precision)\n",
        "recall = recall_score(ts_labels, yhat_classes)\n",
        "print('Recall: %f' % recall)\n",
        "f1 = f1_score(ts_labels, yhat_classes)\n",
        "print('F1 score: %f' % f1)\n",
        "\n",
        "matrix = confusion_matrix(ts_labels, yhat_classes)\n",
        "print(matrix)"
      ],
      "metadata": {
        "colab": {
          "base_uri": "https://localhost:8080/"
        },
        "id": "VuX99F9dOdQ9",
        "outputId": "c623a9d8-1821-4722-fce5-26b01b7f8080"
      },
      "execution_count": null,
      "outputs": [
        {
          "output_type": "stream",
          "name": "stdout",
          "text": [
            "[[5.8697069e-06 9.9999416e-01]\n",
            " [9.1203040e-04 9.9908793e-01]\n",
            " [3.7013961e-06 9.9999630e-01]\n",
            " [9.9994922e-01 5.0768555e-05]\n",
            " [1.2944602e-02 9.8705542e-01]\n",
            " [1.3077825e-05 9.9998689e-01]\n",
            " [9.9025601e-01 9.7440565e-03]\n",
            " [3.4387188e-04 9.9965608e-01]\n",
            " [2.7286782e-04 9.9972707e-01]\n",
            " [2.0406976e-01 7.9593021e-01]\n",
            " [8.2143253e-01 1.7856747e-01]\n",
            " [9.9971658e-01 2.8344497e-04]\n",
            " [1.8255814e-03 9.9817443e-01]\n",
            " [5.3819686e-01 4.6180314e-01]\n",
            " [9.9650288e-01 3.4970732e-03]\n",
            " [8.0242520e-03 9.9197572e-01]\n",
            " [1.5358465e-03 9.9846423e-01]\n",
            " [6.5040737e-02 9.3495929e-01]\n",
            " [9.9212390e-01 7.8760386e-03]\n",
            " [9.9707627e-01 2.9237890e-03]\n",
            " [9.9994695e-01 5.2997693e-05]\n",
            " [9.9982113e-01 1.7892507e-04]\n",
            " [9.9650747e-01 3.4924534e-03]\n",
            " [9.9631232e-01 3.6876318e-03]\n",
            " [5.1334453e-01 4.8665547e-01]\n",
            " [9.4399428e-01 5.6005739e-02]\n",
            " [1.2555179e-02 9.8744476e-01]\n",
            " [3.6427997e-02 9.6357197e-01]\n",
            " [2.5050176e-02 9.7494984e-01]\n",
            " [9.9453461e-01 5.4653753e-03]\n",
            " [5.4555786e-01 4.5444217e-01]\n",
            " [3.4061322e-01 6.5938681e-01]\n",
            " [6.6054511e-08 9.9999988e-01]]\n",
            "Accuracy: 0.484848\n",
            "Precision: 0.000000\n",
            "Recall: 0.000000\n",
            "F1 score: 0.000000\n",
            "[[16 17]\n",
            " [ 0  0]]\n"
          ]
        },
        {
          "output_type": "stream",
          "name": "stderr",
          "text": [
            "/usr/local/lib/python3.7/dist-packages/sklearn/metrics/_classification.py:1318: UndefinedMetricWarning: Recall is ill-defined and being set to 0.0 due to no true samples. Use `zero_division` parameter to control this behavior.\n",
            "  _warn_prf(average, modifier, msg_start, len(result))\n"
          ]
        }
      ]
    },
    {
      "cell_type": "markdown",
      "source": [
        "#SSD"
      ],
      "metadata": {
        "id": "dbCf8KAXOi0l"
      }
    },
    {
      "cell_type": "code",
      "source": [
        "model = Sequential()\n",
        "\n",
        "model.add(Conv2D(32, (3, 3), padding = \"same\", activation='relu', input_shape=(224, 224, 3)))\n",
        "model.add(Conv2D(64, (3, 3), activation='relu'))\n",
        "model.add(Conv2D(128, (3, 3), activation='relu'))\n",
        "model.add(MaxPooling2D(pool_size=(2,2)))\n",
        "model.add(Dropout(0.25))\n",
        " \n",
        "model.add(Flatten())\n",
        "model.add(Dropout(0.5))\n",
        "model.add(Dense(50, activation='relu'))\n",
        "model.add(Dropout(0.5))\n",
        "model.add(Dense(2, activation='softmax'))"
      ],
      "metadata": {
        "id": "L7-fJqb-Oe9c"
      },
      "execution_count": null,
      "outputs": []
    },
    {
      "cell_type": "code",
      "source": [
        "model.compile(optimizer=Adam(lr=0.001),\n",
        "                loss='sparse_categorical_crossentropy',\n",
        "                metrics=['accuracy']\n",
        "                )"
      ],
      "metadata": {
        "colab": {
          "base_uri": "https://localhost:8080/"
        },
        "id": "MPhhsx1hPQL8",
        "outputId": "6c5100cc-9104-428f-aa84-cd1a6a5f37f9"
      },
      "execution_count": null,
      "outputs": [
        {
          "output_type": "stream",
          "name": "stderr",
          "text": [
            "/usr/local/lib/python3.7/dist-packages/keras/optimizer_v2/adam.py:105: UserWarning: The `lr` argument is deprecated, use `learning_rate` instead.\n",
            "  super(Adam, self).__init__(name, **kwargs)\n"
          ]
        }
      ]
    },
    {
      "cell_type": "code",
      "source": [
        "model.summary()"
      ],
      "metadata": {
        "colab": {
          "base_uri": "https://localhost:8080/"
        },
        "id": "hpqktZeWPRWD",
        "outputId": "8f1b5fac-4a76-4039-a42f-dc817b6a1220"
      },
      "execution_count": null,
      "outputs": [
        {
          "output_type": "stream",
          "name": "stdout",
          "text": [
            "Model: \"sequential_7\"\n",
            "_________________________________________________________________\n",
            " Layer (type)                Output Shape              Param #   \n",
            "=================================================================\n",
            " conv2d_97 (Conv2D)          (None, 224, 224, 32)      896       \n",
            "                                                                 \n",
            " conv2d_98 (Conv2D)          (None, 222, 222, 64)      18496     \n",
            "                                                                 \n",
            " conv2d_99 (Conv2D)          (None, 220, 220, 128)     73856     \n",
            "                                                                 \n",
            " max_pooling2d_6 (MaxPooling  (None, 110, 110, 128)    0         \n",
            " 2D)                                                             \n",
            "                                                                 \n",
            " dropout_9 (Dropout)         (None, 110, 110, 128)     0         \n",
            "                                                                 \n",
            " flatten_3 (Flatten)         (None, 1548800)           0         \n",
            "                                                                 \n",
            " dropout_10 (Dropout)        (None, 1548800)           0         \n",
            "                                                                 \n",
            " dense_20 (Dense)            (None, 50)                77440050  \n",
            "                                                                 \n",
            " dropout_11 (Dropout)        (None, 50)                0         \n",
            "                                                                 \n",
            " dense_21 (Dense)            (None, 2)                 102       \n",
            "                                                                 \n",
            "=================================================================\n",
            "Total params: 77,533,400\n",
            "Trainable params: 77,533,400\n",
            "Non-trainable params: 0\n",
            "_________________________________________________________________\n"
          ]
        }
      ]
    },
    {
      "cell_type": "code",
      "source": [
        "hist = model.fit(x=tr_images, y = tr_labels, \n",
        "                    epochs=10, validation_data=(ts_images, ts_labels),\n",
        "                    callbacks=[lr_callbacks])"
      ],
      "metadata": {
        "colab": {
          "base_uri": "https://localhost:8080/"
        },
        "id": "vRZYXKoVPSfZ",
        "outputId": "13ecb842-9fe1-4be0-a726-005ea64462f7"
      },
      "execution_count": null,
      "outputs": [
        {
          "output_type": "stream",
          "name": "stdout",
          "text": [
            "Epoch 1/10\n",
            "19/19 [==============================] - 12s 407ms/step - loss: 808.7234 - accuracy: 0.5237 - val_loss: 45.0748 - val_accuracy: 0.0000e+00 - lr: 0.0010\n",
            "Epoch 2/10\n",
            "19/19 [==============================] - 5s 288ms/step - loss: 3.8860 - accuracy: 0.5678 - val_loss: 0.6991 - val_accuracy: 0.0000e+00 - lr: 0.0010\n",
            "Epoch 3/10\n",
            "19/19 [==============================] - 6s 298ms/step - loss: 0.6884 - accuracy: 0.5661 - val_loss: 0.7046 - val_accuracy: 0.0000e+00 - lr: 0.0010\n",
            "Epoch 4/10\n",
            "19/19 [==============================] - 5s 284ms/step - loss: 0.6875 - accuracy: 0.5644 - val_loss: 0.7051 - val_accuracy: 0.0000e+00 - lr: 1.0000e-04\n",
            "Epoch 5/10\n",
            "19/19 [==============================] - 5s 284ms/step - loss: 0.6861 - accuracy: 0.5661 - val_loss: 0.7058 - val_accuracy: 0.0000e+00 - lr: 1.0000e-04\n",
            "Epoch 6/10\n",
            "19/19 [==============================] - 5s 283ms/step - loss: 0.6871 - accuracy: 0.5644 - val_loss: 0.7065 - val_accuracy: 0.0000e+00 - lr: 1.0000e-04\n",
            "Epoch 7/10\n",
            "19/19 [==============================] - 5s 285ms/step - loss: 0.6870 - accuracy: 0.5644 - val_loss: 0.7071 - val_accuracy: 0.0000e+00 - lr: 1.0000e-04\n",
            "Epoch 8/10\n",
            "19/19 [==============================] - 5s 282ms/step - loss: 0.6860 - accuracy: 0.5661 - val_loss: 0.7078 - val_accuracy: 0.0000e+00 - lr: 1.0000e-04\n",
            "Epoch 9/10\n",
            "19/19 [==============================] - 5s 283ms/step - loss: 0.6857 - accuracy: 0.5661 - val_loss: 0.7084 - val_accuracy: 0.0000e+00 - lr: 1.0000e-04\n",
            "Epoch 10/10\n",
            "19/19 [==============================] - 5s 286ms/step - loss: 0.6855 - accuracy: 0.5661 - val_loss: 0.7094 - val_accuracy: 0.0000e+00 - lr: 1.0000e-04\n"
          ]
        }
      ]
    },
    {
      "cell_type": "code",
      "source": [
        "test_loss, test_acc = model.evaluate(ts_images,  ts_labels, verbose=2)\n",
        "print(test_acc)"
      ],
      "metadata": {
        "colab": {
          "base_uri": "https://localhost:8080/"
        },
        "id": "v4WzVN2jPUHT",
        "outputId": "cd798df5-8648-44e7-f5af-4cb403982879"
      },
      "execution_count": null,
      "outputs": [
        {
          "output_type": "stream",
          "name": "stdout",
          "text": [
            "2/2 - 0s - loss: 0.7094 - accuracy: 0.0000e+00 - 151ms/epoch - 76ms/step\n",
            "0.0\n"
          ]
        }
      ]
    },
    {
      "cell_type": "code",
      "source": [
        "yhat_probs = model.predict(ts_images, verbose=0) # predict probabilities for test set\n",
        "print(yhat_probs)\n",
        "yhat_classes = np.argmax(yhat_probs,axis=1) #1-D array of classes\n",
        "yhat_probs = yhat_probs[:, 0] # reduce to 1d array\n",
        "\n",
        "\n",
        "accuracy = accuracy_score(ts_labels, yhat_classes)\n",
        "print('Accuracy: %f' % accuracy)\n",
        "precision = precision_score(ts_labels, yhat_classes)\n",
        "print('Precision: %f' % precision)\n",
        "recall = recall_score(ts_labels, yhat_classes)\n",
        "print('Recall: %f' % recall)\n",
        "f1 = f1_score(ts_labels, yhat_classes)\n",
        "print('F1 score: %f' % f1)\n",
        "\n",
        "matrix = confusion_matrix(ts_labels, yhat_classes)\n",
        "print(matrix)"
      ],
      "metadata": {
        "colab": {
          "base_uri": "https://localhost:8080/"
        },
        "id": "D3pS2IsuPVSj",
        "outputId": "9d196cb7-bb88-4129-dea3-c9a68bbf73a3"
      },
      "execution_count": null,
      "outputs": [
        {
          "output_type": "stream",
          "name": "stdout",
          "text": [
            "[[0.4919452  0.50805473]\n",
            " [0.4919452  0.50805473]\n",
            " [0.4919452  0.50805473]\n",
            " [0.4919452  0.50805473]\n",
            " [0.4919452  0.50805473]\n",
            " [0.4919452  0.50805473]\n",
            " [0.4919452  0.50805473]\n",
            " [0.4919452  0.50805473]\n",
            " [0.4919452  0.50805473]\n",
            " [0.4919452  0.50805473]\n",
            " [0.4919452  0.50805473]\n",
            " [0.4919452  0.50805473]\n",
            " [0.4919452  0.50805473]\n",
            " [0.4919452  0.50805473]\n",
            " [0.4919452  0.50805473]\n",
            " [0.4919452  0.50805473]\n",
            " [0.4919452  0.50805473]\n",
            " [0.4919452  0.50805473]\n",
            " [0.4919452  0.50805473]\n",
            " [0.4919452  0.50805473]\n",
            " [0.4919452  0.50805473]\n",
            " [0.4919452  0.50805473]\n",
            " [0.4919452  0.50805473]\n",
            " [0.4919452  0.50805473]\n",
            " [0.4919452  0.50805473]\n",
            " [0.4919452  0.50805473]\n",
            " [0.4919452  0.50805473]\n",
            " [0.4919452  0.50805473]\n",
            " [0.4919452  0.50805473]\n",
            " [0.4919452  0.50805473]\n",
            " [0.4919452  0.50805473]\n",
            " [0.4919452  0.50805473]\n",
            " [0.4919452  0.50805473]]\n",
            "Accuracy: 0.000000\n",
            "Precision: 0.000000\n",
            "Recall: 0.000000\n",
            "F1 score: 0.000000\n",
            "[[ 0 33]\n",
            " [ 0  0]]\n"
          ]
        },
        {
          "output_type": "stream",
          "name": "stderr",
          "text": [
            "/usr/local/lib/python3.7/dist-packages/sklearn/metrics/_classification.py:1318: UndefinedMetricWarning: Recall is ill-defined and being set to 0.0 due to no true samples. Use `zero_division` parameter to control this behavior.\n",
            "  _warn_prf(average, modifier, msg_start, len(result))\n"
          ]
        }
      ]
    },
    {
      "cell_type": "markdown",
      "source": [
        "#AlexNet"
      ],
      "metadata": {
        "id": "q6yCtNBPPYbk"
      }
    },
    {
      "cell_type": "code",
      "source": [
        "model=Sequential()\n",
        "\n",
        "#1 conv layer\n",
        "model.add(Conv2D(filters=96,kernel_size=(11,11),strides=(4,4),padding=\"valid\",activation=\"relu\",input_shape=(224,224,3)))\n",
        "\n",
        "#1 max pool layer\n",
        "model.add(MaxPooling2D(pool_size=(3,3),strides=(2,2)))\n",
        "\n",
        "model.add(BatchNormalization())\n",
        "\n",
        "#2 conv layer\n",
        "model.add(Conv2D(filters=256,kernel_size=(5,5),strides=(1,1),padding=\"valid\",activation=\"relu\"))\n",
        "\n",
        "#2 max pool layer\n",
        "model.add(MaxPooling2D(pool_size=(3,3),strides=(2,2)))\n",
        "\n",
        "model.add(BatchNormalization())\n",
        "\n",
        "#3 conv layer\n",
        "model.add(Conv2D(filters=384,kernel_size=(3,3),strides=(1,1),padding=\"valid\",activation=\"relu\"))\n",
        "\n",
        "#4 conv layer\n",
        "model.add(Conv2D(filters=384,kernel_size=(3,3),strides=(1,1),padding=\"valid\",activation=\"relu\"))\n",
        "\n",
        "#5 conv layer\n",
        "model.add(Conv2D(filters=256,kernel_size=(3,3),strides=(1,1),padding=\"valid\",activation=\"relu\"))\n",
        "\n",
        "#3 max pool layer\n",
        "model.add(MaxPooling2D(pool_size=(3,3),strides=(2,2)))\n",
        "\n",
        "model.add(BatchNormalization())\n",
        "\n",
        "\n",
        "model.add(Flatten())\n",
        "\n",
        "#1 dense layer\n",
        "model.add(Dense(4096,input_shape=(227,227,3),activation=\"relu\"))\n",
        "\n",
        "model.add(Dropout(0.4))\n",
        "\n",
        "model.add(BatchNormalization())\n",
        "\n",
        "#2 dense layer\n",
        "model.add(Dense(4096,activation=\"relu\"))\n",
        "\n",
        "model.add(Dropout(0.4))\n",
        "\n",
        "model.add(BatchNormalization())\n",
        "\n",
        "#3 dense layer\n",
        "model.add(Dense(1000,activation=\"relu\"))\n",
        "\n",
        "model.add(Dropout(0.4))\n",
        "\n",
        "model.add(BatchNormalization())\n",
        "\n",
        "#output layer\n",
        "model.add(Dense(2,activation=\"softmax\"))"
      ],
      "metadata": {
        "id": "CWipBQvcPW8U"
      },
      "execution_count": null,
      "outputs": []
    },
    {
      "cell_type": "code",
      "source": [
        "model.compile(optimizer=Adam(lr=0.001),\n",
        "                loss=\"sparse_categorical_crossentropy\",\n",
        "                metrics=['accuracy']\n",
        "                )"
      ],
      "metadata": {
        "colab": {
          "base_uri": "https://localhost:8080/"
        },
        "id": "o899poTEPi40",
        "outputId": "a23a33e1-67c6-4e5c-eaff-6a6e2b27e8c5"
      },
      "execution_count": null,
      "outputs": [
        {
          "output_type": "stream",
          "name": "stderr",
          "text": [
            "/usr/local/lib/python3.7/dist-packages/keras/optimizer_v2/adam.py:105: UserWarning: The `lr` argument is deprecated, use `learning_rate` instead.\n",
            "  super(Adam, self).__init__(name, **kwargs)\n"
          ]
        }
      ]
    },
    {
      "cell_type": "code",
      "source": [
        "hist = model.fit(x=tr_images, y = tr_labels, \n",
        "                    epochs=10, validation_data=(ts_images, ts_labels),\n",
        "                    callbacks=[lr_callbacks])"
      ],
      "metadata": {
        "colab": {
          "base_uri": "https://localhost:8080/"
        },
        "id": "rstlsk2fPkY9",
        "outputId": "a2b39fe3-a93f-46e4-9174-9401a9147300"
      },
      "execution_count": null,
      "outputs": [
        {
          "output_type": "stream",
          "name": "stdout",
          "text": [
            "Epoch 1/10\n",
            "19/19 [==============================] - 5s 115ms/step - loss: 1.3622 - accuracy: 0.6610 - val_loss: 0.0000e+00 - val_accuracy: 1.0000 - lr: 0.0010\n",
            "Epoch 2/10\n",
            "19/19 [==============================] - 1s 38ms/step - loss: 0.6414 - accuracy: 0.7508 - val_loss: 0.0000e+00 - val_accuracy: 1.0000 - lr: 0.0010\n",
            "Epoch 3/10\n",
            "19/19 [==============================] - 1s 35ms/step - loss: 0.4809 - accuracy: 0.8051 - val_loss: 3.6124e-09 - val_accuracy: 1.0000 - lr: 0.0010\n",
            "Epoch 4/10\n",
            "19/19 [==============================] - 1s 31ms/step - loss: 0.4697 - accuracy: 0.8203 - val_loss: 0.0658 - val_accuracy: 0.9394 - lr: 1.0000e-04\n",
            "Epoch 5/10\n",
            "19/19 [==============================] - 1s 30ms/step - loss: 0.2849 - accuracy: 0.8847 - val_loss: 0.3693 - val_accuracy: 0.8788 - lr: 1.0000e-04\n",
            "Epoch 6/10\n",
            "19/19 [==============================] - 1s 31ms/step - loss: 0.2812 - accuracy: 0.9000 - val_loss: 0.5222 - val_accuracy: 0.8485 - lr: 1.0000e-04\n",
            "Epoch 7/10\n",
            "19/19 [==============================] - 1s 30ms/step - loss: 0.2548 - accuracy: 0.8932 - val_loss: 0.3481 - val_accuracy: 0.8788 - lr: 1.0000e-04\n",
            "Epoch 8/10\n",
            "19/19 [==============================] - 1s 30ms/step - loss: 0.2475 - accuracy: 0.9119 - val_loss: 0.4888 - val_accuracy: 0.7879 - lr: 1.0000e-04\n",
            "Epoch 9/10\n",
            "19/19 [==============================] - 1s 30ms/step - loss: 0.2800 - accuracy: 0.8949 - val_loss: 0.4915 - val_accuracy: 0.7879 - lr: 1.0000e-04\n",
            "Epoch 10/10\n",
            "19/19 [==============================] - 1s 30ms/step - loss: 0.2470 - accuracy: 0.9085 - val_loss: 0.6834 - val_accuracy: 0.6061 - lr: 1.0000e-04\n"
          ]
        }
      ]
    },
    {
      "cell_type": "code",
      "source": [
        "test_loss, test_acc = model.evaluate(ts_images,  ts_labels, verbose=2)\n",
        "print(test_acc)"
      ],
      "metadata": {
        "colab": {
          "base_uri": "https://localhost:8080/"
        },
        "id": "34hodbVePlnU",
        "outputId": "8c13308d-7066-46cc-f5b3-8b210d8611e5"
      },
      "execution_count": null,
      "outputs": [
        {
          "output_type": "stream",
          "name": "stdout",
          "text": [
            "2/2 - 0s - loss: 0.6834 - accuracy: 0.6061 - 34ms/epoch - 17ms/step\n",
            "0.6060606241226196\n"
          ]
        }
      ]
    },
    {
      "cell_type": "code",
      "source": [
        "yhat_probs = model.predict(ts_images, verbose=0) # predict probabilities for test set\n",
        "print(yhat_probs)\n",
        "yhat_classes = np.argmax(yhat_probs,axis=1) #1-D array of classes\n",
        "yhat_probs = yhat_probs[:, 0] # reduce to 1d array\n",
        "\n",
        "\n",
        "accuracy = accuracy_score(ts_labels, yhat_classes)\n",
        "print('Accuracy: %f' % accuracy)\n",
        "precision = precision_score(ts_labels, yhat_classes)\n",
        "print('Precision: %f' % precision)\n",
        "recall = recall_score(ts_labels, yhat_classes)\n",
        "print('Recall: %f' % recall)\n",
        "f1 = f1_score(ts_labels, yhat_classes)\n",
        "print('F1 score: %f' % f1)\n",
        "\n",
        "matrix = confusion_matrix(ts_labels, yhat_classes)\n",
        "print(matrix)"
      ],
      "metadata": {
        "colab": {
          "base_uri": "https://localhost:8080/"
        },
        "id": "jWiZUdd7PnBk",
        "outputId": "9a491946-6c55-4947-95da-96fd84fe8c63"
      },
      "execution_count": null,
      "outputs": [
        {
          "output_type": "stream",
          "name": "stdout",
          "text": [
            "[[0.18254788 0.81745213]\n",
            " [0.18804505 0.811955  ]\n",
            " [0.24345255 0.75654745]\n",
            " [0.8284083  0.17159173]\n",
            " [0.41643992 0.58356005]\n",
            " [0.0681258  0.9318742 ]\n",
            " [0.9577556  0.04224439]\n",
            " [0.4509845  0.5490155 ]\n",
            " [0.14837134 0.85162866]\n",
            " [0.6343261  0.3656739 ]\n",
            " [0.5485587  0.45144132]\n",
            " [0.9617304  0.03826957]\n",
            " [0.67185956 0.32814047]\n",
            " [0.3725043  0.62749565]\n",
            " [0.73291755 0.26708245]\n",
            " [0.5485896  0.4514104 ]\n",
            " [0.86012006 0.13988   ]\n",
            " [0.7286327  0.27136737]\n",
            " [0.44934705 0.5506529 ]\n",
            " [0.7756132  0.22438681]\n",
            " [0.9986527  0.00134727]\n",
            " [0.9782833  0.02171666]\n",
            " [0.81698394 0.18301605]\n",
            " [0.86333764 0.13666236]\n",
            " [0.91751105 0.082489  ]\n",
            " [0.45031267 0.5496873 ]\n",
            " [0.3982793  0.60172063]\n",
            " [0.7826871  0.21731289]\n",
            " [0.88610375 0.11389625]\n",
            " [0.9290856  0.0709144 ]\n",
            " [0.30105886 0.6989411 ]\n",
            " [0.65145075 0.34854928]\n",
            " [0.12111323 0.8788868 ]]\n",
            "Accuracy: 0.606061\n",
            "Precision: 0.000000\n",
            "Recall: 0.000000\n",
            "F1 score: 0.000000\n",
            "[[20 13]\n",
            " [ 0  0]]\n"
          ]
        },
        {
          "output_type": "stream",
          "name": "stderr",
          "text": [
            "/usr/local/lib/python3.7/dist-packages/sklearn/metrics/_classification.py:1318: UndefinedMetricWarning: Recall is ill-defined and being set to 0.0 due to no true samples. Use `zero_division` parameter to control this behavior.\n",
            "  _warn_prf(average, modifier, msg_start, len(result))\n"
          ]
        }
      ]
    },
    {
      "cell_type": "markdown",
      "source": [
        "#GoogleNet"
      ],
      "metadata": {
        "id": "vYTO-ItPPvV6"
      }
    },
    {
      "cell_type": "code",
      "source": [
        "def Inception_block(input_layer, f1, f2_conv1, f2_conv3, f3_conv1, f3_conv5, f4): \n",
        "  # Input: \n",
        "  # - f1: number of filters of the 1x1 convolutional layer in the first path\n",
        "  # - f2_conv1, f2_conv3 are number of filters corresponding to the 1x1 and 3x3 convolutional layers in the second path\n",
        "  # - f3_conv1, f3_conv5 are the number of filters corresponding to the 1x1 and 5x5  convolutional layer in the third path\n",
        "  # - f4: number of filters of the 1x1 convolutional layer in the fourth path\n",
        "\n",
        "  # 1st path:\n",
        "  path1 = Conv2D(filters=f1, kernel_size = (1,1), padding = 'same', activation = 'relu')(input_layer)\n",
        "\n",
        "  # 2nd path\n",
        "  path2 = Conv2D(filters = f2_conv1, kernel_size = (1,1), padding = 'same', activation = 'relu')(input_layer)\n",
        "  path2 = Conv2D(filters = f2_conv3, kernel_size = (3,3), padding = 'same', activation = 'relu')(path2)\n",
        "\n",
        "  # 3rd path\n",
        "  path3 = Conv2D(filters = f3_conv1, kernel_size = (1,1), padding = 'same', activation = 'relu')(input_layer)\n",
        "  path3 = Conv2D(filters = f3_conv5, kernel_size = (5,5), padding = 'same', activation = 'relu')(path3)\n",
        "\n",
        "  # 4th path\n",
        "  path4 = MaxPooling2D((3,3), strides= (1,1), padding = 'same')(input_layer)\n",
        "  path4 = Conv2D(filters = f4, kernel_size = (1,1), padding = 'same', activation = 'relu')(path4)\n",
        "\n",
        "  output_layer = concatenate([path1, path2, path3, path4], axis = -1)\n",
        "\n",
        "  return output_layer"
      ],
      "metadata": {
        "id": "5vsszUB_PoVD"
      },
      "execution_count": null,
      "outputs": []
    },
    {
      "cell_type": "code",
      "source": [
        "def GoogLeNet():\n",
        "  # input layer \n",
        "  input_layer = Input(shape = (224, 224, 3))\n",
        "\n",
        "  # convolutional layer: filters = 64, kernel_size = (7,7), strides = 2\n",
        "  X = Conv2D(filters = 64, kernel_size = (7,7), strides = 2, padding = 'valid', activation = 'relu')(input_layer)\n",
        "\n",
        "  # max-pooling layer: pool_size = (3,3), strides = 2\n",
        "  X = MaxPooling2D(pool_size = (3,3), strides = 2)(X)\n",
        "\n",
        "  # convolutional layer: filters = 64, strides = 1\n",
        "  X = Conv2D(filters = 64, kernel_size = (1,1), strides = 1, padding = 'same', activation = 'relu')(X)\n",
        "\n",
        "  # convolutional layer: filters = 192, kernel_size = (3,3)\n",
        "  X = Conv2D(filters = 192, kernel_size = (3,3), padding = 'same', activation = 'relu')(X)\n",
        "\n",
        "  # max-pooling layer: pool_size = (3,3), strides = 2\n",
        "  X = MaxPooling2D(pool_size= (3,3), strides = 2)(X)\n",
        "\n",
        "  # 1st Inception block\n",
        "  X = Inception_block(X, f1 = 64, f2_conv1 = 96, f2_conv3 = 128, f3_conv1 = 16, f3_conv5 = 32, f4 = 32)\n",
        "\n",
        "  # 2nd Inception block\n",
        "  X = Inception_block(X, f1 = 128, f2_conv1 = 128, f2_conv3 = 192, f3_conv1 = 32, f3_conv5 = 96, f4 = 64)\n",
        "\n",
        "  # max-pooling layer: pool_size = (3,3), strides = 2\n",
        "  X = MaxPooling2D(pool_size= (3,3), strides = 2)(X)\n",
        "\n",
        "  # 3rd Inception block\n",
        "  X = Inception_block(X, f1 = 192, f2_conv1 = 96, f2_conv3 = 208, f3_conv1 = 16, f3_conv5 = 48, f4 = 64)\n",
        "\n",
        "  # Extra network 1:\n",
        "  X1 = AveragePooling2D(pool_size = (5,5), strides = 3)(X)\n",
        "  X1 = Conv2D(filters = 128, kernel_size = (1,1), padding = 'same', activation = 'relu')(X1)\n",
        "  X1 = Flatten()(X1)\n",
        "  X1 = Dense(1024, activation = 'relu')(X1)\n",
        "  X1 = Dropout(0.7)(X1)\n",
        "  X1 = Dense(5, activation = 'softmax')(X1)\n",
        "\n",
        "  \n",
        "  # 4th Inception block\n",
        "  X = Inception_block(X, f1 = 160, f2_conv1 = 112, f2_conv3 = 224, f3_conv1 = 24, f3_conv5 = 64, f4 = 64)\n",
        "\n",
        "  # 5th Inception block\n",
        "  X = Inception_block(X, f1 = 128, f2_conv1 = 128, f2_conv3 = 256, f3_conv1 = 24, f3_conv5 = 64, f4 = 64)\n",
        "\n",
        "  # 6th Inception block\n",
        "  X = Inception_block(X, f1 = 112, f2_conv1 = 144, f2_conv3 = 288, f3_conv1 = 32, f3_conv5 = 64, f4 = 64)\n",
        "\n",
        "  # Extra network 2:\n",
        "  X2 = AveragePooling2D(pool_size = (5,5), strides = 3)(X)\n",
        "  X2 = Conv2D(filters = 128, kernel_size = (1,1), padding = 'same', activation = 'relu')(X2)\n",
        "  X2 = Flatten()(X2)\n",
        "  X2 = Dense(1024, activation = 'relu')(X2)\n",
        "  X2 = Dropout(0.7)(X2)\n",
        "  X2 = Dense(1000, activation = 'softmax')(X2)\n",
        "  \n",
        "  \n",
        "  # 7th Inception block\n",
        "  X = Inception_block(X, f1 = 256, f2_conv1 = 160, f2_conv3 = 320, f3_conv1 = 32, \n",
        "                      f3_conv5 = 128, f4 = 128)\n",
        "\n",
        "  # max-pooling layer: pool_size = (3,3), strides = 2\n",
        "  X = MaxPooling2D(pool_size = (3,3), strides = 2)(X)\n",
        "\n",
        "  # 8th Inception block\n",
        "  X = Inception_block(X, f1 = 256, f2_conv1 = 160, f2_conv3 = 320, f3_conv1 = 32, f3_conv5 = 128, f4 = 128)\n",
        "\n",
        "  # 9th Inception block\n",
        "  X = Inception_block(X, f1 = 384, f2_conv1 = 192, f2_conv3 = 384, f3_conv1 = 48, f3_conv5 = 128, f4 = 128)\n",
        "\n",
        "  # Global Average pooling layer \n",
        "  X = GlobalAveragePooling2D(name = 'GAPL')(X)\n",
        "\n",
        "  # Dropoutlayer \n",
        "  X = Dropout(0.4)(X)\n",
        "\n",
        "  # output layer \n",
        "  X = Dense(2, activation = 'softmax')(X)\n",
        "  \n",
        "  # model\n",
        "  model = Model(input_layer, [X, X1, X2], name = 'GoogLeNet')\n",
        "\n",
        "  return model"
      ],
      "metadata": {
        "id": "IrzULiz2PzuM"
      },
      "execution_count": null,
      "outputs": []
    },
    {
      "cell_type": "code",
      "source": [
        "model = GoogLeNet()"
      ],
      "metadata": {
        "id": "wGCoNrKiP2HM"
      },
      "execution_count": null,
      "outputs": []
    },
    {
      "cell_type": "code",
      "source": [
        "model.compile(optimizer=Adam(lr=0.001),\n",
        "                loss=\"sparse_categorical_crossentropy\",\n",
        "                metrics=['accuracy']\n",
        "                )"
      ],
      "metadata": {
        "colab": {
          "base_uri": "https://localhost:8080/"
        },
        "id": "V389mUNLP3Lk",
        "outputId": "1ba567cb-0690-45b2-c504-8a5582ebb0ec"
      },
      "execution_count": null,
      "outputs": [
        {
          "output_type": "stream",
          "name": "stderr",
          "text": [
            "/usr/local/lib/python3.7/dist-packages/keras/optimizer_v2/adam.py:105: UserWarning: The `lr` argument is deprecated, use `learning_rate` instead.\n",
            "  super(Adam, self).__init__(name, **kwargs)\n"
          ]
        }
      ]
    },
    {
      "cell_type": "code",
      "source": [
        "hist = model.fit(x=tr_images, y = tr_labels, \n",
        "                    epochs=20, validation_data=(ts_images, ts_labels),\n",
        "                    callbacks=[lr_callbacks])"
      ],
      "metadata": {
        "colab": {
          "base_uri": "https://localhost:8080/"
        },
        "id": "lzuSqzGNP4XM",
        "outputId": "09c0f061-2039-4384-d8d1-e52afadbc6ee"
      },
      "execution_count": null,
      "outputs": [
        {
          "output_type": "stream",
          "name": "stdout",
          "text": [
            "Epoch 1/20\n",
            "19/19 [==============================] - 14s 313ms/step - loss: 5.8562 - dense_30_loss: 1.3898 - dense_27_loss: 2.4101 - dense_29_loss: 2.0563 - dense_30_accuracy: 0.5136 - dense_27_accuracy: 0.5390 - dense_29_accuracy: 0.4797 - val_loss: 2.3831 - val_dense_30_loss: 0.6884 - val_dense_27_loss: 1.1563 - val_dense_29_loss: 0.5385 - val_dense_30_accuracy: 0.4545 - val_dense_27_accuracy: 0.3333 - val_dense_29_accuracy: 1.0000 - lr: 0.0010\n",
            "Epoch 2/20\n",
            "19/19 [==============================] - 2s 107ms/step - loss: 2.0258 - dense_30_loss: 0.5988 - dense_27_loss: 0.6473 - dense_29_loss: 0.7797 - dense_30_accuracy: 0.6847 - dense_27_accuracy: 0.6966 - dense_29_accuracy: 0.6441 - val_loss: 2.2967 - val_dense_30_loss: 0.6607 - val_dense_27_loss: 0.8435 - val_dense_29_loss: 0.7925 - val_dense_30_accuracy: 0.4545 - val_dense_27_accuracy: 0.4242 - val_dense_29_accuracy: 0.4545 - lr: 0.0010\n",
            "Epoch 3/20\n",
            "19/19 [==============================] - 2s 106ms/step - loss: 1.3962 - dense_30_loss: 0.4515 - dense_27_loss: 0.4464 - dense_29_loss: 0.4983 - dense_30_accuracy: 0.8136 - dense_27_accuracy: 0.8237 - dense_29_accuracy: 0.8085 - val_loss: 3.2830 - val_dense_30_loss: 1.0183 - val_dense_27_loss: 1.1263 - val_dense_29_loss: 1.1384 - val_dense_30_accuracy: 0.3030 - val_dense_27_accuracy: 0.3333 - val_dense_29_accuracy: 0.3030 - lr: 0.0010\n",
            "Epoch 4/20\n",
            "19/19 [==============================] - 2s 106ms/step - loss: 1.0850 - dense_30_loss: 0.3718 - dense_27_loss: 0.3414 - dense_29_loss: 0.3718 - dense_30_accuracy: 0.8475 - dense_27_accuracy: 0.8593 - dense_29_accuracy: 0.8542 - val_loss: 3.3780 - val_dense_30_loss: 1.0707 - val_dense_27_loss: 1.2107 - val_dense_29_loss: 1.0966 - val_dense_30_accuracy: 0.3939 - val_dense_27_accuracy: 0.4242 - val_dense_29_accuracy: 0.3636 - lr: 1.0000e-04\n",
            "Epoch 5/20\n",
            "19/19 [==============================] - 2s 106ms/step - loss: 1.0090 - dense_30_loss: 0.3394 - dense_27_loss: 0.3200 - dense_29_loss: 0.3497 - dense_30_accuracy: 0.8576 - dense_27_accuracy: 0.8729 - dense_29_accuracy: 0.8559 - val_loss: 3.6903 - val_dense_30_loss: 1.2758 - val_dense_27_loss: 1.2127 - val_dense_29_loss: 1.2017 - val_dense_30_accuracy: 0.3636 - val_dense_27_accuracy: 0.4242 - val_dense_29_accuracy: 0.3333 - lr: 1.0000e-04\n",
            "Epoch 6/20\n",
            "19/19 [==============================] - 2s 107ms/step - loss: 0.9651 - dense_30_loss: 0.3279 - dense_27_loss: 0.3025 - dense_29_loss: 0.3347 - dense_30_accuracy: 0.8678 - dense_27_accuracy: 0.8797 - dense_29_accuracy: 0.8780 - val_loss: 3.7018 - val_dense_30_loss: 1.1893 - val_dense_27_loss: 1.2942 - val_dense_29_loss: 1.2183 - val_dense_30_accuracy: 0.3939 - val_dense_27_accuracy: 0.3939 - val_dense_29_accuracy: 0.3333 - lr: 1.0000e-04\n",
            "Epoch 7/20\n",
            "19/19 [==============================] - 2s 107ms/step - loss: 0.9283 - dense_30_loss: 0.3211 - dense_27_loss: 0.2793 - dense_29_loss: 0.3279 - dense_30_accuracy: 0.8763 - dense_27_accuracy: 0.8729 - dense_29_accuracy: 0.8797 - val_loss: 3.4814 - val_dense_30_loss: 1.1459 - val_dense_27_loss: 1.1700 - val_dense_29_loss: 1.1655 - val_dense_30_accuracy: 0.4242 - val_dense_27_accuracy: 0.4242 - val_dense_29_accuracy: 0.4242 - lr: 1.0000e-04\n",
            "Epoch 8/20\n",
            "19/19 [==============================] - 2s 107ms/step - loss: 0.9055 - dense_30_loss: 0.3124 - dense_27_loss: 0.2709 - dense_29_loss: 0.3222 - dense_30_accuracy: 0.8746 - dense_27_accuracy: 0.8915 - dense_29_accuracy: 0.8661 - val_loss: 6.0967 - val_dense_30_loss: 1.9946 - val_dense_27_loss: 2.0949 - val_dense_29_loss: 2.0072 - val_dense_30_accuracy: 0.1818 - val_dense_27_accuracy: 0.1818 - val_dense_29_accuracy: 0.2121 - lr: 1.0000e-04\n",
            "Epoch 9/20\n",
            "19/19 [==============================] - 2s 107ms/step - loss: 1.0446 - dense_30_loss: 0.3517 - dense_27_loss: 0.3190 - dense_29_loss: 0.3739 - dense_30_accuracy: 0.8407 - dense_27_accuracy: 0.8593 - dense_29_accuracy: 0.8525 - val_loss: 3.1059 - val_dense_30_loss: 1.0019 - val_dense_27_loss: 1.0758 - val_dense_29_loss: 1.0282 - val_dense_30_accuracy: 0.4848 - val_dense_27_accuracy: 0.4848 - val_dense_29_accuracy: 0.4545 - lr: 1.0000e-04\n",
            "Epoch 10/20\n",
            "19/19 [==============================] - 2s 106ms/step - loss: 0.8017 - dense_30_loss: 0.2738 - dense_27_loss: 0.2474 - dense_29_loss: 0.2805 - dense_30_accuracy: 0.8881 - dense_27_accuracy: 0.9017 - dense_29_accuracy: 0.8949 - val_loss: 4.1155 - val_dense_30_loss: 1.3443 - val_dense_27_loss: 1.3900 - val_dense_29_loss: 1.3812 - val_dense_30_accuracy: 0.3939 - val_dense_27_accuracy: 0.3939 - val_dense_29_accuracy: 0.4242 - lr: 1.0000e-04\n",
            "Epoch 11/20\n",
            "19/19 [==============================] - 2s 106ms/step - loss: 0.6717 - dense_30_loss: 0.2298 - dense_27_loss: 0.2127 - dense_29_loss: 0.2291 - dense_30_accuracy: 0.9068 - dense_27_accuracy: 0.9305 - dense_29_accuracy: 0.9153 - val_loss: 4.7777 - val_dense_30_loss: 1.6254 - val_dense_27_loss: 1.4526 - val_dense_29_loss: 1.6997 - val_dense_30_accuracy: 0.3636 - val_dense_27_accuracy: 0.4242 - val_dense_29_accuracy: 0.3939 - lr: 1.0000e-04\n",
            "Epoch 12/20\n",
            "19/19 [==============================] - 2s 106ms/step - loss: 0.6007 - dense_30_loss: 0.2018 - dense_27_loss: 0.1953 - dense_29_loss: 0.2036 - dense_30_accuracy: 0.9203 - dense_27_accuracy: 0.9254 - dense_29_accuracy: 0.9220 - val_loss: 4.4354 - val_dense_30_loss: 1.4854 - val_dense_27_loss: 1.4086 - val_dense_29_loss: 1.5413 - val_dense_30_accuracy: 0.4848 - val_dense_27_accuracy: 0.4242 - val_dense_29_accuracy: 0.5152 - lr: 1.0000e-04\n",
            "Epoch 13/20\n",
            "19/19 [==============================] - 2s 109ms/step - loss: 0.6535 - dense_30_loss: 0.2259 - dense_27_loss: 0.1991 - dense_29_loss: 0.2285 - dense_30_accuracy: 0.9136 - dense_27_accuracy: 0.9305 - dense_29_accuracy: 0.9051 - val_loss: 6.2412 - val_dense_30_loss: 2.0186 - val_dense_27_loss: 2.1004 - val_dense_29_loss: 2.1223 - val_dense_30_accuracy: 0.3030 - val_dense_27_accuracy: 0.3333 - val_dense_29_accuracy: 0.2424 - lr: 1.0000e-04\n",
            "Epoch 14/20\n",
            "19/19 [==============================] - 2s 121ms/step - loss: 0.5631 - dense_30_loss: 0.1933 - dense_27_loss: 0.1757 - dense_29_loss: 0.1941 - dense_30_accuracy: 0.9305 - dense_27_accuracy: 0.9356 - dense_29_accuracy: 0.9186 - val_loss: 4.1079 - val_dense_30_loss: 1.3671 - val_dense_27_loss: 1.3034 - val_dense_29_loss: 1.4374 - val_dense_30_accuracy: 0.5152 - val_dense_27_accuracy: 0.4848 - val_dense_29_accuracy: 0.5152 - lr: 1.0000e-04\n",
            "Epoch 15/20\n",
            "19/19 [==============================] - 2s 105ms/step - loss: 0.6196 - dense_30_loss: 0.2270 - dense_27_loss: 0.1938 - dense_29_loss: 0.1988 - dense_30_accuracy: 0.9153 - dense_27_accuracy: 0.9186 - dense_29_accuracy: 0.9203 - val_loss: 3.1399 - val_dense_30_loss: 0.9897 - val_dense_27_loss: 1.0786 - val_dense_29_loss: 1.0715 - val_dense_30_accuracy: 0.5758 - val_dense_27_accuracy: 0.5455 - val_dense_29_accuracy: 0.5758 - lr: 1.0000e-04\n",
            "Epoch 16/20\n",
            "19/19 [==============================] - 2s 105ms/step - loss: 0.5286 - dense_30_loss: 0.1908 - dense_27_loss: 0.1578 - dense_29_loss: 0.1800 - dense_30_accuracy: 0.9254 - dense_27_accuracy: 0.9390 - dense_29_accuracy: 0.9458 - val_loss: 4.3358 - val_dense_30_loss: 1.4511 - val_dense_27_loss: 1.3909 - val_dense_29_loss: 1.4938 - val_dense_30_accuracy: 0.4545 - val_dense_27_accuracy: 0.4242 - val_dense_29_accuracy: 0.4545 - lr: 1.0000e-04\n",
            "Epoch 17/20\n",
            "19/19 [==============================] - 2s 104ms/step - loss: 0.4321 - dense_30_loss: 0.1460 - dense_27_loss: 0.1379 - dense_29_loss: 0.1482 - dense_30_accuracy: 0.9542 - dense_27_accuracy: 0.9576 - dense_29_accuracy: 0.9458 - val_loss: 5.1321 - val_dense_30_loss: 1.6880 - val_dense_27_loss: 1.6847 - val_dense_29_loss: 1.7595 - val_dense_30_accuracy: 0.4242 - val_dense_27_accuracy: 0.4242 - val_dense_29_accuracy: 0.4242 - lr: 1.0000e-05\n",
            "Epoch 18/20\n",
            "19/19 [==============================] - 2s 104ms/step - loss: 0.3935 - dense_30_loss: 0.1330 - dense_27_loss: 0.1235 - dense_29_loss: 0.1370 - dense_30_accuracy: 0.9542 - dense_27_accuracy: 0.9576 - dense_29_accuracy: 0.9559 - val_loss: 5.1700 - val_dense_30_loss: 1.6988 - val_dense_27_loss: 1.7054 - val_dense_29_loss: 1.7658 - val_dense_30_accuracy: 0.4242 - val_dense_27_accuracy: 0.4242 - val_dense_29_accuracy: 0.4242 - lr: 1.0000e-05\n",
            "Epoch 19/20\n",
            "19/19 [==============================] - 2s 105ms/step - loss: 0.3933 - dense_30_loss: 0.1300 - dense_27_loss: 0.1355 - dense_29_loss: 0.1278 - dense_30_accuracy: 0.9593 - dense_27_accuracy: 0.9492 - dense_29_accuracy: 0.9576 - val_loss: 4.9840 - val_dense_30_loss: 1.6338 - val_dense_27_loss: 1.6468 - val_dense_29_loss: 1.7035 - val_dense_30_accuracy: 0.4545 - val_dense_27_accuracy: 0.4242 - val_dense_29_accuracy: 0.4545 - lr: 1.0000e-05\n",
            "Epoch 20/20\n",
            "19/19 [==============================] - 2s 105ms/step - loss: 0.3624 - dense_30_loss: 0.1244 - dense_27_loss: 0.1175 - dense_29_loss: 0.1205 - dense_30_accuracy: 0.9593 - dense_27_accuracy: 0.9576 - dense_29_accuracy: 0.9644 - val_loss: 5.1237 - val_dense_30_loss: 1.6799 - val_dense_27_loss: 1.6883 - val_dense_29_loss: 1.7556 - val_dense_30_accuracy: 0.4545 - val_dense_27_accuracy: 0.4242 - val_dense_29_accuracy: 0.4545 - lr: 1.0000e-05\n"
          ]
        }
      ]
    },
    {
      "cell_type": "code",
      "source": [
        "test_acc = model.evaluate(ts_images,  ts_labels, verbose=2)\n",
        "print(test_acc)"
      ],
      "metadata": {
        "colab": {
          "base_uri": "https://localhost:8080/"
        },
        "id": "MGDH7bLxP58k",
        "outputId": "71d5a8ce-25b6-4732-cbc8-be1b63a29c09"
      },
      "execution_count": null,
      "outputs": [
        {
          "output_type": "stream",
          "name": "stdout",
          "text": [
            "2/2 - 0s - loss: 5.1237 - dense_30_loss: 1.6799 - dense_27_loss: 1.6883 - dense_29_loss: 1.7556 - dense_30_accuracy: 0.4545 - dense_27_accuracy: 0.4242 - dense_29_accuracy: 0.4545 - 85ms/epoch - 42ms/step\n",
            "[5.123749732971191, 1.6798522472381592, 1.6883286237716675, 1.7555689811706543, 0.4545454680919647, 0.42424243688583374, 0.4545454680919647]\n"
          ]
        }
      ]
    },
    {
      "cell_type": "code",
      "source": [
        "yhat_probs = model.predict(ts_images, verbose=0) # predict probabilities for test set\n",
        "print(yhat_probs)\n",
        "yhat_classes = np.argmax(yhat_probs[0],axis=1) #1-D array of classes\n",
        "\n",
        "accuracy = accuracy_score(ts_labels, yhat_classes)\n",
        "print('Accuracy: %f' % accuracy)\n",
        "precision = precision_score(ts_labels, yhat_classes)\n",
        "print('Precision: %f' % precision)\n",
        "recall = recall_score(ts_labels, yhat_classes)\n",
        "print('Recall: %f' % recall)\n",
        "f1 = f1_score(ts_labels, yhat_classes)\n",
        "print('F1 score: %f' % f1)\n",
        "\n",
        "matrix = confusion_matrix(ts_labels, yhat_classes)\n",
        "print(matrix)"
      ],
      "metadata": {
        "colab": {
          "base_uri": "https://localhost:8080/"
        },
        "id": "0Kgr2YlnP7Pd",
        "outputId": "c6fef0b0-8d0a-401b-eea3-7f9117340049"
      },
      "execution_count": null,
      "outputs": [
        {
          "output_type": "stream",
          "name": "stdout",
          "text": [
            "[array([[2.17124559e-02, 9.78287518e-01],\n",
            "       [1.86180342e-02, 9.81382012e-01],\n",
            "       [2.37147398e-02, 9.76285279e-01],\n",
            "       [9.44728494e-01, 5.52715212e-02],\n",
            "       [2.71234680e-02, 9.72876489e-01],\n",
            "       [2.03641187e-02, 9.79635835e-01],\n",
            "       [9.82151031e-01, 1.78489890e-02],\n",
            "       [3.69138092e-01, 6.30861878e-01],\n",
            "       [1.53063405e-02, 9.84693646e-01],\n",
            "       [3.18431050e-01, 6.81568980e-01],\n",
            "       [2.21383914e-01, 7.78616071e-01],\n",
            "       [7.73437619e-01, 2.26562336e-01],\n",
            "       [1.36352060e-02, 9.86364722e-01],\n",
            "       [3.52528766e-02, 9.64747071e-01],\n",
            "       [9.59993541e-01, 4.00064923e-02],\n",
            "       [3.75932455e-01, 6.24067485e-01],\n",
            "       [1.78731065e-02, 9.82126892e-01],\n",
            "       [9.68399644e-01, 3.16003449e-02],\n",
            "       [9.18141484e-01, 8.18584710e-02],\n",
            "       [7.97953427e-01, 2.02046648e-01],\n",
            "       [9.97325778e-01, 2.67425226e-03],\n",
            "       [9.90595937e-01, 9.40412469e-03],\n",
            "       [7.87285686e-01, 2.12714270e-01],\n",
            "       [5.25080621e-01, 4.74919349e-01],\n",
            "       [4.75146286e-02, 9.52485323e-01],\n",
            "       [9.21486914e-01, 7.85130858e-02],\n",
            "       [9.99042928e-01, 9.57049546e-04],\n",
            "       [1.94110408e-01, 8.05889606e-01],\n",
            "       [9.85951543e-01, 1.40484227e-02],\n",
            "       [7.62661025e-02, 9.23733950e-01],\n",
            "       [9.44222331e-01, 5.57776466e-02],\n",
            "       [7.75547624e-02, 9.22445238e-01],\n",
            "       [1.32294195e-02, 9.86770630e-01]], dtype=float32), array([[1.53807653e-02, 9.84614432e-01, 2.21800974e-06, 1.48677429e-06,\n",
            "        1.08550057e-06],\n",
            "       [2.07947325e-02, 9.79196489e-01, 4.04285220e-06, 2.46419859e-06,\n",
            "        2.26921475e-06],\n",
            "       [1.63336936e-02, 9.83645320e-01, 9.18549449e-06, 6.97959695e-06,\n",
            "        4.85266401e-06],\n",
            "       [6.27908170e-01, 3.72091055e-01, 4.18805030e-07, 2.05056295e-07,\n",
            "        1.24284966e-07],\n",
            "       [2.50395052e-02, 9.74927545e-01, 1.42899244e-05, 1.00301040e-05,\n",
            "        8.66311166e-06],\n",
            "       [1.53142726e-02, 9.84654427e-01, 1.35832597e-05, 1.02138138e-05,\n",
            "        7.41348549e-06],\n",
            "       [9.88349319e-01, 1.16503108e-02, 1.88897786e-07, 7.97144750e-08,\n",
            "        6.71258036e-08],\n",
            "       [2.53168911e-01, 7.46593356e-01, 1.00461744e-04, 7.41078620e-05,\n",
            "        6.32193696e-05],\n",
            "       [2.00855955e-02, 9.79910731e-01, 1.75079379e-06, 1.08655979e-06,\n",
            "        9.90047965e-07],\n",
            "       [1.76716611e-01, 8.23091328e-01, 8.17181426e-05, 7.49363826e-05,\n",
            "        3.53167161e-05],\n",
            "       [3.28526825e-01, 6.65358126e-01, 2.29368871e-03, 1.85517361e-03,\n",
            "        1.96623942e-03],\n",
            "       [8.51941407e-01, 1.48038864e-01, 9.32810508e-06, 5.80031019e-06,\n",
            "        4.52052609e-06],\n",
            "       [1.01156514e-02, 9.89882886e-01, 6.30321836e-07, 3.91516807e-07,\n",
            "        3.08565518e-07],\n",
            "       [1.46434695e-01, 8.53549361e-01, 6.72725264e-06, 4.84321299e-06,\n",
            "        4.41513112e-06],\n",
            "       [9.66307580e-01, 3.36456634e-02, 2.37716613e-05, 1.24307935e-05,\n",
            "        1.05649397e-05],\n",
            "       [8.37880254e-01, 1.62082866e-01, 1.58277708e-05, 9.16447425e-06,\n",
            "        1.18846528e-05],\n",
            "       [1.46115227e-02, 9.85373437e-01, 6.41046336e-06, 5.20521235e-06,\n",
            "        3.41361283e-06],\n",
            "       [9.79621410e-01, 2.03720704e-02, 3.44427031e-06, 1.87435217e-06,\n",
            "        1.20543859e-06],\n",
            "       [9.25677180e-01, 7.43149966e-02, 4.13352200e-06, 2.00295108e-06,\n",
            "        1.70073065e-06],\n",
            "       [9.47970927e-01, 5.20140678e-02, 5.97157077e-06, 3.61925140e-06,\n",
            "        5.44667500e-06],\n",
            "       [9.99241948e-01, 7.58111128e-04, 5.71295722e-09, 2.38801490e-09,\n",
            "        1.71023795e-09],\n",
            "       [9.96394813e-01, 3.60513898e-03, 3.53020866e-08, 1.34874414e-08,\n",
            "        1.18562893e-08],\n",
            "       [2.46197134e-01, 7.53788650e-01, 6.90308570e-06, 4.81964071e-06,\n",
            "        2.48592869e-06],\n",
            "       [1.62532285e-01, 8.37404728e-01, 2.79176002e-05, 2.03535910e-05,\n",
            "        1.46473676e-05],\n",
            "       [2.10259259e-01, 7.89734662e-01, 2.70935220e-06, 1.85617262e-06,\n",
            "        1.61429728e-06],\n",
            "       [6.16895437e-01, 3.83092999e-01, 5.79907919e-06, 3.47026980e-06,\n",
            "        2.25593499e-06],\n",
            "       [9.99803126e-01, 1.96948284e-04, 1.01780229e-09, 3.24335808e-10,\n",
            "        1.51382365e-10],\n",
            "       [1.41740739e-01, 8.57872188e-01, 1.65955076e-04, 1.28705607e-04,\n",
            "        9.24063279e-05],\n",
            "       [9.86240685e-01, 1.37564754e-02, 1.43509317e-06, 7.09087203e-07,\n",
            "        7.49273966e-07],\n",
            "       [1.04234360e-01, 8.95402431e-01, 1.51124434e-04, 1.06897169e-04,\n",
            "        1.05273917e-04],\n",
            "       [9.71906006e-01, 2.80934367e-02, 3.32236141e-07, 1.22608213e-07,\n",
            "        1.69172068e-07],\n",
            "       [1.72745556e-01, 8.26309383e-01, 3.73559858e-04, 3.07605049e-04,\n",
            "        2.63852213e-04],\n",
            "       [1.06803123e-02, 9.89316463e-01, 1.47054561e-06, 9.93177991e-07,\n",
            "        7.70235602e-07]], dtype=float32), array([[1.3888742e-02, 9.8611116e-01, 4.4971041e-11, ..., 9.7447640e-11,\n",
            "        1.3734537e-10, 1.4681503e-11],\n",
            "       [1.5697120e-02, 9.8430276e-01, 2.9330698e-11, ..., 7.4255477e-11,\n",
            "        1.0086319e-10, 1.0138797e-11],\n",
            "       [1.7666215e-02, 9.8233289e-01, 2.8188607e-10, ..., 5.4362126e-10,\n",
            "        7.7692269e-10, 9.9335956e-11],\n",
            "       ...,\n",
            "       [9.6104628e-01, 3.8953565e-02, 2.3690412e-11, ..., 3.5415754e-11,\n",
            "        1.6027389e-10, 1.1456088e-11],\n",
            "       [1.0250047e-01, 8.9747232e-01, 9.0792822e-09, ..., 1.4694970e-08,\n",
            "        2.3122270e-08, 3.9384536e-09],\n",
            "       [1.0236836e-02, 9.8976314e-01, 4.5440769e-12, ..., 1.1668848e-11,\n",
            "        1.6819783e-11, 1.4036249e-12]], dtype=float32)]\n",
            "Accuracy: 0.454545\n",
            "Precision: 0.000000\n",
            "Recall: 0.000000\n",
            "F1 score: 0.000000\n",
            "[[15 18]\n",
            " [ 0  0]]\n"
          ]
        },
        {
          "output_type": "stream",
          "name": "stderr",
          "text": [
            "/usr/local/lib/python3.7/dist-packages/sklearn/metrics/_classification.py:1318: UndefinedMetricWarning: Recall is ill-defined and being set to 0.0 due to no true samples. Use `zero_division` parameter to control this behavior.\n",
            "  _warn_prf(average, modifier, msg_start, len(result))\n"
          ]
        }
      ]
    }
  ]
}